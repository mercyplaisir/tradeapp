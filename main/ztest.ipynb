{
 "metadata": {
  "language_info": {
   "codemirror_mode": {
    "name": "ipython",
    "version": 3
   },
   "file_extension": ".py",
   "mimetype": "text/x-python",
   "name": "python",
   "nbconvert_exporter": "python",
   "pygments_lexer": "ipython3",
   "version": "3.8.5"
  },
  "orig_nbformat": 2,
  "kernelspec": {
   "name": "python385jvsc74a57bd031f2aee4e71d21fbe5cf8b01ff0e069b9275f58929596ceb00d14d90e3e16cd6",
   "display_name": "Python 3.8.5 64-bit"
  },
  "metadata": {
   "interpreter": {
    "hash": "31f2aee4e71d21fbe5cf8b01ff0e069b9275f58929596ceb00d14d90e3e16cd6"
   }
  }
 },
 "nbformat": 4,
 "nbformat_minor": 2,
 "cells": [
  {
   "cell_type": "code",
   "execution_count": 1,
   "metadata": {},
   "outputs": [],
   "source": [
    "import sys\n",
    "\n",
    "import numpy as np\n",
    "import pandas as pd\n",
    "\n",
    "from tools import BINANCEKLINES, KLINEPATH\n",
    "sys.path.append(\"..\")\n",
    "from Indicators.sma import Sma\n",
    "from Indicators.rsi import Rsi\n",
    "from Indicators.bb import Bollingerbands"
   ]
  },
  {
   "cell_type": "code",
   "execution_count": 2,
   "metadata": {},
   "outputs": [],
   "source": [
    "smaInd = Sma()\n",
    "rsiInd = Rsi()\n",
    "bbInd = Bollingerbands()\n",
    "\n",
    "decisions = []"
   ]
  },
  {
   "cell_type": "code",
   "execution_count": 3,
   "metadata": {},
   "outputs": [],
   "source": [
    "smaDecision = smaInd.priceStudy(30)\n",
    "rsiDecision = rsiInd.priceStudy()\n",
    "bbDecision = bbInd.priceStudy()\n",
    "\n"
   ]
  },
  {
   "cell_type": "code",
   "execution_count": 4,
   "metadata": {},
   "outputs": [],
   "source": [
    "decisions = [smaDecision,rsiDecision,bbDecision]"
   ]
  },
  {
   "cell_type": "code",
   "execution_count": 5,
   "metadata": {},
   "outputs": [
    {
     "output_type": "execute_result",
     "data": {
      "text/plain": [
       "['buy', 'sell', 'buy']"
      ]
     },
     "metadata": {},
     "execution_count": 5
    }
   ],
   "source": [
    "decisions"
   ]
  },
  {
   "cell_type": "code",
   "execution_count": 6,
   "metadata": {},
   "outputs": [
    {
     "output_type": "stream",
     "name": "stdout",
     "text": [
      "68.13643611051116 39728.54777777778\n"
     ]
    }
   ],
   "source": [
    "print(rsiInd.rsiMean,rsiInd.priceMean)"
   ]
  },
  {
   "cell_type": "code",
   "execution_count": 8,
   "metadata": {},
   "outputs": [
    {
     "output_type": "execute_result",
     "data": {
      "text/plain": [
       "                            mid           top           bot\n",
       "date                                                       \n",
       "2021-07-24 21:45:00      0.0000      0.000000      0.000000\n",
       "2021-07-24 22:00:00      0.0000      0.000000      0.000000\n",
       "2021-07-24 22:15:00      0.0000      0.000000      0.000000\n",
       "2021-07-24 22:30:00      0.0000      0.000000      0.000000\n",
       "2021-07-24 22:45:00      0.0000      0.000000      0.000000\n",
       "...                         ...           ...           ...\n",
       "2021-07-26 20:30:00  38877.1540  39846.498956  37907.809044\n",
       "2021-07-26 20:45:00  38946.4905  39945.140838  37947.840162\n",
       "2021-07-26 21:00:00  39036.1710  40151.881257  37920.460743\n",
       "2021-07-26 21:15:00  39129.2295  40332.236698  37926.222302\n",
       "2021-07-26 21:30:00  39209.6480  40373.991070  38045.304930\n",
       "\n",
       "[192 rows x 3 columns]"
      ],
      "text/html": "<div>\n<style scoped>\n    .dataframe tbody tr th:only-of-type {\n        vertical-align: middle;\n    }\n\n    .dataframe tbody tr th {\n        vertical-align: top;\n    }\n\n    .dataframe thead th {\n        text-align: right;\n    }\n</style>\n<table border=\"1\" class=\"dataframe\">\n  <thead>\n    <tr style=\"text-align: right;\">\n      <th></th>\n      <th>mid</th>\n      <th>top</th>\n      <th>bot</th>\n    </tr>\n    <tr>\n      <th>date</th>\n      <th></th>\n      <th></th>\n      <th></th>\n    </tr>\n  </thead>\n  <tbody>\n    <tr>\n      <th>2021-07-24 21:45:00</th>\n      <td>0.0000</td>\n      <td>0.000000</td>\n      <td>0.000000</td>\n    </tr>\n    <tr>\n      <th>2021-07-24 22:00:00</th>\n      <td>0.0000</td>\n      <td>0.000000</td>\n      <td>0.000000</td>\n    </tr>\n    <tr>\n      <th>2021-07-24 22:15:00</th>\n      <td>0.0000</td>\n      <td>0.000000</td>\n      <td>0.000000</td>\n    </tr>\n    <tr>\n      <th>2021-07-24 22:30:00</th>\n      <td>0.0000</td>\n      <td>0.000000</td>\n      <td>0.000000</td>\n    </tr>\n    <tr>\n      <th>2021-07-24 22:45:00</th>\n      <td>0.0000</td>\n      <td>0.000000</td>\n      <td>0.000000</td>\n    </tr>\n    <tr>\n      <th>...</th>\n      <td>...</td>\n      <td>...</td>\n      <td>...</td>\n    </tr>\n    <tr>\n      <th>2021-07-26 20:30:00</th>\n      <td>38877.1540</td>\n      <td>39846.498956</td>\n      <td>37907.809044</td>\n    </tr>\n    <tr>\n      <th>2021-07-26 20:45:00</th>\n      <td>38946.4905</td>\n      <td>39945.140838</td>\n      <td>37947.840162</td>\n    </tr>\n    <tr>\n      <th>2021-07-26 21:00:00</th>\n      <td>39036.1710</td>\n      <td>40151.881257</td>\n      <td>37920.460743</td>\n    </tr>\n    <tr>\n      <th>2021-07-26 21:15:00</th>\n      <td>39129.2295</td>\n      <td>40332.236698</td>\n      <td>37926.222302</td>\n    </tr>\n    <tr>\n      <th>2021-07-26 21:30:00</th>\n      <td>39209.6480</td>\n      <td>40373.991070</td>\n      <td>38045.304930</td>\n    </tr>\n  </tbody>\n</table>\n<p>192 rows × 3 columns</p>\n</div>"
     },
     "metadata": {},
     "execution_count": 8
    }
   ],
   "source": [
    "rsiInd.klines()"
   ]
  },
  {
   "cell_type": "code",
   "execution_count": 2,
   "metadata": {},
   "outputs": [],
   "source": [
    "import mysql.connector"
   ]
  },
  {
   "cell_type": "code",
   "execution_count": 3,
   "metadata": {},
   "outputs": [],
   "source": [
    "mydb = mysql.connector.connect(\n",
    "                host='localhost',\n",
    "                user='root',\n",
    "                passwd='Pl@isir6',\n",
    "                database='bot'\n",
    "            )"
   ]
  },
  {
   "cell_type": "code",
   "execution_count": 4,
   "metadata": {},
   "outputs": [],
   "source": [
    "mycursor = mydb.cursor()\n",
    "mycursor.execute(\"select quantity from Balance where coinName = 'DOGE'\")\n"
   ]
  },
  {
   "cell_type": "code",
   "execution_count": 5,
   "metadata": {},
   "outputs": [],
   "source": [
    "resulta = mycursor.fetchall()"
   ]
  },
  {
   "cell_type": "code",
   "execution_count": 1,
   "metadata": {},
   "outputs": [],
   "source": [
    "z=['buy','buy','buy']"
   ]
  },
  {
   "cell_type": "code",
   "execution_count": 4,
   "metadata": {},
   "outputs": [],
   "source": [
    "import random"
   ]
  },
  {
   "cell_type": "code",
   "execution_count": 127,
   "metadata": {},
   "outputs": [
    {
     "output_type": "execute_result",
     "data": {
      "text/plain": [
       "1"
      ]
     },
     "metadata": {},
     "execution_count": 127
    }
   ],
   "source": [
    "random.randint(0,9)"
   ]
  }
 ]
}