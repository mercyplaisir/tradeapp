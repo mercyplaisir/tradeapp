{
 "metadata": {
  "language_info": {
   "codemirror_mode": {
    "name": "ipython",
    "version": 3
   },
   "file_extension": ".py",
   "mimetype": "text/x-python",
   "name": "python",
   "nbconvert_exporter": "python",
   "pygments_lexer": "ipython3",
   "version": "3.8.5"
  },
  "orig_nbformat": 2,
  "kernelspec": {
   "name": "python385jvsc74a57bd031f2aee4e71d21fbe5cf8b01ff0e069b9275f58929596ceb00d14d90e3e16cd6",
   "display_name": "Python 3.8.5 64-bit"
  },
  "metadata": {
   "interpreter": {
    "hash": "31f2aee4e71d21fbe5cf8b01ff0e069b9275f58929596ceb00d14d90e3e16cd6"
   }
  }
 },
 "nbformat": 4,
 "nbformat_minor": 2,
 "cells": [
  {
   "cell_type": "code",
   "execution_count": 2,
   "metadata": {},
   "outputs": [],
   "source": [
    "import sys\n",
    "\n",
    "import numpy as np\n",
    "import pandas as pd\n",
    "\n",
    "from tools import BINANCEKLINES, KLINEPATH\n",
    "sys.path.append(\"..\")\n",
    "from Indicators.sma import Sma\n",
    "from Indicators.rsi import Rsi\n",
    "from Indicators.bb import Bollingerbands"
   ]
  },
  {
   "cell_type": "code",
   "execution_count": 3,
   "metadata": {},
   "outputs": [],
   "source": [
    "smaInd = Sma()\n",
    "rsiInd = Rsi()\n",
    "bbInd = Bollingerbands()\n",
    "\n",
    "decisions = []"
   ]
  },
  {
   "cell_type": "code",
   "execution_count": 4,
   "metadata": {},
   "outputs": [],
   "source": [
    "smaDecision = smaInd.priceStudy(30)\n",
    "rsiDecision = rsiInd.priceStudy()\n",
    "bbDecision = bbInd.priceStudy()\n",
    "\n"
   ]
  },
  {
   "cell_type": "code",
   "execution_count": 5,
   "metadata": {},
   "outputs": [],
   "source": [
    "decisions = [smaDecision,rsiDecision,bbDecision]"
   ]
  },
  {
   "cell_type": "code",
   "execution_count": 6,
   "metadata": {},
   "outputs": [
    {
     "output_type": "execute_result",
     "data": {
      "text/plain": [
       "['buy', 'sell', 'buy']"
      ]
     },
     "metadata": {},
     "execution_count": 6
    }
   ],
   "source": [
    "decisions"
   ]
  }
 ]
}