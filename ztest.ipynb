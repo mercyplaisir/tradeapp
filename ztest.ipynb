{
 "metadata": {
  "language_info": {
   "codemirror_mode": {
    "name": "ipython",
    "version": 3
   },
   "file_extension": ".py",
   "mimetype": "text/x-python",
   "name": "python",
   "nbconvert_exporter": "python",
   "pygments_lexer": "ipython3",
   "version": "3.8.5"
  },
  "orig_nbformat": 2,
  "kernelspec": {
   "name": "python385jvsc74a57bd031f2aee4e71d21fbe5cf8b01ff0e069b9275f58929596ceb00d14d90e3e16cd6",
   "display_name": "Python 3.8.5 64-bit"
  },
  "metadata": {
   "interpreter": {
    "hash": "31f2aee4e71d21fbe5cf8b01ff0e069b9275f58929596ceb00d14d90e3e16cd6"
   }
  }
 },
 "nbformat": 4,
 "nbformat_minor": 2,
 "cells": [
  {
   "cell_type": "code",
   "execution_count": 2,
   "metadata": {},
   "outputs": [
    {
     "output_type": "stream",
     "name": "stdout",
     "text": [
      "\n\n\n                   ,.=ctE55ttt553tzs.,                           \n               ,,c5;z==!!::::  .::7:==it3>.,                      \n            ,xC;z!::::::    ::::::::::::!=c33x,                   \n          ,czz!:::::  ::;;..===:..:::   ::::!ct3.                 \n        ,C;/.:: :  ;=c!:::::::::::::::..      !tt3.               \n       /z/.:   :;z!:::::J  :E3.  E:::::::..     !ct3.             \n     ,E;F   ::;t::::::::J  :E3.  E::.     ::.     \\ztL            \n    ;E7.    :c::::F******   **.  *==c;..    ::     Jttk           \n   .EJ.    ;::::::L                    \\:.   ::.    Jttl          \n   [:.    :::::::::773.    JE773zs.     I:. ::::.    It3L         \n  ;:[     L:::::::::::L    |t::!::J     |::::::::    :Et3         \n  [:L    !::::::::::::L    |t::;z2F    .Et:::.:::.  ::[13  CRYPTO \n  E:.    !::::::::::::L               =Et::::::::!  ::|13  TRADING \n  E:.    (::::::::::::L    .......       \\:::::::!  ::|i3  AI      \n  [:L    !::::      ::L    |3t::::!3.     ]::::::.  ::[13          \n  !:(     .:::::    ::L    |t::::::3L     |:::::; ::::EE3         \n   E3.    :::::::::;z5.    Jz;;;z=F.     :E:::::.::::II3[         \n   Jt1.    :::::::[                    ;z5::::;.::::;3t3          \n    \\z1.::::::::::l......   ..   ;.=ct5::::::/.::::;Et3L          \n     \\z3.:::::::::::::::J  :E3.  Et::::::::;!:::::;5E3L           \n      \\cz\\.:::::::::::::J   E3.  E:::::::z!     ;Zz37`            \n        \\z3.       ::;:::::::::::::::;='      ./355F              \n          \\z3x.         ::~======='         ,c253F                \n            \\ z3=.                      ..c5t32^                  \n               =zz3==...          ...=t3z13P^                     \n                    `*=zjzczIIII3zzztE3>*^`                        \n\n\n\n\n> Welcome to Crypto-Trading AI\n"
     ]
    }
   ],
   "source": [
    "\n",
    "    print(\"\\n\\n\\n                   ,.=ctE55ttt553tzs.,                           \\n\",\n",
    "          \"              ,,c5;z==!!::::  .::7:==it3>.,                      \\n\",\n",
    "          \"           ,xC;z!::::::    ::::::::::::!=c33x,                   \\n\",\n",
    "          \"         ,czz!:::::  ::;;..===:..:::   ::::!ct3.                 \\n\",\n",
    "          \"       ,C;/.:: :  ;=c!:::::::::::::::..      !tt3.               \\n\",\n",
    "          \"      /z/.:   :;z!:::::J  :E3.  E:::::::..     !ct3.             \\n\",\n",
    "          \"    ,E;F   ::;t::::::::J  :E3.  E::.     ::.     \\ztL            \\n\",\n",
    "          \"   ;E7.    :c::::F******   **.  *==c;..    ::     Jttk           \\n\",\n",
    "          \"  .EJ.    ;::::::L                    \\:.   ::.    Jttl          \\n\",\n",
    "          \"  [:.    :::::::::773.    JE773zs.     I:. ::::.    It3L         \\n\",\n",
    "          \" ;:[     L:::::::::::L    |t::!::J     |::::::::    :Et3         \\n\",\n",
    "          \" [:L    !::::::::::::L    |t::;z2F    .Et:::.:::.  ::[13  CRYPTO \\n\",\n",
    "          \" E:.    !::::::::::::L               =Et::::::::!  ::|13  TRADING \\n\",\n",
    "          \" E:.    (::::::::::::L    .......       \\:::::::!  ::|i3  AI      \\n\",\n",
    "          \" [:L    !::::      ::L    |3t::::!3.     ]::::::.  ::[13          \\n\",\n",
    "          \" !:(     .:::::    ::L    |t::::::3L     |:::::; ::::EE3         \\n\",\n",
    "          \"  E3.    :::::::::;z5.    Jz;;;z=F.     :E:::::.::::II3[         \\n\",\n",
    "          \"  Jt1.    :::::::[                    ;z5::::;.::::;3t3          \\n\",\n",
    "          \"   \\z1.::::::::::l......   ..   ;.=ct5::::::/.::::;Et3L          \\n\",\n",
    "          \"    \\z3.:::::::::::::::J  :E3.  Et::::::::;!:::::;5E3L           \\n\",\n",
    "          \"     \\cz\\.:::::::::::::J   E3.  E:::::::z!     ;Zz37`            \\n\",\n",
    "          \"       \\z3.       ::;:::::::::::::::;='      ./355F              \\n\",\n",
    "          \"         \\z3x.         ::~======='         ,c253F                \\n\",\n",
    "          \"           \\ z3=.                      ..c5t32^                  \\n\",\n",
    "          \"              =zz3==...          ...=t3z13P^                     \\n\",\n",
    "          \"                   `*=zjzczIIII3zzztE3>*^`                        \\n\\n\\n\")\n",
    "\n",
    "\n",
    "    print(\"\\n> Welcome to Crypto-Trading AI\")"
   ]
  }
 ]
}