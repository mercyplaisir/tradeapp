{
 "metadata": {
  "language_info": {
   "codemirror_mode": {
    "name": "ipython",
    "version": 3
   },
   "file_extension": ".py",
   "mimetype": "text/x-python",
   "name": "python",
   "nbconvert_exporter": "python",
   "pygments_lexer": "ipython3",
   "version": "3.8.5"
  },
  "orig_nbformat": 2,
  "kernelspec": {
   "name": "python385jvsc74a57bd031f2aee4e71d21fbe5cf8b01ff0e069b9275f58929596ceb00d14d90e3e16cd6",
   "display_name": "Python 3.8.5 64-bit"
  },
  "metadata": {
   "interpreter": {
    "hash": "31f2aee4e71d21fbe5cf8b01ff0e069b9275f58929596ceb00d14d90e3e16cd6"
   }
  }
 },
 "nbformat": 4,
 "nbformat_minor": 2,
 "cells": [
  {
   "cell_type": "code",
   "execution_count": 1,
   "metadata": {},
   "outputs": [],
   "source": [
    "import pandas as pd\n",
    "import btalib\n",
    "from tools import KLINEPATH,BINANCEKLINES\n",
    "\n",
    "from BinanceApi import Binance"
   ]
  },
  {
   "cell_type": "code",
   "execution_count": 2,
   "metadata": {},
   "outputs": [
    {
     "output_type": "stream",
     "name": "stdout",
     "text": [
      "erreur de connexion\n"
     ]
    }
   ],
   "source": [
    "user=Binance()\n"
   ]
  },
  {
   "cell_type": "code",
   "execution_count": 3,
   "metadata": {},
   "outputs": [
    {
     "output_type": "stream",
     "name": "stdout",
     "text": [
      "2\n3\n"
     ]
    }
   ],
   "source": [
    "user.get_klines(coin_to_trade=\"BTCUSDT\")"
   ]
  },
  {
   "cell_type": "code",
   "execution_count": 4,
   "metadata": {},
   "outputs": [],
   "source": [
    "x= pd.read_csv(BINANCEKLINES,index_col='date')\n"
   ]
  },
  {
   "cell_type": "code",
   "execution_count": 5,
   "metadata": {},
   "outputs": [
    {
     "output_type": "execute_result",
     "data": {
      "text/plain": [
       "                         open      high       low     close       volume\n",
       "date                                                                    \n",
       "2021-07-24 18:45:00  34251.60  34444.00  34250.60  34423.48  1302.925397\n",
       "2021-07-24 19:00:00  34423.49  34500.00  34331.87  34410.57  1185.462031\n",
       "2021-07-24 19:15:00  34413.00  34446.24  34275.24  34289.58   732.593251\n",
       "2021-07-24 19:30:00  34289.58  34361.55  34185.53  34202.66   501.405218\n",
       "2021-07-24 19:45:00  34202.67  34334.17  34185.46  34300.02   587.622549\n",
       "...                       ...       ...       ...       ...          ...\n",
       "2021-07-26 17:30:00  38389.22  38644.40  38389.22  38618.99  1157.252534\n",
       "2021-07-26 17:45:00  38618.99  38675.11  38500.01  38562.21   757.662782\n",
       "2021-07-26 18:00:00  38562.21  38860.00  38492.31  38841.02  1338.443771\n",
       "2021-07-26 18:15:00  38841.02  39333.67  38627.46  39300.00  2607.263333\n",
       "2021-07-26 18:30:00  39300.17  39337.92  39061.55  39200.13   385.458040\n",
       "\n",
       "[192 rows x 5 columns]"
      ],
      "text/html": "<div>\n<style scoped>\n    .dataframe tbody tr th:only-of-type {\n        vertical-align: middle;\n    }\n\n    .dataframe tbody tr th {\n        vertical-align: top;\n    }\n\n    .dataframe thead th {\n        text-align: right;\n    }\n</style>\n<table border=\"1\" class=\"dataframe\">\n  <thead>\n    <tr style=\"text-align: right;\">\n      <th></th>\n      <th>open</th>\n      <th>high</th>\n      <th>low</th>\n      <th>close</th>\n      <th>volume</th>\n    </tr>\n    <tr>\n      <th>date</th>\n      <th></th>\n      <th></th>\n      <th></th>\n      <th></th>\n      <th></th>\n    </tr>\n  </thead>\n  <tbody>\n    <tr>\n      <th>2021-07-24 18:45:00</th>\n      <td>34251.60</td>\n      <td>34444.00</td>\n      <td>34250.60</td>\n      <td>34423.48</td>\n      <td>1302.925397</td>\n    </tr>\n    <tr>\n      <th>2021-07-24 19:00:00</th>\n      <td>34423.49</td>\n      <td>34500.00</td>\n      <td>34331.87</td>\n      <td>34410.57</td>\n      <td>1185.462031</td>\n    </tr>\n    <tr>\n      <th>2021-07-24 19:15:00</th>\n      <td>34413.00</td>\n      <td>34446.24</td>\n      <td>34275.24</td>\n      <td>34289.58</td>\n      <td>732.593251</td>\n    </tr>\n    <tr>\n      <th>2021-07-24 19:30:00</th>\n      <td>34289.58</td>\n      <td>34361.55</td>\n      <td>34185.53</td>\n      <td>34202.66</td>\n      <td>501.405218</td>\n    </tr>\n    <tr>\n      <th>2021-07-24 19:45:00</th>\n      <td>34202.67</td>\n      <td>34334.17</td>\n      <td>34185.46</td>\n      <td>34300.02</td>\n      <td>587.622549</td>\n    </tr>\n    <tr>\n      <th>...</th>\n      <td>...</td>\n      <td>...</td>\n      <td>...</td>\n      <td>...</td>\n      <td>...</td>\n    </tr>\n    <tr>\n      <th>2021-07-26 17:30:00</th>\n      <td>38389.22</td>\n      <td>38644.40</td>\n      <td>38389.22</td>\n      <td>38618.99</td>\n      <td>1157.252534</td>\n    </tr>\n    <tr>\n      <th>2021-07-26 17:45:00</th>\n      <td>38618.99</td>\n      <td>38675.11</td>\n      <td>38500.01</td>\n      <td>38562.21</td>\n      <td>757.662782</td>\n    </tr>\n    <tr>\n      <th>2021-07-26 18:00:00</th>\n      <td>38562.21</td>\n      <td>38860.00</td>\n      <td>38492.31</td>\n      <td>38841.02</td>\n      <td>1338.443771</td>\n    </tr>\n    <tr>\n      <th>2021-07-26 18:15:00</th>\n      <td>38841.02</td>\n      <td>39333.67</td>\n      <td>38627.46</td>\n      <td>39300.00</td>\n      <td>2607.263333</td>\n    </tr>\n    <tr>\n      <th>2021-07-26 18:30:00</th>\n      <td>39300.17</td>\n      <td>39337.92</td>\n      <td>39061.55</td>\n      <td>39200.13</td>\n      <td>385.458040</td>\n    </tr>\n  </tbody>\n</table>\n<p>192 rows × 5 columns</p>\n</div>"
     },
     "metadata": {},
     "execution_count": 5
    }
   ],
   "source": [
    "x"
   ]
  },
  {
   "cell_type": "code",
   "execution_count": 6,
   "metadata": {},
   "outputs": [
    {
     "output_type": "stream",
     "name": "stdout",
     "text": [
      "MACD =  {'pfast': 12, 'pslow': 26, 'psignal': 9, '_ma': <class 'btalib.indicators.ema.ema'>, '_masig': None} \n\nSMA =  {'period': 30} \n\nBB =  {'period': 20, 'devs': 2.0, '_ma': <class 'btalib.indicators.sma.sma'>, '_stdev': <class 'btalib.indicators.stddev.stddev'>} \n\nstochastic =  {'period': 14, 'pfast': 3, '_ma': <class 'btalib.indicators.sma.sma'>, 'pslow': 3, '_maslow': None} \n\nrsi =  {'period': 14, 'lookback': 1, '_ma': <class 'btalib.indicators.smma.smma'>} \n\n"
     ]
    }
   ],
   "source": [
    "print(\"MACD = \",btalib.macd.params,\"\\n\")\n",
    "print(\"SMA = \",btalib.sma.params,\"\\n\")\n",
    "print(\"BB = \",btalib.bbands.params,\"\\n\")\n",
    "print(\"stochastic = \",btalib.stochastic.params,\"\\n\")\n",
    "print(\"rsi = \",btalib.rsi.params,\"\\n\")"
   ]
  },
  {
   "cell_type": "code",
   "execution_count": 7,
   "metadata": {},
   "outputs": [
    {
     "output_type": "execute_result",
     "data": {
      "text/plain": [
       "                              sma\n",
       "date                             \n",
       "2021-07-24 18:45:00           NaN\n",
       "2021-07-24 19:00:00           NaN\n",
       "2021-07-24 19:15:00           NaN\n",
       "2021-07-24 19:30:00           NaN\n",
       "2021-07-24 19:45:00           NaN\n",
       "...                           ...\n",
       "2021-07-26 17:30:00  38356.815667\n",
       "2021-07-26 17:45:00  38374.461000\n",
       "2021-07-26 18:00:00  38401.422667\n",
       "2021-07-26 18:15:00  38438.275667\n",
       "2021-07-26 18:30:00  38470.748667\n",
       "\n",
       "[192 rows x 1 columns]"
      ],
      "text/html": "<div>\n<style scoped>\n    .dataframe tbody tr th:only-of-type {\n        vertical-align: middle;\n    }\n\n    .dataframe tbody tr th {\n        vertical-align: top;\n    }\n\n    .dataframe thead th {\n        text-align: right;\n    }\n</style>\n<table border=\"1\" class=\"dataframe\">\n  <thead>\n    <tr style=\"text-align: right;\">\n      <th></th>\n      <th>sma</th>\n    </tr>\n    <tr>\n      <th>date</th>\n      <th></th>\n    </tr>\n  </thead>\n  <tbody>\n    <tr>\n      <th>2021-07-24 18:45:00</th>\n      <td>NaN</td>\n    </tr>\n    <tr>\n      <th>2021-07-24 19:00:00</th>\n      <td>NaN</td>\n    </tr>\n    <tr>\n      <th>2021-07-24 19:15:00</th>\n      <td>NaN</td>\n    </tr>\n    <tr>\n      <th>2021-07-24 19:30:00</th>\n      <td>NaN</td>\n    </tr>\n    <tr>\n      <th>2021-07-24 19:45:00</th>\n      <td>NaN</td>\n    </tr>\n    <tr>\n      <th>...</th>\n      <td>...</td>\n    </tr>\n    <tr>\n      <th>2021-07-26 17:30:00</th>\n      <td>38356.815667</td>\n    </tr>\n    <tr>\n      <th>2021-07-26 17:45:00</th>\n      <td>38374.461000</td>\n    </tr>\n    <tr>\n      <th>2021-07-26 18:00:00</th>\n      <td>38401.422667</td>\n    </tr>\n    <tr>\n      <th>2021-07-26 18:15:00</th>\n      <td>38438.275667</td>\n    </tr>\n    <tr>\n      <th>2021-07-26 18:30:00</th>\n      <td>38470.748667</td>\n    </tr>\n  </tbody>\n</table>\n<p>192 rows × 1 columns</p>\n</div>"
     },
     "metadata": {},
     "execution_count": 7
    }
   ],
   "source": [
    "macd = btalib.sma(x)\n",
    "macd.df"
   ]
  },
  {
   "cell_type": "code",
   "execution_count": 8,
   "metadata": {},
   "outputs": [],
   "source": [
    "y=x.append(macd.df)\n",
    "\n",
    "y.to_csv(KLINEPATH,na_rep=0)\n",
    "y = pd.read_csv(KLINEPATH,index_col='date')"
   ]
  },
  {
   "cell_type": "code",
   "execution_count": 9,
   "metadata": {},
   "outputs": [
    {
     "output_type": "execute_result",
     "data": {
      "text/plain": [
       "'2021-07-26 18:30:00'"
      ]
     },
     "metadata": {},
     "execution_count": 9
    }
   ],
   "source": [
    "y.last_valid_index()"
   ]
  },
  {
   "cell_type": "code",
   "execution_count": 10,
   "metadata": {},
   "outputs": [
    {
     "output_type": "execute_result",
     "data": {
      "text/plain": [
       "                         open      high       low     close       volume  \\\n",
       "date                                                                       \n",
       "2021-07-24 18:45:00  34251.60  34444.00  34250.60  34423.48  1302.925397   \n",
       "2021-07-24 19:00:00  34423.49  34500.00  34331.87  34410.57  1185.462031   \n",
       "2021-07-24 19:15:00  34413.00  34446.24  34275.24  34289.58   732.593251   \n",
       "2021-07-24 19:30:00  34289.58  34361.55  34185.53  34202.66   501.405218   \n",
       "2021-07-24 19:45:00  34202.67  34334.17  34185.46  34300.02   587.622549   \n",
       "...                       ...       ...       ...       ...          ...   \n",
       "2021-07-26 17:30:00      0.00      0.00      0.00      0.00     0.000000   \n",
       "2021-07-26 17:45:00      0.00      0.00      0.00      0.00     0.000000   \n",
       "2021-07-26 18:00:00      0.00      0.00      0.00      0.00     0.000000   \n",
       "2021-07-26 18:15:00      0.00      0.00      0.00      0.00     0.000000   \n",
       "2021-07-26 18:30:00      0.00      0.00      0.00      0.00     0.000000   \n",
       "\n",
       "                              sma  \n",
       "date                               \n",
       "2021-07-24 18:45:00      0.000000  \n",
       "2021-07-24 19:00:00      0.000000  \n",
       "2021-07-24 19:15:00      0.000000  \n",
       "2021-07-24 19:30:00      0.000000  \n",
       "2021-07-24 19:45:00      0.000000  \n",
       "...                           ...  \n",
       "2021-07-26 17:30:00  38356.815667  \n",
       "2021-07-26 17:45:00  38374.461000  \n",
       "2021-07-26 18:00:00  38401.422667  \n",
       "2021-07-26 18:15:00  38438.275667  \n",
       "2021-07-26 18:30:00  38470.748667  \n",
       "\n",
       "[384 rows x 6 columns]"
      ],
      "text/html": "<div>\n<style scoped>\n    .dataframe tbody tr th:only-of-type {\n        vertical-align: middle;\n    }\n\n    .dataframe tbody tr th {\n        vertical-align: top;\n    }\n\n    .dataframe thead th {\n        text-align: right;\n    }\n</style>\n<table border=\"1\" class=\"dataframe\">\n  <thead>\n    <tr style=\"text-align: right;\">\n      <th></th>\n      <th>open</th>\n      <th>high</th>\n      <th>low</th>\n      <th>close</th>\n      <th>volume</th>\n      <th>sma</th>\n    </tr>\n    <tr>\n      <th>date</th>\n      <th></th>\n      <th></th>\n      <th></th>\n      <th></th>\n      <th></th>\n      <th></th>\n    </tr>\n  </thead>\n  <tbody>\n    <tr>\n      <th>2021-07-24 18:45:00</th>\n      <td>34251.60</td>\n      <td>34444.00</td>\n      <td>34250.60</td>\n      <td>34423.48</td>\n      <td>1302.925397</td>\n      <td>0.000000</td>\n    </tr>\n    <tr>\n      <th>2021-07-24 19:00:00</th>\n      <td>34423.49</td>\n      <td>34500.00</td>\n      <td>34331.87</td>\n      <td>34410.57</td>\n      <td>1185.462031</td>\n      <td>0.000000</td>\n    </tr>\n    <tr>\n      <th>2021-07-24 19:15:00</th>\n      <td>34413.00</td>\n      <td>34446.24</td>\n      <td>34275.24</td>\n      <td>34289.58</td>\n      <td>732.593251</td>\n      <td>0.000000</td>\n    </tr>\n    <tr>\n      <th>2021-07-24 19:30:00</th>\n      <td>34289.58</td>\n      <td>34361.55</td>\n      <td>34185.53</td>\n      <td>34202.66</td>\n      <td>501.405218</td>\n      <td>0.000000</td>\n    </tr>\n    <tr>\n      <th>2021-07-24 19:45:00</th>\n      <td>34202.67</td>\n      <td>34334.17</td>\n      <td>34185.46</td>\n      <td>34300.02</td>\n      <td>587.622549</td>\n      <td>0.000000</td>\n    </tr>\n    <tr>\n      <th>...</th>\n      <td>...</td>\n      <td>...</td>\n      <td>...</td>\n      <td>...</td>\n      <td>...</td>\n      <td>...</td>\n    </tr>\n    <tr>\n      <th>2021-07-26 17:30:00</th>\n      <td>0.00</td>\n      <td>0.00</td>\n      <td>0.00</td>\n      <td>0.00</td>\n      <td>0.000000</td>\n      <td>38356.815667</td>\n    </tr>\n    <tr>\n      <th>2021-07-26 17:45:00</th>\n      <td>0.00</td>\n      <td>0.00</td>\n      <td>0.00</td>\n      <td>0.00</td>\n      <td>0.000000</td>\n      <td>38374.461000</td>\n    </tr>\n    <tr>\n      <th>2021-07-26 18:00:00</th>\n      <td>0.00</td>\n      <td>0.00</td>\n      <td>0.00</td>\n      <td>0.00</td>\n      <td>0.000000</td>\n      <td>38401.422667</td>\n    </tr>\n    <tr>\n      <th>2021-07-26 18:15:00</th>\n      <td>0.00</td>\n      <td>0.00</td>\n      <td>0.00</td>\n      <td>0.00</td>\n      <td>0.000000</td>\n      <td>38438.275667</td>\n    </tr>\n    <tr>\n      <th>2021-07-26 18:30:00</th>\n      <td>0.00</td>\n      <td>0.00</td>\n      <td>0.00</td>\n      <td>0.00</td>\n      <td>0.000000</td>\n      <td>38470.748667</td>\n    </tr>\n  </tbody>\n</table>\n<p>384 rows × 6 columns</p>\n</div>"
     },
     "metadata": {},
     "execution_count": 10
    }
   ],
   "source": [
    "y"
   ]
  },
  {
   "cell_type": "code",
   "execution_count": 55,
   "metadata": {},
   "outputs": [
    {
     "output_type": "execute_result",
     "data": {
      "text/plain": [
       "date\n",
       "2021-07-24 18:15:00    0.0\n",
       "2021-07-24 18:30:00    0.0\n",
       "2021-07-24 18:45:00    0.0\n",
       "2021-07-24 19:00:00    0.0\n",
       "2021-07-24 19:15:00    0.0\n",
       "                      ... \n",
       "2021-07-25 09:15:00    0.0\n",
       "2021-07-25 09:30:00    0.0\n",
       "2021-07-25 09:45:00    0.0\n",
       "2021-07-25 10:00:00    0.0\n",
       "2021-07-25 10:15:00    0.0\n",
       "Name: sma, Length: 65, dtype: float64"
      ]
     },
     "metadata": {},
     "execution_count": 55
    }
   ],
   "source": []
  },
  {
   "cell_type": "code",
   "execution_count": 72,
   "metadata": {},
   "outputs": [],
   "source": [
    "price =[xx for xx in x['close'] ]\n",
    "price.reverse()"
   ]
  },
  {
   "cell_type": "code",
   "execution_count": 73,
   "metadata": {},
   "outputs": [
    {
     "output_type": "execute_result",
     "data": {
      "text/plain": [
       "[39200.13,\n",
       " 39300.0,\n",
       " 38841.02,\n",
       " 38562.21,\n",
       " 38618.99,\n",
       " 38389.22,\n",
       " 38303.92,\n",
       " 38316.84,\n",
       " 38222.98,\n",
       " 38424.01,\n",
       " 38439.51,\n",
       " 38322.43,\n",
       " 38278.06,\n",
       " 38296.48,\n",
       " 37952.31,\n",
       " 38643.61,\n",
       " 38766.07,\n",
       " 38699.3,\n",
       " 38528.51,\n",
       " 38473.61,\n",
       " 38474.3,\n",
       " 38473.98,\n",
       " 38540.0,\n",
       " 38613.36,\n",
       " 38374.31,\n",
       " 38179.11,\n",
       " 38267.64,\n",
       " 38206.45,\n",
       " 38122.11,\n",
       " 38291.99,\n",
       " 38225.94,\n",
       " 38194.41,\n",
       " 38032.17,\n",
       " 38032.85,\n",
       " 37916.74,\n",
       " 38150.0,\n",
       " 38044.73,\n",
       " 38650.17,\n",
       " 38766.33,\n",
       " 38622.24,\n",
       " 38925.06,\n",
       " 39069.76,\n",
       " 38644.34,\n",
       " 38568.92,\n",
       " 38458.05,\n",
       " 38426.78,\n",
       " 38322.48,\n",
       " 38270.26,\n",
       " 38492.82,\n",
       " 38320.0,\n",
       " 38316.34,\n",
       " 38283.98,\n",
       " 38205.14,\n",
       " 38123.6,\n",
       " 38094.01,\n",
       " 38043.69,\n",
       " 38411.94,\n",
       " 38282.01,\n",
       " 38031.45,\n",
       " 38313.4,\n",
       " 38575.33,\n",
       " 37961.88,\n",
       " 37997.57,\n",
       " 36767.47,\n",
       " 35813.43,\n",
       " 35733.65,\n",
       " 35803.62,\n",
       " 35381.02,\n",
       " 35205.65,\n",
       " 34883.11,\n",
       " 34652.56,\n",
       " 34656.78,\n",
       " 34556.71,\n",
       " 34489.97,\n",
       " 34524.43,\n",
       " 34551.0,\n",
       " 34575.13,\n",
       " 34536.24,\n",
       " 34428.0,\n",
       " 34446.01,\n",
       " 34422.3,\n",
       " 34395.57,\n",
       " 34425.05,\n",
       " 34353.25,\n",
       " 34441.68,\n",
       " 34418.49,\n",
       " 34296.38,\n",
       " 34407.13,\n",
       " 34410.12,\n",
       " 34455.73,\n",
       " 34476.93,\n",
       " 34460.0,\n",
       " 34390.52,\n",
       " 34447.12,\n",
       " 34279.98,\n",
       " 34214.28,\n",
       " 34147.61,\n",
       " 34173.73,\n",
       " 34132.46,\n",
       " 34174.08,\n",
       " 34173.33,\n",
       " 34029.69,\n",
       " 34175.64,\n",
       " 34105.01,\n",
       " 33947.32,\n",
       " 33899.82,\n",
       " 34050.01,\n",
       " 34178.74,\n",
       " 34165.06,\n",
       " 34099.97,\n",
       " 34237.8,\n",
       " 34294.43,\n",
       " 34260.07,\n",
       " 34323.8,\n",
       " 34316.2,\n",
       " 34399.04,\n",
       " 34388.29,\n",
       " 34310.0,\n",
       " 34460.0,\n",
       " 34353.56,\n",
       " 34393.98,\n",
       " 34522.65,\n",
       " 34575.89,\n",
       " 34509.03,\n",
       " 34410.17,\n",
       " 34429.95,\n",
       " 34515.24,\n",
       " 34570.89,\n",
       " 34599.99,\n",
       " 34711.28,\n",
       " 34760.45,\n",
       " 34695.51,\n",
       " 34756.3,\n",
       " 34661.21,\n",
       " 34600.48,\n",
       " 34472.15,\n",
       " 34458.46,\n",
       " 34405.62,\n",
       " 34426.23,\n",
       " 34322.31,\n",
       " 34334.98,\n",
       " 34321.16,\n",
       " 34407.22,\n",
       " 34365.99,\n",
       " 34420.56,\n",
       " 34265.16,\n",
       " 34179.99,\n",
       " 34160.85,\n",
       " 34208.67,\n",
       " 34310.57,\n",
       " 34292.37,\n",
       " 34177.85,\n",
       " 34091.39,\n",
       " 34104.01,\n",
       " 33999.0,\n",
       " 33924.85,\n",
       " 34031.05,\n",
       " 33987.52,\n",
       " 34113.3,\n",
       " 34014.08,\n",
       " 34018.18,\n",
       " 34199.98,\n",
       " 34387.23,\n",
       " 34258.14,\n",
       " 34135.95,\n",
       " 34052.37,\n",
       " 33939.82,\n",
       " 34021.87,\n",
       " 33989.49,\n",
       " 33903.64,\n",
       " 33952.23,\n",
       " 34096.66,\n",
       " 33957.45,\n",
       " 33875.33,\n",
       " 33922.63,\n",
       " 33919.84,\n",
       " 33848.98,\n",
       " 33786.3,\n",
       " 33915.0,\n",
       " 33846.16,\n",
       " 33997.73,\n",
       " 34109.97,\n",
       " 34253.64,\n",
       " 34281.87,\n",
       " 34327.46,\n",
       " 34322.79,\n",
       " 34378.56,\n",
       " 34300.02,\n",
       " 34202.66,\n",
       " 34289.58,\n",
       " 34410.57,\n",
       " 34423.48]"
      ]
     },
     "metadata": {},
     "execution_count": 73
    }
   ],
   "source": [
    "price"
   ]
  }
 ]
}