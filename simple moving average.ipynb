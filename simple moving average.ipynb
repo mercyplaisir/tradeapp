{
 "metadata": {
  "language_info": {
   "codemirror_mode": {
    "name": "ipython",
    "version": 3
   },
   "file_extension": ".py",
   "mimetype": "text/x-python",
   "name": "python",
   "nbconvert_exporter": "python",
   "pygments_lexer": "ipython3",
   "version": "3.8.5-final"
  },
  "orig_nbformat": 2,
  "kernelspec": {
   "name": "python385jvsc74a57bd031f2aee4e71d21fbe5cf8b01ff0e069b9275f58929596ceb00d14d90e3e16cd6",
   "display_name": "Python 3.8.5 64-bit"
  },
  "metadata": {
   "interpreter": {
    "hash": "31f2aee4e71d21fbe5cf8b01ff0e069b9275f58929596ceb00d14d90e3e16cd6"
   }
  }
 },
 "nbformat": 4,
 "nbformat_minor": 2,
 "cells": [
  {
   "cell_type": "code",
   "execution_count": 11,
   "metadata": {},
   "outputs": [],
   "source": [
    "import json\n",
    "import numpy as np\n",
    "import pandas as pd\n",
    "from binance.client import Client\n",
    "import e #contains the api and secret keys\n",
    "import math\n",
    "import Coinpaprika\n",
    "from datetime import datetime, timedelta\n"
   ]
  },
  {
   "cell_type": "code",
   "execution_count": 12,
   "metadata": {},
   "outputs": [],
   "source": [
    "\n",
    "#se connecter\n",
    "api_client = Coinpaprika.Client()\n",
    "\n",
    "#recuperer les donnees historiques\n",
    "historical_OHLC = api_client.coins.historical_OHLC(\n",
    "    coin_id=\"btc-bitcoin\",\n",
    "    start=datetime.now() - timedelta(weeks=30),\n",
    "    end=datetime.now(),\n",
    "    limit=7,\n",
    ")\n"
   ]
  },
  {
   "cell_type": "code",
   "execution_count": 13,
   "metadata": {},
   "outputs": [],
   "source": [
    "#changer en dataframe\n",
    "df = pd.DataFrame(historical_OHLC)\n"
   ]
  },
  {
   "cell_type": "code",
   "execution_count": 14,
   "metadata": {},
   "outputs": [],
   "source": [
    "#enlever les colonnes pas necessaires\n",
    "df.drop([\"time_close\",'open','high','low','volume','market_cap'], axis = 1 , inplace = True )\n"
   ]
  },
  {
   "cell_type": "code",
   "execution_count": 15,
   "metadata": {},
   "outputs": [
    {
     "output_type": "execute_result",
     "data": {
      "text/plain": [
       "                   close\n",
       "time_open               \n",
       "2020-09-13  10329.126977\n",
       "2020-09-14  10673.026575\n",
       "2020-09-15  10788.593307\n",
       "2020-09-16  10974.461031\n",
       "2020-09-17  10937.523098\n",
       "...                  ...\n",
       "2021-04-07  56126.872613\n",
       "2021-04-08  58068.484840\n",
       "2021-04-09  58201.912177\n",
       "2021-04-10  59828.456579\n",
       "2021-04-11  59718.369167\n",
       "\n",
       "[211 rows x 1 columns]"
      ],
      "text/html": "<div>\n<style scoped>\n    .dataframe tbody tr th:only-of-type {\n        vertical-align: middle;\n    }\n\n    .dataframe tbody tr th {\n        vertical-align: top;\n    }\n\n    .dataframe thead th {\n        text-align: right;\n    }\n</style>\n<table border=\"1\" class=\"dataframe\">\n  <thead>\n    <tr style=\"text-align: right;\">\n      <th></th>\n      <th>close</th>\n    </tr>\n    <tr>\n      <th>time_open</th>\n      <th></th>\n    </tr>\n  </thead>\n  <tbody>\n    <tr>\n      <th>2020-09-13</th>\n      <td>10329.126977</td>\n    </tr>\n    <tr>\n      <th>2020-09-14</th>\n      <td>10673.026575</td>\n    </tr>\n    <tr>\n      <th>2020-09-15</th>\n      <td>10788.593307</td>\n    </tr>\n    <tr>\n      <th>2020-09-16</th>\n      <td>10974.461031</td>\n    </tr>\n    <tr>\n      <th>2020-09-17</th>\n      <td>10937.523098</td>\n    </tr>\n    <tr>\n      <th>...</th>\n      <td>...</td>\n    </tr>\n    <tr>\n      <th>2021-04-07</th>\n      <td>56126.872613</td>\n    </tr>\n    <tr>\n      <th>2021-04-08</th>\n      <td>58068.484840</td>\n    </tr>\n    <tr>\n      <th>2021-04-09</th>\n      <td>58201.912177</td>\n    </tr>\n    <tr>\n      <th>2021-04-10</th>\n      <td>59828.456579</td>\n    </tr>\n    <tr>\n      <th>2021-04-11</th>\n      <td>59718.369167</td>\n    </tr>\n  </tbody>\n</table>\n<p>211 rows × 1 columns</p>\n</div>"
     },
     "metadata": {},
     "execution_count": 15
    }
   ],
   "source": [
    "#changer les dates et les faire des indexes\n",
    "df = df.set_index('time_open')\n",
    "df\n"
   ]
  },
  {
   "cell_type": "code",
   "execution_count": 23,
   "metadata": {},
   "outputs": [
    {
     "output_type": "stream",
     "name": "stdout",
     "text": [
      "vous etes connecter\n",
      "info recuperer\n"
     ]
    }
   ],
   "source": []
  }
 ]
}