{
 "metadata": {
  "language_info": {
   "codemirror_mode": {
    "name": "ipython",
    "version": 3
   },
   "file_extension": ".py",
   "mimetype": "text/x-python",
   "name": "python",
   "nbconvert_exporter": "python",
   "pygments_lexer": "ipython3",
   "version": "3.8.5-final"
  },
  "orig_nbformat": 2,
  "kernelspec": {
   "name": "python385jvsc74a57bd031f2aee4e71d21fbe5cf8b01ff0e069b9275f58929596ceb00d14d90e3e16cd6",
   "display_name": "Python 3.8.5 64-bit"
  },
  "metadata": {
   "interpreter": {
    "hash": "31f2aee4e71d21fbe5cf8b01ff0e069b9275f58929596ceb00d14d90e3e16cd6"
   }
  }
 },
 "nbformat": 4,
 "nbformat_minor": 2,
 "cells": [
  {
   "cell_type": "code",
   "execution_count": 1,
   "metadata": {},
   "outputs": [
    {
     "output_type": "stream",
     "name": "stdout",
     "text": [
      "impossible de se connecter\n",
      "veuillez patientez\n",
      "\n",
      "vous etes connecter\n",
      "\n",
      "info recuperer\n"
     ]
    }
   ],
   "source": [
    "import json\n",
    "import numpy as np\n",
    "import pandas as pd\n",
    "from binance.client import Client\n",
    "import e #contains the api and secret keys\n",
    "import math\n",
    "import Coinpaprika\n",
    "import datetime\n",
    "import time\n",
    "\n",
    "\n",
    "#boucle pour se connecter\n",
    "disconnected = True\n",
    "while disconnected:\n",
    "    try :\n",
    "        client = Client(e.api_key, e.secret_key)\n",
    "        print(\"vous etes connecter\\n\")\n",
    "        disconnected = False\n",
    "        connected = True\n",
    "    except:\n",
    "        print(\"impossible de se connecter\\nveuillez patientez\\n\")\n",
    "\n",
    "\n",
    "#---------fin-------------\n",
    "get_info_error = True\n",
    "while get_info_error:\n",
    "    #get all the info of my  account\n",
    "    try:\n",
    "        info = client.get_margin_account()\n",
    "\n",
    "        print('info recuperer')\n",
    "        get_info_error = False\n",
    "    except:\n",
    "        print('impossible de recuperer les infos')\n",
    "balance_dataframe= pd.DataFrame(info['userAssets'])\n",
    "#supprimer BNB pour qu'il ne nous derange pas\n",
    "#balance_dataframe.drop(index=52,inplace=True)\n",
    "\n",
    "#sort the portfolio by the quantity\n",
    "\n",
    "#sort the portfolio by the quantity\n",
    "balance_dataframe.sort_values('free',ascending= False, inplace= True)\n",
    "#refaire les index\n",
    "balance_dataframe.reset_index(inplace = True)\n",
    "\n",
    "#supprimer un colonnes pas important\n",
    "balance_dataframe.drop(columns=['index'],inplace=True)\n",
    "\n"
   ]
  },
  {
   "cell_type": "code",
   "execution_count": 2,
   "metadata": {},
   "outputs": [
    {
     "output_type": "execute_result",
     "data": {
      "text/plain": [
       "   asset         free locked     borrowed    interest    netAsset\n",
       "0   USDT  25.21863679      0  21.22607579           0    3.992561\n",
       "1    BNB   0.00958201      0            0  0.00001312  0.00956889\n",
       "2    BTC    0.0000067      0            0           0   0.0000067\n",
       "3  MATIC            0      0            0           0           0\n",
       "4   QTUM            0      0            0           0           0"
      ],
      "text/html": "<div>\n<style scoped>\n    .dataframe tbody tr th:only-of-type {\n        vertical-align: middle;\n    }\n\n    .dataframe tbody tr th {\n        vertical-align: top;\n    }\n\n    .dataframe thead th {\n        text-align: right;\n    }\n</style>\n<table border=\"1\" class=\"dataframe\">\n  <thead>\n    <tr style=\"text-align: right;\">\n      <th></th>\n      <th>asset</th>\n      <th>free</th>\n      <th>locked</th>\n      <th>borrowed</th>\n      <th>interest</th>\n      <th>netAsset</th>\n    </tr>\n  </thead>\n  <tbody>\n    <tr>\n      <th>0</th>\n      <td>USDT</td>\n      <td>25.21863679</td>\n      <td>0</td>\n      <td>21.22607579</td>\n      <td>0</td>\n      <td>3.992561</td>\n    </tr>\n    <tr>\n      <th>1</th>\n      <td>BNB</td>\n      <td>0.00958201</td>\n      <td>0</td>\n      <td>0</td>\n      <td>0.00001312</td>\n      <td>0.00956889</td>\n    </tr>\n    <tr>\n      <th>2</th>\n      <td>BTC</td>\n      <td>0.0000067</td>\n      <td>0</td>\n      <td>0</td>\n      <td>0</td>\n      <td>0.0000067</td>\n    </tr>\n    <tr>\n      <th>3</th>\n      <td>MATIC</td>\n      <td>0</td>\n      <td>0</td>\n      <td>0</td>\n      <td>0</td>\n      <td>0</td>\n    </tr>\n    <tr>\n      <th>4</th>\n      <td>QTUM</td>\n      <td>0</td>\n      <td>0</td>\n      <td>0</td>\n      <td>0</td>\n      <td>0</td>\n    </tr>\n  </tbody>\n</table>\n</div>"
     },
     "metadata": {},
     "execution_count": 2
    }
   ],
   "source": [
    "balance_dataframe.head(5)"
   ]
  }
 ]
}