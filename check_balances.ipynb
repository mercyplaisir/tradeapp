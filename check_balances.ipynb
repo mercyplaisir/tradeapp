{
 "metadata": {
  "language_info": {
   "codemirror_mode": {
    "name": "ipython",
    "version": 3
   },
   "file_extension": ".py",
   "mimetype": "text/x-python",
   "name": "python",
   "nbconvert_exporter": "python",
   "pygments_lexer": "ipython3",
   "version": "3.8.5-final"
  },
  "orig_nbformat": 2,
  "kernelspec": {
   "name": "python385jvsc74a57bd031f2aee4e71d21fbe5cf8b01ff0e069b9275f58929596ceb00d14d90e3e16cd6",
   "display_name": "Python 3.8.5 64-bit"
  },
  "metadata": {
   "interpreter": {
    "hash": "31f2aee4e71d21fbe5cf8b01ff0e069b9275f58929596ceb00d14d90e3e16cd6"
   }
  }
 },
 "nbformat": 4,
 "nbformat_minor": 2,
 "cells": [
  {
   "cell_type": "code",
   "execution_count": 30,
   "metadata": {},
   "outputs": [
    {
     "output_type": "stream",
     "name": "stdout",
     "text": [
      "vous etes connecter\n",
      "\n",
      "info recuperer\n"
     ]
    }
   ],
   "source": [
    "import json\n",
    "import numpy as np\n",
    "import pandas as pd\n",
    "from binance.client import Client\n",
    "import e #contains the api and secret keys\n",
    "import math\n",
    "import Coinpaprika\n",
    "import datetime\n",
    "import time\n",
    "\n",
    "\n",
    "#boucle pour se connecter\n",
    "disconnected = True\n",
    "while disconnected:\n",
    "    try :\n",
    "        client = Client(e.api_key, e.secret_key)\n",
    "        print(\"vous etes connecter\\n\")\n",
    "        disconnected = False\n",
    "        connected = True\n",
    "    except:\n",
    "        print(\"impossible de se connecter\\nveuillez patientez\\n\")\n",
    "\n",
    "\n",
    "#---------fin-------------\n",
    "get_info_error = True\n",
    "while get_info_error:\n",
    "    #get all the info of my  account\n",
    "    try:\n",
    "        info = client.get_account()\n",
    "        print('info recuperer')\n",
    "        get_info_error = False\n",
    "    except:\n",
    "        print('impossible de recuperer les infos')"
   ]
  },
  {
   "cell_type": "code",
   "execution_count": 31,
   "metadata": {},
   "outputs": [],
   "source": []
  },
  {
   "cell_type": "code",
   "execution_count": 32,
   "metadata": {},
   "outputs": [
    {
     "output_type": "execute_result",
     "data": {
      "text/plain": [
       "      asset        free      locked\n",
       "0       BTC  0.00015800  0.00000000\n",
       "1       LTC  0.00000000  0.00000000\n",
       "2       ETH  0.00000000  0.00000000\n",
       "3       NEO  0.00000000  0.00000000\n",
       "4       BNB  0.00101141  0.00000000\n",
       "..      ...         ...         ...\n",
       "402     TKO  0.00000000  0.00000000\n",
       "403    AUTO  0.00000000  0.00000000\n",
       "404     EPS  0.00000000  0.00000000\n",
       "405  PUNDIX  0.00000000  0.00000000\n",
       "406     TLM  0.00000000  0.00000000\n",
       "\n",
       "[407 rows x 3 columns]"
      ],
      "text/html": "<div>\n<style scoped>\n    .dataframe tbody tr th:only-of-type {\n        vertical-align: middle;\n    }\n\n    .dataframe tbody tr th {\n        vertical-align: top;\n    }\n\n    .dataframe thead th {\n        text-align: right;\n    }\n</style>\n<table border=\"1\" class=\"dataframe\">\n  <thead>\n    <tr style=\"text-align: right;\">\n      <th></th>\n      <th>asset</th>\n      <th>free</th>\n      <th>locked</th>\n    </tr>\n  </thead>\n  <tbody>\n    <tr>\n      <th>0</th>\n      <td>BTC</td>\n      <td>0.00015800</td>\n      <td>0.00000000</td>\n    </tr>\n    <tr>\n      <th>1</th>\n      <td>LTC</td>\n      <td>0.00000000</td>\n      <td>0.00000000</td>\n    </tr>\n    <tr>\n      <th>2</th>\n      <td>ETH</td>\n      <td>0.00000000</td>\n      <td>0.00000000</td>\n    </tr>\n    <tr>\n      <th>3</th>\n      <td>NEO</td>\n      <td>0.00000000</td>\n      <td>0.00000000</td>\n    </tr>\n    <tr>\n      <th>4</th>\n      <td>BNB</td>\n      <td>0.00101141</td>\n      <td>0.00000000</td>\n    </tr>\n    <tr>\n      <th>...</th>\n      <td>...</td>\n      <td>...</td>\n      <td>...</td>\n    </tr>\n    <tr>\n      <th>402</th>\n      <td>TKO</td>\n      <td>0.00000000</td>\n      <td>0.00000000</td>\n    </tr>\n    <tr>\n      <th>403</th>\n      <td>AUTO</td>\n      <td>0.00000000</td>\n      <td>0.00000000</td>\n    </tr>\n    <tr>\n      <th>404</th>\n      <td>EPS</td>\n      <td>0.00000000</td>\n      <td>0.00000000</td>\n    </tr>\n    <tr>\n      <th>405</th>\n      <td>PUNDIX</td>\n      <td>0.00000000</td>\n      <td>0.00000000</td>\n    </tr>\n    <tr>\n      <th>406</th>\n      <td>TLM</td>\n      <td>0.00000000</td>\n      <td>0.00000000</td>\n    </tr>\n  </tbody>\n</table>\n<p>407 rows × 3 columns</p>\n</div>"
     },
     "metadata": {},
     "execution_count": 32
    }
   ],
   "source": [
    "balance_dataframe= pd.DataFrame(info['balances'])\n",
    "\n",
    "balance_dataframe.sort_values('free',ascending= False, inplace= True)\n",
    "\n",
    "        \n",
    "\n",
    "    #refaire les index\n",
    "balance_dataframe.reset_index(inplace = True)\n",
    "\n",
    "    #supprimer un colonnes pas important\n",
    "balance_dataframe.drop(columns=['index'],inplace=True)\n",
    "        #supprimer les deux indexes suivant le premier puisque il peut nuire l'algorithme\n",
    "\n",
    "    #balance_dataframe.drop(index=[1,2],inplace=True)\n",
    "balance_dataframe\n",
    "   \n",
    "    \n"
   ]
  },
  {
   "cell_type": "code",
   "execution_count": 33,
   "metadata": {},
   "outputs": [],
   "source": [
    "info = client.get_symbol_info('BNBBTC')\n"
   ]
  },
  {
   "cell_type": "code",
   "execution_count": 34,
   "metadata": {},
   "outputs": [
    {
     "output_type": "stream",
     "name": "stdout",
     "text": [
      "{'filterType': 'PRICE_FILTER', 'minPrice': '0.00000010', 'maxPrice': '100000.00000000', 'tickSize': '0.00000010'}\n\n\n{'filterType': 'PERCENT_PRICE', 'multiplierUp': '5', 'multiplierDown': '0.2', 'avgPriceMins': 5}\n\n\n{'filterType': 'LOT_SIZE', 'minQty': '0.01000000', 'maxQty': '100000.00000000', 'stepSize': '0.01000000'}\n\n\n{'filterType': 'MIN_NOTIONAL', 'minNotional': '0.00010000', 'applyToMarket': True, 'avgPriceMins': 5}\n\n\n{'filterType': 'ICEBERG_PARTS', 'limit': 10}\n\n\n{'filterType': 'MARKET_LOT_SIZE', 'minQty': '0.00000000', 'maxQty': '4819.73175694', 'stepSize': '0.00000000'}\n\n\n{'filterType': 'MAX_NUM_ORDERS', 'maxNumOrders': 200}\n\n\n{'filterType': 'MAX_NUM_ALGO_ORDERS', 'maxNumAlgoOrders': 5}\n\n\n"
     ]
    }
   ],
   "source": [
    "\n",
    "\n",
    "for i in info['filters']:\n",
    "    print(i)\n",
    "    print('\\n')"
   ]
  },
  {
   "cell_type": "code",
   "execution_count": 35,
   "metadata": {},
   "outputs": [],
   "source": [
    "orders = client.get_all_orders(symbol='BTCUSDT', limit=10)\n",
    "#changer timestamp en date\n",
    "for order in orders:\n",
    "   #print(type(trade['time']))\n",
    "   x= order['time']/1000\n",
    "   order['time'] = datetime.datetime.fromtimestamp(x)\n",
    "    "
   ]
  },
  {
   "cell_type": "code",
   "execution_count": 36,
   "metadata": {},
   "outputs": [],
   "source": [
    "orders = pd.DataFrame(orders)\n",
    "orders.drop(columns=['orderId','orderListId','clientOrderId','cummulativeQuoteQty','origQty','timeInForce','updateTime','origQuoteOrderQty','icebergQty','stopPrice','isWorking'],inplace=True)"
   ]
  },
  {
   "cell_type": "code",
   "execution_count": 37,
   "metadata": {},
   "outputs": [],
   "source": [
    "orders.sort_values('time',ascending= False, inplace= True)\n",
    "\n",
    "#refaire les index\n",
    "orders.reset_index(inplace = True)\n",
    "#supprimer un colonnes pas important\n",
    "orders.drop(columns=['index'],inplace=True)"
   ]
  },
  {
   "cell_type": "code",
   "execution_count": 38,
   "metadata": {},
   "outputs": [
    {
     "output_type": "execute_result",
     "data": {
      "text/plain": [
       "    symbol           price executedQty  status    type  side  \\\n",
       "0  BTCUSDT      0.00000000  0.00015800  FILLED  MARKET   BUY   \n",
       "1  BTCUSDT      0.00000000  0.00016000  FILLED  MARKET  SELL   \n",
       "2  BTCUSDT      0.00000000  0.00016000  FILLED  MARKET   BUY   \n",
       "3  BTCUSDT      0.00000000  0.00016000  FILLED  MARKET  SELL   \n",
       "4  BTCUSDT      0.00000000  0.00016000  FILLED  MARKET   BUY   \n",
       "5  BTCUSDT  62600.57000000  0.00016000  FILLED   LIMIT  SELL   \n",
       "6  BTCUSDT      0.00000000  0.00016000  FILLED  MARKET   BUY   \n",
       "7  BTCUSDT      0.00000000  0.00022000  FILLED  MARKET   BUY   \n",
       "\n",
       "                     time  \n",
       "0 2021-04-14 00:46:31.177  \n",
       "1 2021-04-13 16:39:54.892  \n",
       "2 2021-04-13 16:28:04.357  \n",
       "3 2021-04-13 16:27:08.135  \n",
       "4 2021-04-13 16:15:33.749  \n",
       "5 2021-04-13 14:01:12.875  \n",
       "6 2021-04-13 13:31:58.914  \n",
       "7 2021-03-22 22:53:23.249  "
      ],
      "text/html": "<div>\n<style scoped>\n    .dataframe tbody tr th:only-of-type {\n        vertical-align: middle;\n    }\n\n    .dataframe tbody tr th {\n        vertical-align: top;\n    }\n\n    .dataframe thead th {\n        text-align: right;\n    }\n</style>\n<table border=\"1\" class=\"dataframe\">\n  <thead>\n    <tr style=\"text-align: right;\">\n      <th></th>\n      <th>symbol</th>\n      <th>price</th>\n      <th>executedQty</th>\n      <th>status</th>\n      <th>type</th>\n      <th>side</th>\n      <th>time</th>\n    </tr>\n  </thead>\n  <tbody>\n    <tr>\n      <th>0</th>\n      <td>BTCUSDT</td>\n      <td>0.00000000</td>\n      <td>0.00015800</td>\n      <td>FILLED</td>\n      <td>MARKET</td>\n      <td>BUY</td>\n      <td>2021-04-14 00:46:31.177</td>\n    </tr>\n    <tr>\n      <th>1</th>\n      <td>BTCUSDT</td>\n      <td>0.00000000</td>\n      <td>0.00016000</td>\n      <td>FILLED</td>\n      <td>MARKET</td>\n      <td>SELL</td>\n      <td>2021-04-13 16:39:54.892</td>\n    </tr>\n    <tr>\n      <th>2</th>\n      <td>BTCUSDT</td>\n      <td>0.00000000</td>\n      <td>0.00016000</td>\n      <td>FILLED</td>\n      <td>MARKET</td>\n      <td>BUY</td>\n      <td>2021-04-13 16:28:04.357</td>\n    </tr>\n    <tr>\n      <th>3</th>\n      <td>BTCUSDT</td>\n      <td>0.00000000</td>\n      <td>0.00016000</td>\n      <td>FILLED</td>\n      <td>MARKET</td>\n      <td>SELL</td>\n      <td>2021-04-13 16:27:08.135</td>\n    </tr>\n    <tr>\n      <th>4</th>\n      <td>BTCUSDT</td>\n      <td>0.00000000</td>\n      <td>0.00016000</td>\n      <td>FILLED</td>\n      <td>MARKET</td>\n      <td>BUY</td>\n      <td>2021-04-13 16:15:33.749</td>\n    </tr>\n    <tr>\n      <th>5</th>\n      <td>BTCUSDT</td>\n      <td>62600.57000000</td>\n      <td>0.00016000</td>\n      <td>FILLED</td>\n      <td>LIMIT</td>\n      <td>SELL</td>\n      <td>2021-04-13 14:01:12.875</td>\n    </tr>\n    <tr>\n      <th>6</th>\n      <td>BTCUSDT</td>\n      <td>0.00000000</td>\n      <td>0.00016000</td>\n      <td>FILLED</td>\n      <td>MARKET</td>\n      <td>BUY</td>\n      <td>2021-04-13 13:31:58.914</td>\n    </tr>\n    <tr>\n      <th>7</th>\n      <td>BTCUSDT</td>\n      <td>0.00000000</td>\n      <td>0.00022000</td>\n      <td>FILLED</td>\n      <td>MARKET</td>\n      <td>BUY</td>\n      <td>2021-03-22 22:53:23.249</td>\n    </tr>\n  </tbody>\n</table>\n</div>"
     },
     "metadata": {},
     "execution_count": 38
    }
   ],
   "source": [
    "orders"
   ]
  }
 ]
}