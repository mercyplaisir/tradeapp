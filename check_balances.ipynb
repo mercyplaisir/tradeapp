{
 "metadata": {
  "language_info": {
   "codemirror_mode": {
    "name": "ipython",
    "version": 3
   },
   "file_extension": ".py",
   "mimetype": "text/x-python",
   "name": "python",
   "nbconvert_exporter": "python",
   "pygments_lexer": "ipython3",
   "version": "3.8.5-final"
  },
  "orig_nbformat": 2,
  "kernelspec": {
   "name": "python385jvsc74a57bd031f2aee4e71d21fbe5cf8b01ff0e069b9275f58929596ceb00d14d90e3e16cd6",
   "display_name": "Python 3.8.5 64-bit"
  },
  "metadata": {
   "interpreter": {
    "hash": "31f2aee4e71d21fbe5cf8b01ff0e069b9275f58929596ceb00d14d90e3e16cd6"
   }
  }
 },
 "nbformat": 4,
 "nbformat_minor": 2,
 "cells": [
  {
   "cell_type": "code",
   "execution_count": 3,
   "metadata": {},
   "outputs": [
    {
     "output_type": "stream",
     "name": "stdout",
     "text": [
      "impossible de se connecter\n",
      "veuillez patientez\n",
      "\n",
      "vous etes connecter\n",
      "\n",
      "info recuperer\n"
     ]
    }
   ],
   "source": [
    "import json\n",
    "import numpy as np\n",
    "import pandas as pd\n",
    "from binance.client import Client\n",
    "import e #contains the api and secret keys\n",
    "import math\n",
    "import Coinpaprika\n",
    "import datetime\n",
    "import time\n",
    "\n",
    "\n",
    "#boucle pour se connecter\n",
    "disconnected = True\n",
    "while disconnected:\n",
    "    try :\n",
    "        client = Client(e.api_key, e.secret_key)\n",
    "        print(\"vous etes connecter\\n\")\n",
    "        disconnected = False\n",
    "        connected = True\n",
    "    except:\n",
    "        print(\"impossible de se connecter\\nveuillez patientez\\n\")\n",
    "\n",
    "\n",
    "#---------fin-------------\n",
    "get_info_error = True\n",
    "while get_info_error:\n",
    "    #get all the info of my  account\n",
    "    try:\n",
    "        info = client.get_account()\n",
    "        print('info recuperer')\n",
    "        get_info_error = False\n",
    "    except:\n",
    "        print('impossible de recuperer les infos')"
   ]
  },
  {
   "cell_type": "code",
   "execution_count": 4,
   "metadata": {},
   "outputs": [],
   "source": [
    "balance_dataframe= pd.DataFrame(info['balances'])\n",
    "\n",
    "balance_dataframe.sort_values('free',ascending= False, inplace= True)\n",
    "        \n",
    "\n",
    "    #refaire les index\n",
    "balance_dataframe.reset_index(inplace = True)\n",
    "\n",
    "    #supprimer un colonnes pas important\n",
    "balance_dataframe.drop(columns=['index'],inplace=True)\n",
    "        #supprimer les deux indexes suivant le premier puisque il peut nuire l'algorithme\n",
    "\n",
    "    #balance_dataframe.drop(index=[1,2],inplace=True)\n",
    "   \n",
    "    \n"
   ]
  },
  {
   "cell_type": "code",
   "execution_count": 5,
   "metadata": {},
   "outputs": [
    {
     "output_type": "execute_result",
     "data": {
      "text/plain": [
       "    asset         free      locked\n",
       "0    USDT  10.09751420  0.00000000\n",
       "1     BNB   0.00062944  0.00000000\n",
       "2     BTC   0.00000000  0.00000000\n",
       "3     CRV   0.00000000  0.00000000\n",
       "4    EGLD   0.00000000  0.00000000\n",
       "..    ...          ...         ...\n",
       "402   SKY   0.00000000  0.00000000\n",
       "403   TLM   0.00000000  0.00000000\n",
       "404  BIDR         0.00        0.00\n",
       "405  BVND         0.00        0.00\n",
       "406  IDRT         0.00        0.00\n",
       "\n",
       "[407 rows x 3 columns]"
      ],
      "text/html": "<div>\n<style scoped>\n    .dataframe tbody tr th:only-of-type {\n        vertical-align: middle;\n    }\n\n    .dataframe tbody tr th {\n        vertical-align: top;\n    }\n\n    .dataframe thead th {\n        text-align: right;\n    }\n</style>\n<table border=\"1\" class=\"dataframe\">\n  <thead>\n    <tr style=\"text-align: right;\">\n      <th></th>\n      <th>asset</th>\n      <th>free</th>\n      <th>locked</th>\n    </tr>\n  </thead>\n  <tbody>\n    <tr>\n      <th>0</th>\n      <td>USDT</td>\n      <td>10.09751420</td>\n      <td>0.00000000</td>\n    </tr>\n    <tr>\n      <th>1</th>\n      <td>BNB</td>\n      <td>0.00062944</td>\n      <td>0.00000000</td>\n    </tr>\n    <tr>\n      <th>2</th>\n      <td>BTC</td>\n      <td>0.00000000</td>\n      <td>0.00000000</td>\n    </tr>\n    <tr>\n      <th>3</th>\n      <td>CRV</td>\n      <td>0.00000000</td>\n      <td>0.00000000</td>\n    </tr>\n    <tr>\n      <th>4</th>\n      <td>EGLD</td>\n      <td>0.00000000</td>\n      <td>0.00000000</td>\n    </tr>\n    <tr>\n      <th>...</th>\n      <td>...</td>\n      <td>...</td>\n      <td>...</td>\n    </tr>\n    <tr>\n      <th>402</th>\n      <td>SKY</td>\n      <td>0.00000000</td>\n      <td>0.00000000</td>\n    </tr>\n    <tr>\n      <th>403</th>\n      <td>TLM</td>\n      <td>0.00000000</td>\n      <td>0.00000000</td>\n    </tr>\n    <tr>\n      <th>404</th>\n      <td>BIDR</td>\n      <td>0.00</td>\n      <td>0.00</td>\n    </tr>\n    <tr>\n      <th>405</th>\n      <td>BVND</td>\n      <td>0.00</td>\n      <td>0.00</td>\n    </tr>\n    <tr>\n      <th>406</th>\n      <td>IDRT</td>\n      <td>0.00</td>\n      <td>0.00</td>\n    </tr>\n  </tbody>\n</table>\n<p>407 rows × 3 columns</p>\n</div>"
     },
     "metadata": {},
     "execution_count": 5
    }
   ],
   "source": [
    "balance_dataframe"
   ]
  },
  {
   "cell_type": "code",
   "execution_count": 10,
   "metadata": {},
   "outputs": [
    {
     "output_type": "stream",
     "name": "stdout",
     "text": [
      "2.36\n2.35\n"
     ]
    }
   ],
   "source": [
    "\n",
    "v = 2.357\n",
    "print(math.ceil(v*100)/100)  # -> 2.36\n",
    "print(math.floor(v*100)/100)  # -> 2.35"
   ]
  },
  {
   "cell_type": "code",
   "execution_count": 26,
   "metadata": {},
   "outputs": [
    {
     "output_type": "execute_result",
     "data": {
      "text/plain": [
       "10"
      ]
     },
     "metadata": {},
     "execution_count": 26
    }
   ],
   "source": [
    "import math\n",
    "\n",
    "math.floor(float(balance_dataframe.loc[0]['free']))"
   ]
  }
 ]
}