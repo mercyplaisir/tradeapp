{
 "metadata": {
  "language_info": {
   "codemirror_mode": {
    "name": "ipython",
    "version": 3
   },
   "file_extension": ".py",
   "mimetype": "text/x-python",
   "name": "python",
   "nbconvert_exporter": "python",
   "pygments_lexer": "ipython3",
   "version": "3.8.5-final"
  },
  "orig_nbformat": 2,
  "kernelspec": {
   "name": "python385jvsc74a57bd031f2aee4e71d21fbe5cf8b01ff0e069b9275f58929596ceb00d14d90e3e16cd6",
   "display_name": "Python 3.8.5 64-bit"
  },
  "metadata": {
   "interpreter": {
    "hash": "31f2aee4e71d21fbe5cf8b01ff0e069b9275f58929596ceb00d14d90e3e16cd6"
   }
  }
 },
 "nbformat": 4,
 "nbformat_minor": 2,
 "cells": [
  {
   "cell_type": "code",
   "execution_count": 11,
   "metadata": {},
   "outputs": [
    {
     "output_type": "stream",
     "name": "stdout",
     "text": [
      "impossible de se connecter\n",
      "veuillez patientez\n",
      "impossible de se connecter\n",
      "veuillez patientez\n",
      "vous etes connecter\n",
      "info recuperer\n"
     ]
    }
   ],
   "source": [
    "import json\n",
    "import numpy as np\n",
    "import pandas as pd\n",
    "from binance.client import Client\n",
    "import e #contains the api and secret keys\n",
    "\n",
    "\n",
    "\n",
    "#boucle pour se connecter\n",
    "disconnected = True\n",
    "while disconnected:\n",
    "    try :\n",
    "        client = Client(e.api_key, e.secret_key)\n",
    "        print(\"vous etes connecter\")\n",
    "        disconnected = False\n",
    "        connected = True\n",
    "    except:\n",
    "        print(\"impossible de se connecter\\nveuillez patientez\")\n",
    "\n",
    "#boucle pour recuperer les infos        \n",
    "get_info_error = True\n",
    "while get_info_error:\n",
    "    #get all the info of my  account\n",
    "    try:\n",
    "\n",
    "        info = client.get_account()\n",
    "        print('info recuperer')\n",
    "        get_info_error = False\n",
    "\n",
    "    except:\n",
    "        print('impossible de recuperer les infos')\n",
    "\n",
    "\n",
    "#create a dataframe that store and study the balances\n",
    "balance_dataframe= pd.DataFrame(info['balances'])\n",
    "\n",
    "\n",
    "#sort the portfolio by the quantity\n",
    "balance_dataframe.sort_values('free',ascending= False, inplace= True)\n",
    "\n",
    "#refaire les index\n",
    "balance_dataframe.reset_index(inplace = True)\n",
    "\n",
    "#supprimer un colonnes pas important\n",
    "balance_dataframe.drop(columns=['index'],inplace=True)\n",
    "#supprimer les deux indexes suivant le premier puisque il peut nuire l'algorithme\n",
    "\n",
    "balance_dataframe.drop(index=[1,2],inplace=True)\n",
    "\n"
   ]
  },
  {
   "cell_type": "code",
   "execution_count": 12,
   "metadata": {},
   "outputs": [
    {
     "output_type": "execute_result",
     "data": {
      "text/plain": [
       "    asset         free      locked\n",
       "0    USDT  10.03503420  0.00000000\n",
       "3     CRV   0.00000000  0.00000000\n",
       "4    EGLD   0.00000000  0.00000000\n",
       "5     TRB   0.00000000  0.00000000\n",
       "6    WNXM   0.00000000  0.00000000\n",
       "..    ...          ...         ...\n",
       "402   SKY   0.00000000  0.00000000\n",
       "403   TLM   0.00000000  0.00000000\n",
       "404  BIDR         0.00        0.00\n",
       "405  BVND         0.00        0.00\n",
       "406  IDRT         0.00        0.00\n",
       "\n",
       "[405 rows x 3 columns]"
      ],
      "text/html": "<div>\n<style scoped>\n    .dataframe tbody tr th:only-of-type {\n        vertical-align: middle;\n    }\n\n    .dataframe tbody tr th {\n        vertical-align: top;\n    }\n\n    .dataframe thead th {\n        text-align: right;\n    }\n</style>\n<table border=\"1\" class=\"dataframe\">\n  <thead>\n    <tr style=\"text-align: right;\">\n      <th></th>\n      <th>asset</th>\n      <th>free</th>\n      <th>locked</th>\n    </tr>\n  </thead>\n  <tbody>\n    <tr>\n      <th>0</th>\n      <td>USDT</td>\n      <td>10.03503420</td>\n      <td>0.00000000</td>\n    </tr>\n    <tr>\n      <th>3</th>\n      <td>CRV</td>\n      <td>0.00000000</td>\n      <td>0.00000000</td>\n    </tr>\n    <tr>\n      <th>4</th>\n      <td>EGLD</td>\n      <td>0.00000000</td>\n      <td>0.00000000</td>\n    </tr>\n    <tr>\n      <th>5</th>\n      <td>TRB</td>\n      <td>0.00000000</td>\n      <td>0.00000000</td>\n    </tr>\n    <tr>\n      <th>6</th>\n      <td>WNXM</td>\n      <td>0.00000000</td>\n      <td>0.00000000</td>\n    </tr>\n    <tr>\n      <th>...</th>\n      <td>...</td>\n      <td>...</td>\n      <td>...</td>\n    </tr>\n    <tr>\n      <th>402</th>\n      <td>SKY</td>\n      <td>0.00000000</td>\n      <td>0.00000000</td>\n    </tr>\n    <tr>\n      <th>403</th>\n      <td>TLM</td>\n      <td>0.00000000</td>\n      <td>0.00000000</td>\n    </tr>\n    <tr>\n      <th>404</th>\n      <td>BIDR</td>\n      <td>0.00</td>\n      <td>0.00</td>\n    </tr>\n    <tr>\n      <th>405</th>\n      <td>BVND</td>\n      <td>0.00</td>\n      <td>0.00</td>\n    </tr>\n    <tr>\n      <th>406</th>\n      <td>IDRT</td>\n      <td>0.00</td>\n      <td>0.00</td>\n    </tr>\n  </tbody>\n</table>\n<p>405 rows × 3 columns</p>\n</div>"
     },
     "metadata": {},
     "execution_count": 12
    }
   ],
   "source": [
    "balance_dataframe"
   ]
  }
 ]
}