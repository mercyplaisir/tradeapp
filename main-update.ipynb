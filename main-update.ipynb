{
 "metadata": {
  "language_info": {
   "codemirror_mode": {
    "name": "ipython",
    "version": 3
   },
   "file_extension": ".py",
   "mimetype": "text/x-python",
   "name": "python",
   "nbconvert_exporter": "python",
   "pygments_lexer": "ipython3",
   "version": "3.8.5-final"
  },
  "orig_nbformat": 2,
  "kernelspec": {
   "name": "python385jvsc74a57bd031f2aee4e71d21fbe5cf8b01ff0e069b9275f58929596ceb00d14d90e3e16cd6",
   "display_name": "Python 3.8.5 64-bit"
  },
  "metadata": {
   "interpreter": {
    "hash": "31f2aee4e71d21fbe5cf8b01ff0e069b9275f58929596ceb00d14d90e3e16cd6"
   }
  }
 },
 "nbformat": 4,
 "nbformat_minor": 2,
 "cells": [
  {
   "cell_type": "code",
   "execution_count": 37,
   "metadata": {},
   "outputs": [
    {
     "output_type": "stream",
     "name": "stdout",
     "text": [
      "impossible de se connecter\n",
      "veuillez patientez\n",
      "\n",
      "impossible de se connecter\n",
      "veuillez patientez\n",
      "\n",
      "vous etes connecter\n",
      "\n"
     ]
    }
   ],
   "source": [
    "import json\n",
    "import numpy as np\n",
    "import pandas as pd\n",
    "from binance.client import Client\n",
    "from binance.enums import *\n",
    "import math\n",
    "import datetime\n",
    "import time\n",
    "import e # contain os environ that contain binance  keys\n",
    "\n",
    "\n",
    "#boucle pour se connecter\n",
    "disconnected = True\n",
    "while disconnected:\n",
    "    try :\n",
    "        client = Client(e.api_key, e.secret_key)\n",
    "        print(\"vous etes connecter\\n\")\n",
    "        disconnected = False\n",
    "        connected = True\n",
    "    except:\n",
    "        print(\"impossible de se connecter\\nveuillez patientez\\n\")\n",
    "#----------------------------------------\n",
    "\n",
    "#--------process to choose a crypto to rade with----------------------\n",
    "tickers = client.get_ticker()\n",
    "\n",
    "\n",
    "list_of_crypto = ['BTC','ETH','XRP','BNB','OCEAN','OGN']\n",
    "crypto_info = []\n",
    "for ticker in tickers:\n",
    "    ticker.pop('weightedAvgPrice')\n",
    "    ticker.pop('quoteVolume')\n",
    "    ticker.pop('firstId')\n",
    "    ticker.pop('lastId')\n",
    "    ticker.pop('count')\n",
    "    ticker.pop('highPrice')\n",
    "    ticker.pop('lowPrice')\n",
    "    ticker.pop('lastQty')\n",
    "    ticker.pop('prevClosePrice')\n",
    "    ticker.pop('bidPrice')\n",
    "    ticker.pop('bidQty')\n",
    "    ticker.pop('askPrice')\n",
    "    ticker.pop('askQty')\n",
    "    ticker.pop('volume')\n",
    "    for i in list_of_crypto:\n",
    "        if (i+'USDT') == ticker['symbol']:\n",
    "            crypto_info.append(ticker)\n",
    "\n"
   ]
  },
  {
   "cell_type": "code",
   "execution_count": 38,
   "metadata": {},
   "outputs": [
    {
     "output_type": "execute_result",
     "data": {
      "text/plain": [
       "      symbol     priceChange priceChangePercent       lastPrice  \\\n",
       "0    BTCUSDT  -1423.77000000             -2.521  55052.43000000   \n",
       "1    ETHUSDT   -104.74000000             -4.687   2130.14000000   \n",
       "2    BNBUSDT    -21.03780000             -4.031    500.89750000   \n",
       "3    XRPUSDT     -0.19911000            -13.396      1.28719000   \n",
       "4    OGNUSDT     -0.39810000            -20.004      1.59200000   \n",
       "5  OCEANUSDT     -0.14170000             -9.859      1.29560000   \n",
       "\n",
       "        openPrice       openTime      closeTime  \n",
       "0  56476.20000000  1618809706012  1618896106012  \n",
       "1   2234.88000000  1618809706030  1618896106030  \n",
       "2    521.93530000  1618809706026  1618896106026  \n",
       "3      1.48630000  1618809706012  1618896106012  \n",
       "4      1.99010000  1618809705783  1618896105783  \n",
       "5      1.43730000  1618809700054  1618896100054  "
      ],
      "text/html": "<div>\n<style scoped>\n    .dataframe tbody tr th:only-of-type {\n        vertical-align: middle;\n    }\n\n    .dataframe tbody tr th {\n        vertical-align: top;\n    }\n\n    .dataframe thead th {\n        text-align: right;\n    }\n</style>\n<table border=\"1\" class=\"dataframe\">\n  <thead>\n    <tr style=\"text-align: right;\">\n      <th></th>\n      <th>symbol</th>\n      <th>priceChange</th>\n      <th>priceChangePercent</th>\n      <th>lastPrice</th>\n      <th>openPrice</th>\n      <th>openTime</th>\n      <th>closeTime</th>\n    </tr>\n  </thead>\n  <tbody>\n    <tr>\n      <th>0</th>\n      <td>BTCUSDT</td>\n      <td>-1423.77000000</td>\n      <td>-2.521</td>\n      <td>55052.43000000</td>\n      <td>56476.20000000</td>\n      <td>1618809706012</td>\n      <td>1618896106012</td>\n    </tr>\n    <tr>\n      <th>1</th>\n      <td>ETHUSDT</td>\n      <td>-104.74000000</td>\n      <td>-4.687</td>\n      <td>2130.14000000</td>\n      <td>2234.88000000</td>\n      <td>1618809706030</td>\n      <td>1618896106030</td>\n    </tr>\n    <tr>\n      <th>2</th>\n      <td>BNBUSDT</td>\n      <td>-21.03780000</td>\n      <td>-4.031</td>\n      <td>500.89750000</td>\n      <td>521.93530000</td>\n      <td>1618809706026</td>\n      <td>1618896106026</td>\n    </tr>\n    <tr>\n      <th>3</th>\n      <td>XRPUSDT</td>\n      <td>-0.19911000</td>\n      <td>-13.396</td>\n      <td>1.28719000</td>\n      <td>1.48630000</td>\n      <td>1618809706012</td>\n      <td>1618896106012</td>\n    </tr>\n    <tr>\n      <th>4</th>\n      <td>OGNUSDT</td>\n      <td>-0.39810000</td>\n      <td>-20.004</td>\n      <td>1.59200000</td>\n      <td>1.99010000</td>\n      <td>1618809705783</td>\n      <td>1618896105783</td>\n    </tr>\n    <tr>\n      <th>5</th>\n      <td>OCEANUSDT</td>\n      <td>-0.14170000</td>\n      <td>-9.859</td>\n      <td>1.29560000</td>\n      <td>1.43730000</td>\n      <td>1618809700054</td>\n      <td>1618896100054</td>\n    </tr>\n  </tbody>\n</table>\n</div>"
     },
     "metadata": {},
     "execution_count": 38
    }
   ],
   "source": [
    "crypto_info = pd.DataFrame(crypto_info)\n",
    "\n",
    "crypto_info"
   ]
  },
  {
   "cell_type": "code",
   "execution_count": 39,
   "metadata": {},
   "outputs": [
    {
     "output_type": "execute_result",
     "data": {
      "text/plain": [
       "      symbol     priceChange priceChangePercent       lastPrice  \\\n",
       "0  OCEANUSDT     -0.14170000             -9.859      1.29560000   \n",
       "1    ETHUSDT   -104.74000000             -4.687   2130.14000000   \n",
       "2    BNBUSDT    -21.03780000             -4.031    500.89750000   \n",
       "3    OGNUSDT     -0.39810000            -20.004      1.59200000   \n",
       "4    BTCUSDT  -1423.77000000             -2.521  55052.43000000   \n",
       "5    XRPUSDT     -0.19911000            -13.396      1.28719000   \n",
       "\n",
       "        openPrice       openTime      closeTime  \n",
       "0      1.43730000  1618809700054  1618896100054  \n",
       "1   2234.88000000  1618809706030  1618896106030  \n",
       "2    521.93530000  1618809706026  1618896106026  \n",
       "3      1.99010000  1618809705783  1618896105783  \n",
       "4  56476.20000000  1618809706012  1618896106012  \n",
       "5      1.48630000  1618809706012  1618896106012  "
      ],
      "text/html": "<div>\n<style scoped>\n    .dataframe tbody tr th:only-of-type {\n        vertical-align: middle;\n    }\n\n    .dataframe tbody tr th {\n        vertical-align: top;\n    }\n\n    .dataframe thead th {\n        text-align: right;\n    }\n</style>\n<table border=\"1\" class=\"dataframe\">\n  <thead>\n    <tr style=\"text-align: right;\">\n      <th></th>\n      <th>symbol</th>\n      <th>priceChange</th>\n      <th>priceChangePercent</th>\n      <th>lastPrice</th>\n      <th>openPrice</th>\n      <th>openTime</th>\n      <th>closeTime</th>\n    </tr>\n  </thead>\n  <tbody>\n    <tr>\n      <th>0</th>\n      <td>OCEANUSDT</td>\n      <td>-0.14170000</td>\n      <td>-9.859</td>\n      <td>1.29560000</td>\n      <td>1.43730000</td>\n      <td>1618809700054</td>\n      <td>1618896100054</td>\n    </tr>\n    <tr>\n      <th>1</th>\n      <td>ETHUSDT</td>\n      <td>-104.74000000</td>\n      <td>-4.687</td>\n      <td>2130.14000000</td>\n      <td>2234.88000000</td>\n      <td>1618809706030</td>\n      <td>1618896106030</td>\n    </tr>\n    <tr>\n      <th>2</th>\n      <td>BNBUSDT</td>\n      <td>-21.03780000</td>\n      <td>-4.031</td>\n      <td>500.89750000</td>\n      <td>521.93530000</td>\n      <td>1618809706026</td>\n      <td>1618896106026</td>\n    </tr>\n    <tr>\n      <th>3</th>\n      <td>OGNUSDT</td>\n      <td>-0.39810000</td>\n      <td>-20.004</td>\n      <td>1.59200000</td>\n      <td>1.99010000</td>\n      <td>1618809705783</td>\n      <td>1618896105783</td>\n    </tr>\n    <tr>\n      <th>4</th>\n      <td>BTCUSDT</td>\n      <td>-1423.77000000</td>\n      <td>-2.521</td>\n      <td>55052.43000000</td>\n      <td>56476.20000000</td>\n      <td>1618809706012</td>\n      <td>1618896106012</td>\n    </tr>\n    <tr>\n      <th>5</th>\n      <td>XRPUSDT</td>\n      <td>-0.19911000</td>\n      <td>-13.396</td>\n      <td>1.28719000</td>\n      <td>1.48630000</td>\n      <td>1618809706012</td>\n      <td>1618896106012</td>\n    </tr>\n  </tbody>\n</table>\n</div>"
     },
     "metadata": {},
     "execution_count": 39
    }
   ],
   "source": [
    "#trier les indexes pour que 0 correspondents avec maintenant\n",
    "crypto_info.sort_values('priceChangePercent',ascending=False,inplace=True)\n",
    "\n",
    "#refaire les index\n",
    "crypto_info.reset_index(inplace = True)\n",
    "\n",
    "#supprimer un colonnes pas important\n",
    "crypto_info.drop(columns=['index'],inplace=True)\n",
    "\n",
    "\n",
    "\n",
    "crypto_info\n",
    "\n"
   ]
  },
  {
   "cell_type": "code",
   "execution_count": 40,
   "metadata": {},
   "outputs": [
    {
     "output_type": "stream",
     "name": "stdout",
     "text": [
      "crypto that we gonna use is OCEANUSDT, price change= -9.859%\n"
     ]
    }
   ],
   "source": [
    "#coin that we gonna use to trade\n",
    "coin_to_trade = crypto_info.iloc[0]['symbol']\n",
    "#price change percent\n",
    "price_change = str(crypto_info.iloc[0]['priceChangePercent'])+'%'\n",
    "print('crypto that we gonna use is {}, price change= {}'.format(coin_to_trade,price_change))\n",
    "#---------------------------------------------------------------------------------------------\n"
   ]
  },
  {
   "cell_type": "code",
   "execution_count": 41,
   "metadata": {},
   "outputs": [
    {
     "output_type": "stream",
     "name": "stdout",
     "text": [
      "------------------------------------\nprix recuperer\n{'symbol': 'OCEANUSDT', 'price': '1.29560000'}\n"
     ]
    },
    {
     "output_type": "execute_result",
     "data": {
      "text/plain": [
       "1.2956"
      ]
     },
     "metadata": {},
     "execution_count": 41
    }
   ],
   "source": [
    "#boucle pour recuperer le prix\n",
    "coin_ticker = client.get_symbol_ticker(symbol=coin_to_trade)\n",
    "coin_price = float(coin_ticker['price'])\n",
    "\n",
    "print('------------------------------------')\n",
    "print('prix recuperer')\n",
    "print(coin_ticker)\n",
    "coin_price"
   ]
  },
  {
   "cell_type": "code",
   "execution_count": 42,
   "metadata": {},
   "outputs": [
    {
     "output_type": "stream",
     "name": "stdout",
     "text": [
      "klines recuperer\n"
     ]
    }
   ],
   "source": [
    "#-------pou recupererles klines en 15 min et calculer les SMA-----------------------\n",
    "\n",
    "# fetch 15 minute klines for the last day up until now\n",
    "#klines_1min = client.get_historical_klines(coin_to_trade, Client.KLINE_INTERVAL_1MINUTE, \"1 day ago UTC\")\n",
    "klines_15min = client.get_historical_klines(coin_to_trade, Client.KLINE_INTERVAL_15MINUTE, \"1 day ago UTC\")\n",
    "\n",
    "print('klines recuperer')\n"
   ]
  },
  {
   "cell_type": "code",
   "execution_count": 43,
   "metadata": {},
   "outputs": [
    {
     "output_type": "execute_result",
     "data": {
      "text/plain": [
       "             open_time close_price    SMA_15    SMA_50\n",
       "0  2021-04-20 07:15:00  1.29560000  1.303113  1.360736\n",
       "1  2021-04-20 07:00:00  1.30020000  1.309220  1.362772\n",
       "2  2021-04-20 06:45:00  1.31200000  1.315547  1.365780\n",
       "3  2021-04-20 06:30:00  1.30140000  1.321253  1.368988\n",
       "4  2021-04-20 03:45:00  1.26750000  1.327573  1.372534\n",
       "..                 ...         ...       ...       ...\n",
       "81 2021-04-19 08:30:00  1.44620000       NaN       NaN\n",
       "82 2021-04-19 08:15:00  1.44430000       NaN       NaN\n",
       "83 2021-04-19 08:00:00  1.44300000       NaN       NaN\n",
       "84 2021-04-19 07:45:00  1.43470000       NaN       NaN\n",
       "85 2021-04-19 07:30:00  1.44440000       NaN       NaN\n",
       "\n",
       "[86 rows x 4 columns]"
      ],
      "text/html": "<div>\n<style scoped>\n    .dataframe tbody tr th:only-of-type {\n        vertical-align: middle;\n    }\n\n    .dataframe tbody tr th {\n        vertical-align: top;\n    }\n\n    .dataframe thead th {\n        text-align: right;\n    }\n</style>\n<table border=\"1\" class=\"dataframe\">\n  <thead>\n    <tr style=\"text-align: right;\">\n      <th></th>\n      <th>open_time</th>\n      <th>close_price</th>\n      <th>SMA_15</th>\n      <th>SMA_50</th>\n    </tr>\n  </thead>\n  <tbody>\n    <tr>\n      <th>0</th>\n      <td>2021-04-20 07:15:00</td>\n      <td>1.29560000</td>\n      <td>1.303113</td>\n      <td>1.360736</td>\n    </tr>\n    <tr>\n      <th>1</th>\n      <td>2021-04-20 07:00:00</td>\n      <td>1.30020000</td>\n      <td>1.309220</td>\n      <td>1.362772</td>\n    </tr>\n    <tr>\n      <th>2</th>\n      <td>2021-04-20 06:45:00</td>\n      <td>1.31200000</td>\n      <td>1.315547</td>\n      <td>1.365780</td>\n    </tr>\n    <tr>\n      <th>3</th>\n      <td>2021-04-20 06:30:00</td>\n      <td>1.30140000</td>\n      <td>1.321253</td>\n      <td>1.368988</td>\n    </tr>\n    <tr>\n      <th>4</th>\n      <td>2021-04-20 03:45:00</td>\n      <td>1.26750000</td>\n      <td>1.327573</td>\n      <td>1.372534</td>\n    </tr>\n    <tr>\n      <th>...</th>\n      <td>...</td>\n      <td>...</td>\n      <td>...</td>\n      <td>...</td>\n    </tr>\n    <tr>\n      <th>81</th>\n      <td>2021-04-19 08:30:00</td>\n      <td>1.44620000</td>\n      <td>NaN</td>\n      <td>NaN</td>\n    </tr>\n    <tr>\n      <th>82</th>\n      <td>2021-04-19 08:15:00</td>\n      <td>1.44430000</td>\n      <td>NaN</td>\n      <td>NaN</td>\n    </tr>\n    <tr>\n      <th>83</th>\n      <td>2021-04-19 08:00:00</td>\n      <td>1.44300000</td>\n      <td>NaN</td>\n      <td>NaN</td>\n    </tr>\n    <tr>\n      <th>84</th>\n      <td>2021-04-19 07:45:00</td>\n      <td>1.43470000</td>\n      <td>NaN</td>\n      <td>NaN</td>\n    </tr>\n    <tr>\n      <th>85</th>\n      <td>2021-04-19 07:30:00</td>\n      <td>1.44440000</td>\n      <td>NaN</td>\n      <td>NaN</td>\n    </tr>\n  </tbody>\n</table>\n<p>86 rows × 4 columns</p>\n</div>"
     },
     "metadata": {},
     "execution_count": 43
    }
   ],
   "source": [
    "#changer timestamp en date\n",
    "for kline in klines_15min:\n",
    "    kline[0] = datetime.datetime.fromtimestamp(kline[0] / 1e3)\n",
    "\n",
    "klines = pd.DataFrame(klines_15min)#changer en dataframe\n",
    "klines.drop(columns=[1,2,3,5,6,7,8,9,10,11],inplace= True)#supprimer les collonnes qui ne sont pas necessaires\n",
    "klines.columns = ['open_time','close_price']#renommer les colonnes\n",
    "\n",
    "#creer un SMA15\n",
    "klines['SMA_15'] = klines.iloc[:,1].rolling(window=15).mean()\n",
    "\n",
    "#creer un SMA50\n",
    "klines['SMA_50'] = klines.iloc[:,1].rolling(window=50).mean()\n",
    "\n",
    "#trier les indexes pour que 0 correspondents avec maintenant\n",
    "klines.sort_index(ascending=False,inplace=True)\n",
    "\n",
    "#refaire les index\n",
    "klines.reset_index(inplace = True)\n",
    "\n",
    "#supprimer un colonnes pas important\n",
    "klines.drop(columns=['index'],inplace=True)\n",
    "\n",
    "klines"
   ]
  }
 ]
}