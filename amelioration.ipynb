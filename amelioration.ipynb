{
 "metadata": {
  "language_info": {
   "codemirror_mode": {
    "name": "ipython",
    "version": 3
   },
   "file_extension": ".py",
   "mimetype": "text/x-python",
   "name": "python",
   "nbconvert_exporter": "python",
   "pygments_lexer": "ipython3",
   "version": "3.8.5-final"
  },
  "orig_nbformat": 2,
  "kernelspec": {
   "name": "python385jvsc74a57bd031f2aee4e71d21fbe5cf8b01ff0e069b9275f58929596ceb00d14d90e3e16cd6",
   "display_name": "Python 3.8.5 64-bit"
  },
  "metadata": {
   "interpreter": {
    "hash": "31f2aee4e71d21fbe5cf8b01ff0e069b9275f58929596ceb00d14d90e3e16cd6"
   }
  }
 },
 "nbformat": 4,
 "nbformat_minor": 2,
 "cells": [
  {
   "cell_type": "code",
   "execution_count": 9,
   "metadata": {},
   "outputs": [
    {
     "output_type": "stream",
     "name": "stdout",
     "text": [
      "impossible de se connecter\n",
      "veuillez patientez\n",
      "impossible de se connecter\n",
      "veuillez patientez\n",
      "vous etes connecter\n",
      "info recuperer\n",
      "balance is read\n"
     ]
    }
   ],
   "source": [
    "import json\n",
    "import numpy as np\n",
    "import pandas as pd\n",
    "from binance.client import Client\n",
    "import e #contains the api and secret keys\n",
    "\n",
    "\n",
    "#boucle pour se connecter\n",
    "disconnected = True\n",
    "while disconnected:\n",
    "    try :\n",
    "        client = Client(e.api_key, e.secret_key)\n",
    "        print(\"vous etes connecter\")\n",
    "        disconnected = False\n",
    "        connected = True\n",
    "    except:\n",
    "        print(\"impossible de se connecter\\nveuillez patientez\")\n",
    "\n",
    "#boucle pour recuperer les infos        \n",
    "get_info_error = True\n",
    "while get_info_error:\n",
    "    #get all the info of my  account\n",
    "    try:\n",
    "\n",
    "        info = client.get_account()\n",
    "        print('info recuperer')\n",
    "        get_info_error = False\n",
    "        get_info = True\n",
    "    except:\n",
    "        print('impossible de recuperer les infos')\n",
    "\n",
    "\n",
    "#create a dataframe that store and study the balances\n",
    "balance_dataframe= pd.DataFrame(info['balances'])\n",
    "\n",
    "#sort the portfolio by the quantity\n",
    "balance_dataframe.sort_values('free',ascending= False, inplace= True)\n",
    "print('balance is read')\n",
    "\n"
   ]
  }
 ]
}