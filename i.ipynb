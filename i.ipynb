{
 "metadata": {
  "language_info": {
   "codemirror_mode": {
    "name": "ipython",
    "version": 3
   },
   "file_extension": ".py",
   "mimetype": "text/x-python",
   "name": "python",
   "nbconvert_exporter": "python",
   "pygments_lexer": "ipython3",
   "version": "3.8.5"
  },
  "orig_nbformat": 2,
  "kernelspec": {
   "name": "python385jvsc74a57bd031f2aee4e71d21fbe5cf8b01ff0e069b9275f58929596ceb00d14d90e3e16cd6",
   "display_name": "Python 3.8.5 64-bit"
  },
  "metadata": {
   "interpreter": {
    "hash": "31f2aee4e71d21fbe5cf8b01ff0e069b9275f58929596ceb00d14d90e3e16cd6"
   }
  }
 },
 "nbformat": 4,
 "nbformat_minor": 2,
 "cells": [
  {
   "cell_type": "code",
   "execution_count": 23,
   "metadata": {},
   "outputs": [
    {
     "output_type": "stream",
     "name": "stdout",
     "text": [
      "vous etes connecter\n\n"
     ]
    }
   ],
   "source": [
    "#import json\n",
    "import numpy as np\n",
    "import pandas as pd\n",
    "from binance.client import Client\n",
    "from binance.enums import *\n",
    "import math\n",
    "import datetime\n",
    "import time\n",
    "import json\n",
    "\n",
    "apikey='pPLvK8xoiqqTQi1IoLJQscGmI4uEqZBvkONXEfA7mq5dVptusfiYNaobXTiPHlv'\n",
    "secretkey='teJqKc0KiS6Ftg4FPPwfb2rocz8t8S7MmjnwjouoYuezp2Ue5Gsojmr9fXkqdYFK'\n",
    "\n",
    "\n",
    "\n",
    "#boucle pour se connecter\n",
    "disconnected = True\n",
    "while disconnected:\n",
    "    try :\n",
    "        client = Client(apikey,secretkey)\n",
    "        print(\"vous etes connecter\\n\")\n",
    "        disconnected = False\n",
    "        connected = True\n",
    "    except:\n",
    "        print(\"impossible de se connecter\\nveuillez patientez\\n\")\n",
    "#----------------------------------------"
   ]
  },
  {
   "cell_type": "code",
   "execution_count": 24,
   "metadata": {},
   "outputs": [],
   "source": [
    "balance = client.get_asset_balance(asset='BTC')"
   ]
  },
  {
   "cell_type": "code",
   "execution_count": 25,
   "metadata": {},
   "outputs": [
    {
     "output_type": "execute_result",
     "data": {
      "text/plain": [
       "{'asset': 'BTC', 'free': '0.00000000', 'locked': '0.00000000'}"
      ]
     },
     "metadata": {},
     "execution_count": 25
    }
   ],
   "source": [
    "balance"
   ]
  },
  {
   "cell_type": "code",
   "execution_count": 26,
   "metadata": {},
   "outputs": [],
   "source": [
    "info = client.get_margin_account()"
   ]
  },
  {
   "cell_type": "code",
   "execution_count": 32,
   "metadata": {},
   "outputs": [],
   "source": [
    "def margin_balance_of(coin:str):\n",
    "    info = client.get_margin_account()\n",
    "    for i in info['userAssets']:\n",
    "\n",
    "        if i['asset']==coin:\n",
    "            balance = float(str(i['free'])[:7])\n",
    "    return balance\n"
   ]
  },
  {
   "cell_type": "code",
   "execution_count": 33,
   "metadata": {},
   "outputs": [
    {
     "output_type": "execute_result",
     "data": {
      "text/plain": [
       "0.00031"
      ]
     },
     "metadata": {},
     "execution_count": 33
    }
   ],
   "source": [
    "btc =  margin_balance_of('BTC')\n",
    "btc"
   ]
  },
  {
   "cell_type": "code",
   "execution_count": null,
   "metadata": {},
   "outputs": [],
   "source": []
  }
 ]
}