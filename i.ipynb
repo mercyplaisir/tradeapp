{
 "metadata": {
  "language_info": {
   "codemirror_mode": {
    "name": "ipython",
    "version": 3
   },
   "file_extension": ".py",
   "mimetype": "text/x-python",
   "name": "python",
   "nbconvert_exporter": "python",
   "pygments_lexer": "ipython3",
   "version": "3.8.5"
  },
  "orig_nbformat": 2,
  "kernelspec": {
   "name": "python385jvsc74a57bd031f2aee4e71d21fbe5cf8b01ff0e069b9275f58929596ceb00d14d90e3e16cd6",
   "display_name": "Python 3.8.5 64-bit"
  },
  "metadata": {
   "interpreter": {
    "hash": "31f2aee4e71d21fbe5cf8b01ff0e069b9275f58929596ceb00d14d90e3e16cd6"
   }
  }
 },
 "nbformat": 4,
 "nbformat_minor": 2,
 "cells": [
  {
   "cell_type": "code",
   "execution_count": 23,
   "metadata": {},
   "outputs": [
    {
     "output_type": "stream",
     "name": "stdout",
     "text": [
      "impossible de se connecter\n",
      "veuillez patientez\n",
      "\n",
      "vous etes connecter\n",
      "\n"
     ]
    }
   ],
   "source": [
    "#import json\n",
    "import numpy as np\n",
    "import pandas as pd\n",
    "from binance.client import Client\n",
    "from binance.enums import *\n",
    "import math\n",
    "import datetime\n",
    "import time\n",
    "import json\n",
    "\n",
    "apikey='pPLvK8xoiqqTQi1IoLJQscGmI4uEqZBvkONXEfA7mq5dVptusfiYNaobXTiPHlvn'\n",
    "secretkey='teJqKc0KiS6Ftg4FPPwfb2rocz8t8S7MmjnwjouoYuezp2Ue5Gsojmr9fXkqdYFK'\n",
    "\n",
    "\n",
    "\n",
    "#boucle pour se connecter\n",
    "disconnected = True\n",
    "while disconnected:\n",
    "    try :\n",
    "        client = Client(apikey,secretkey)\n",
    "        print(\"vous etes connecter\\n\")\n",
    "        disconnected = False\n",
    "        connected = True\n",
    "    except:\n",
    "        print(\"impossible de se connecter\\nveuillez patientez\\n\")\n",
    "#----------------------------------------"
   ]
  },
  {
   "cell_type": "code",
   "execution_count": 124,
   "metadata": {},
   "outputs": [],
   "source": [
    "def order_quantity_of(balance:float,coin:str):\n",
    "    \n",
    "    coin_ticker_usd = client.get_symbol_ticker(symbol=coin+'USDT')\n",
    "    coin_price_usd= float(coin_ticker_usd['price'])\n",
    "    coin_ticker = client.get_symbol_ticker(symbol=coin+'BTC')\n",
    "    coin_price = float(coin_ticker['price'])\n",
    "    if coin=='ETH':\n",
    "        q = balance / coin_price\n",
    "        q =float(str(q)[:5])\n",
    "    if coin!='ETH':\n",
    "        if 500<=coin_price_usd<=700:\n",
    "            q = balance / coin_price\n",
    "            q =float(str(q)[:5])\n",
    "\n",
    "        elif 16<=coin_price_usd<=49:\n",
    "            q = balance / coin_price\n",
    "            q =float(str(q)[:3])\n",
    "\n",
    "        elif 0<=coin_price_usd<=15:\n",
    "            q = balance / coin_price\n",
    "            q =float(str(q)[:2])\n",
    "    return q\n",
    "    \n",
    "\n"
   ]
  },
  {
   "cell_type": "code",
   "execution_count": 121,
   "metadata": {},
   "outputs": [],
   "source": [
    "def margin_balance_of(coin:str):\n",
    "    info = client.get_margin_account()\n",
    "    for i in info['userAssets']:\n",
    "        if coin=='ETH':\n",
    "            if i['asset']==coin:\n",
    "                balance = float(str(i['free'])[:5])\n",
    "\n",
    "        elif coin=='BTC':\n",
    "            if i['asset']==coin:\n",
    "                balance = float(str(i['free'])[:7])\n",
    "\n",
    "        elif i['asset']==coin:\n",
    "            balance = round((float(str(i['free'])[:4])),3)\n",
    "    return balance\n",
    "\n"
   ]
  },
  {
   "cell_type": "code",
   "execution_count": 122,
   "metadata": {},
   "outputs": [],
   "source": [
    "balance = margin_balance_of('BTC')"
   ]
  },
  {
   "cell_type": "code",
   "execution_count": 128,
   "metadata": {},
   "outputs": [],
   "source": [
    "x =order_quantity_of(balance,'DOGE')"
   ]
  },
  {
   "cell_type": "code",
   "execution_count": 129,
   "metadata": {},
   "outputs": [
    {
     "output_type": "execute_result",
     "data": {
      "text/plain": [
       "64.0"
      ]
     },
     "metadata": {},
     "execution_count": 129
    }
   ],
   "source": [
    "x"
   ]
  }
 ]
}