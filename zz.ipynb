{
 "cells": [
  {
   "cell_type": "code",
   "execution_count": 2,
   "source": [
    "import json\n",
    "\n",
    "from src.api.virtualbinance import VirtualClient\n",
    "from src.api.sensitive import BINANCE_PRIVATE_KEY,BINANCE_PUBLIC_KEY\n",
    "\n",
    "\n",
    "#init client\n",
    "client = VirtualClient(publickey=BINANCE_PUBLIC_KEY,\n",
    "                        secretkey=BINANCE_PRIVATE_KEY)\n",
    "\n",
    "#coin in possession\n",
    "client.coin = 'BTC'\n",
    "\n",
    "    \n"
   ],
   "outputs": [
    {
     "output_type": "stream",
     "name": "stdout",
     "text": [
      ">>>connection a BINANCE effectue avec succes\n",
      ">>>Initialisation terminee\n"
     ]
    }
   ],
   "metadata": {}
  },
  {
   "cell_type": "code",
   "execution_count": 3,
   "source": [
    "client.coin='BNB'\n",
    "client.run()"
   ],
   "outputs": [],
   "metadata": {}
  }
 ],
 "metadata": {
  "orig_nbformat": 4,
  "language_info": {
   "name": "python",
   "version": "3.9.7",
   "mimetype": "text/x-python",
   "codemirror_mode": {
    "name": "ipython",
    "version": 3
   },
   "pygments_lexer": "ipython3",
   "nbconvert_exporter": "python",
   "file_extension": ".py"
  },
  "kernelspec": {
   "name": "python3",
   "display_name": "Python 3.9.7 64-bit ('venv': venv)"
  },
  "interpreter": {
   "hash": "6ada0f45aa9bc5962fb5913a1c50ec849db13bbf245b0d3726b66e0cd6b072d7"
  }
 },
 "nbformat": 4,
 "nbformat_minor": 2
}