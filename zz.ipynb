{
 "cells": [
  {
   "cell_type": "code",
   "execution_count": 10,
   "source": [
    "import json\n",
    "\n",
    "with open(\"kline.json\",'r') as f:\n",
    "    klines = json.load(f)"
   ],
   "outputs": [],
   "metadata": {}
  },
  {
   "cell_type": "code",
   "execution_count": null,
   "source": [],
   "outputs": [],
   "metadata": {}
  },
  {
   "cell_type": "code",
   "execution_count": 11,
   "source": [
    "klines[-1]"
   ],
   "outputs": [
    {
     "output_type": "execute_result",
     "data": {
      "text/plain": [
       "['2021-10-20 02:00:00',\n",
       " '0.00759200',\n",
       " '0.00763400',\n",
       " '0.00753000',\n",
       " '0.00759200',\n",
       " '59382.61800000',\n",
       " '2021-10-21 01:59:59',\n",
       " '450.46707317',\n",
       " 38574,\n",
       " '30130.42900000',\n",
       " '228.59606135',\n",
       " '0']"
      ]
     },
     "metadata": {},
     "execution_count": 11
    }
   ],
   "metadata": {}
  }
 ],
 "metadata": {
  "orig_nbformat": 4,
  "language_info": {
   "name": "python",
   "version": "3.9.7",
   "mimetype": "text/x-python",
   "codemirror_mode": {
    "name": "ipython",
    "version": 3
   },
   "pygments_lexer": "ipython3",
   "nbconvert_exporter": "python",
   "file_extension": ".py"
  },
  "kernelspec": {
   "name": "python3",
   "display_name": "Python 3.9.7 64-bit ('venv': venv)"
  },
  "interpreter": {
   "hash": "6ada0f45aa9bc5962fb5913a1c50ec849db13bbf245b0d3726b66e0cd6b072d7"
  }
 },
 "nbformat": 4,
 "nbformat_minor": 2
}