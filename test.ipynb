{
 "metadata": {
  "language_info": {
   "codemirror_mode": {
    "name": "ipython",
    "version": 3
   },
   "file_extension": ".py",
   "mimetype": "text/x-python",
   "name": "python",
   "nbconvert_exporter": "python",
   "pygments_lexer": "ipython3",
   "version": "3.8.5"
  },
  "orig_nbformat": 2,
  "kernelspec": {
   "name": "python385jvsc74a57bd0916dbcbb3f70747c44a77c7bcd40155683ae19c65e1c03b4aa3499c5328201f1",
   "display_name": "Python 3.8.5 64-bit"
  },
  "metadata": {
   "interpreter": {
    "hash": "916dbcbb3f70747c44a77c7bcd40155683ae19c65e1c03b4aa3499c5328201f1"
   }
  }
 },
 "nbformat": 4,
 "nbformat_minor": 2,
 "cells": [
  {
   "cell_type": "code",
   "execution_count": null,
   "metadata": {},
   "outputs": [],
   "source": [
    "from tools import *"
   ]
  },
  {
   "cell_type": "code",
   "execution_count": null,
   "metadata": {},
   "outputs": [],
   "source": [
    "get_coin_price('BTCUSDT')"
   ]
  },
  {
   "cell_type": "code",
   "execution_count": null,
   "metadata": {},
   "outputs": [],
   "source": [
    "x = client.get_historical_klines('BNBBTC','1h',\"5 days ago UTC\")"
   ]
  },
  {
   "cell_type": "code",
   "execution_count": null,
   "metadata": {},
   "outputs": [],
   "source": [
    "for xx in x:\n",
    "    xx[0]=datetime.datetime.fromtimestamp(xx[0]/1e3)"
   ]
  },
  {
   "cell_type": "code",
   "execution_count": null,
   "metadata": {},
   "outputs": [],
   "source": [
    "pd.DataFrame(x)"
   ]
  },
  {
   "cell_type": "code",
   "execution_count": null,
   "metadata": {},
   "outputs": [],
   "source": [
    "tickers = client.get_ticker()"
   ]
  },
  {
   "cell_type": "code",
   "execution_count": 4,
   "metadata": {},
   "outputs": [],
   "source": [
    "liste_of_crypto = ['ETH','DOGE','XRP','BNB','LINK','ADA','LTC','DOT','AAVE','NEO','BCH']\n",
    "\n",
    "a=[]\n",
    "import websocket\n",
    "import json\n",
    "import random"
   ]
  },
  {
   "cell_type": "code",
   "execution_count": 58,
   "metadata": {},
   "outputs": [],
   "source": [
    "for n in range(0,(len(liste_of_crypto)-1)):\n",
    "    while True:\n",
    "        try:\n",
    "            coin=liste_of_crypto[n]\n",
    "            coin_to_trade= coin+'BTC'\n",
    "            sockete = f\"wss://stream.binance.com:9443/ws/{coin_to_trade.lower()}@kline_1d\"\n",
    "            was= websocket.create_connection(sockete)\n",
    "\n",
    "            json_result = was.recv()\n",
    "            was.close()\n",
    "            dict_result=json.loads(json_result)\n",
    "\n",
    "            a.append(dict_result)\n",
    "\n",
    "            break\n",
    "        except:\n",
    "            pass\n",
    "    break\n",
    "    \n",
    "\n",
    "\n",
    "    "
   ]
  },
  {
   "cell_type": "code",
   "execution_count": 53,
   "metadata": {},
   "outputs": [],
   "source": [
    "def percent_change(original_number:float,new_number:float):\n",
    "    \"\"\"\n",
    "    variation du prix en pourcentage entrer 2nombres\n",
    "    \"\"\"\n",
    "    z = ((new_number-original_number)/original_number)*100\n",
    "    return z"
   ]
  },
  {
   "cell_type": "code",
   "execution_count": 59,
   "metadata": {},
   "outputs": [],
   "source": [
    "dict_result['k']['priceChange']= percent_change(float(dict_result['k']['o']),\n",
    "float(dict_result['k']['c']))\n"
   ]
  },
  {
   "cell_type": "code",
   "execution_count": 60,
   "metadata": {},
   "outputs": [
    {
     "output_type": "execute_result",
     "data": {
      "text/plain": [
       "{'e': 'kline',\n",
       " 'E': 1621030342389,\n",
       " 's': 'ETHBTC',\n",
       " 'k': {'t': 1620950400000,\n",
       "  'T': 1621036799999,\n",
       "  's': 'ETHBTC',\n",
       "  'i': '1d',\n",
       "  'f': 264089052,\n",
       "  'L': 264514231,\n",
       "  'o': '0.07488600',\n",
       "  'c': '0.08124400',\n",
       "  'h': '0.08162900',\n",
       "  'l': '0.07445100',\n",
       "  'v': '268411.33700000',\n",
       "  'n': 425180,\n",
       "  'x': False,\n",
       "  'q': '21188.72968237',\n",
       "  'V': '137138.43500000',\n",
       "  'Q': '10831.08551205',\n",
       "  'B': '0',\n",
       "  'priceChange': 8.490238495847024}}"
      ]
     },
     "metadata": {},
     "execution_count": 60
    }
   ],
   "source": [
    "dict_result"
   ]
  }
 ]
}