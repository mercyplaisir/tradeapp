{
 "metadata": {
  "language_info": {
   "codemirror_mode": {
    "name": "ipython",
    "version": 3
   },
   "file_extension": ".py",
   "mimetype": "text/x-python",
   "name": "python",
   "nbconvert_exporter": "python",
   "pygments_lexer": "ipython3",
   "version": "3.8.5"
  },
  "orig_nbformat": 2,
  "kernelspec": {
   "name": "python385jvsc74a57bd031f2aee4e71d21fbe5cf8b01ff0e069b9275f58929596ceb00d14d90e3e16cd6",
   "display_name": "Python 3.8.5 64-bit"
  },
  "metadata": {
   "interpreter": {
    "hash": "31f2aee4e71d21fbe5cf8b01ff0e069b9275f58929596ceb00d14d90e3e16cd6"
   }
  }
 },
 "nbformat": 4,
 "nbformat_minor": 2,
 "cells": [
  {
   "cell_type": "code",
   "execution_count": 1,
   "metadata": {},
   "outputs": [
    {
     "output_type": "stream",
     "name": "stdout",
     "text": [
      "vous etes connecter\n\n"
     ]
    }
   ],
   "source": [
    "import numpy as np\n",
    "import pandas as pd\n",
    "from binance.client import Client\n",
    "from binance.enums import *\n",
    "import math\n",
    "import datetime\n",
    "import time\n",
    "import json\n",
    "import random\n",
    "from tools import *\n",
    "\n",
    "\n",
    "apikey='eKDyjsVeMhssfXL89oil2keouZSfpnJwqJV3mfvApOYDylfUjGc6hKAtapQIHL3b'\n",
    "secretkey='hISw2v7P96RXq698sIQVUGHfhX3Jt8aqh9FOlURGfXFwelYKq1R5oPfUbfWtD9lo'\n",
    "\n",
    "disconnected = True\n",
    "while disconnected:\n",
    "    try :\n",
    "        client = Client(apikey,secretkey)\n",
    "        print(\"vous etes connecter\\n\")\n",
    "        disconnected = False\n",
    "        connected = True\n",
    "    except:\n",
    "        print(\"impossible de se connecter\\nveuillez patientez\\n\")\n",
    "#-_-_-_-_-_-_-_-_-_-_-_-_-_-_-_-_-"
   ]
  },
  {
   "cell_type": "code",
   "execution_count": 28,
   "metadata": {},
   "outputs": [],
   "source": [
    "x = client.get_margin_account()"
   ]
  },
  {
   "cell_type": "code",
   "execution_count": 29,
   "metadata": {},
   "outputs": [],
   "source": [
    "a=[]"
   ]
  },
  {
   "cell_type": "code",
   "execution_count": 30,
   "metadata": {},
   "outputs": [],
   "source": [
    "for i in x['userAssets']:\n",
    "    #if float(i['asset'])>0:\n",
    "    a.append(i['asset'])\n"
   ]
  },
  {
   "cell_type": "code",
   "execution_count": 31,
   "metadata": {},
   "outputs": [
    {
     "output_type": "stream",
     "name": "stdout",
     "text": [
      "61\n"
     ]
    }
   ],
   "source": [
    "j=0\n",
    "for i in a:\n",
    "    j+=1\n",
    "\n",
    "print(j)"
   ]
  },
  {
   "cell_type": "code",
   "execution_count": 32,
   "metadata": {},
   "outputs": [
    {
     "output_type": "stream",
     "name": "stdout",
     "text": [
      "{'asset': 'USDT', 'free': '0.02496404', 'locked': '0', 'borrowed': '12', 'interest': '0', 'netAsset': '-11.97503596'}\n{'asset': 'BTC', 'free': '0.00030856', 'locked': '0', 'borrowed': '0', 'interest': '0', 'netAsset': '0.00030856'}\n{'asset': 'BNB', 'free': '0.00367417', 'locked': '0', 'borrowed': '0', 'interest': '0.00026994', 'netAsset': '0.00340423'}\n"
     ]
    }
   ],
   "source": [
    "for i in x['userAssets']:\n",
    "    if float(i['free'])>0:\n",
    "        print(i)"
   ]
  },
  {
   "cell_type": "code",
   "execution_count": 33,
   "metadata": {},
   "outputs": [
    {
     "output_type": "execute_result",
     "data": {
      "text/plain": [
       "0.0003"
      ]
     },
     "metadata": {},
     "execution_count": 33
    }
   ],
   "source": [
    "margin_balance_of('BTC')"
   ]
  },
  {
   "cell_type": "code",
   "execution_count": 34,
   "metadata": {},
   "outputs": [],
   "source": [
    "tickers = client.get_ticker()\n",
    "crypto_info = []\n",
    "for ticker in tickers:\n",
    "    ticker.pop('weightedAvgPrice')\n",
    "    ticker.pop('quoteVolume')\n",
    "    ticker.pop('firstId')\n",
    "    ticker.pop('lastId')\n",
    "    ticker.pop('count')\n",
    "    ticker.pop('highPrice')\n",
    "    ticker.pop('lowPrice')\n",
    "    ticker.pop('lastQty')\n",
    "    ticker.pop('prevClosePrice')\n",
    "    ticker.pop('bidPrice')\n",
    "    ticker.pop('bidQty')\n",
    "    ticker.pop('askPrice')\n",
    "    ticker.pop('askQty')\n",
    "    ticker.pop('volume')\n",
    "    for i in a:\n",
    "        if (i+'BTC') == ticker['symbol']:\n",
    "            crypto_info.append(ticker)\n"
   ]
  },
  {
   "cell_type": "code",
   "execution_count": 42,
   "metadata": {},
   "outputs": [],
   "source": [
    "cryptoList = []\n",
    "for z in crypto_info:#['symbol']:\n",
    "    cryptoList.append(z['symbol'])\n"
   ]
  },
  {
   "cell_type": "code",
   "execution_count": 44,
   "metadata": {},
   "outputs": [
    {
     "output_type": "stream",
     "name": "stdout",
     "text": [
      "54\n"
     ]
    }
   ],
   "source": [
    "j=0\n",
    "for i in cryptoList:\n",
    "    j+=1\n",
    "\n",
    "print(j)"
   ]
  }
 ]
}