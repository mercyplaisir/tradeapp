{
 "metadata": {
  "language_info": {
   "codemirror_mode": {
    "name": "ipython",
    "version": 3
   },
   "file_extension": ".py",
   "mimetype": "text/x-python",
   "name": "python",
   "nbconvert_exporter": "python",
   "pygments_lexer": "ipython3",
   "version": "3.8.5"
  },
  "orig_nbformat": 2,
  "kernelspec": {
   "name": "python385jvsc74a57bd031f2aee4e71d21fbe5cf8b01ff0e069b9275f58929596ceb00d14d90e3e16cd6",
   "display_name": "Python 3.8.5 64-bit"
  },
  "metadata": {
   "interpreter": {
    "hash": "31f2aee4e71d21fbe5cf8b01ff0e069b9275f58929596ceb00d14d90e3e16cd6"
   }
  }
 },
 "nbformat": 4,
 "nbformat_minor": 2,
 "cells": [
  {
   "cell_type": "code",
   "execution_count": 1,
   "metadata": {},
   "outputs": [
    {
     "output_type": "stream",
     "name": "stdout",
     "text": [
      "vous etes connecter\n\n"
     ]
    }
   ],
   "source": [
    "from tools import *"
   ]
  },
  {
   "cell_type": "code",
   "execution_count": 2,
   "metadata": {},
   "outputs": [],
   "source": [
    "kline = get_klines('ETHBTC','5m','1 day')"
   ]
  },
  {
   "cell_type": "code",
   "execution_count": 3,
   "metadata": {},
   "outputs": [
    {
     "output_type": "execute_result",
     "data": {
      "text/plain": [
       "              open_time  open_price close_price    SMA_30    SMA_50    SMA_20  \\\n",
       "0   2021-05-02 13:20:00  0.05141200  0.05141700  0.051384  0.051253  0.051355   \n",
       "1   2021-05-02 13:15:00  0.05142000  0.05141800  0.051373  0.051236  0.051341   \n",
       "2   2021-05-02 13:10:00  0.05146300  0.05142000  0.051369  0.051217  0.051328   \n",
       "3   2021-05-02 13:05:00  0.05146900  0.05146000  0.051364  0.051198  0.051314   \n",
       "4   2021-05-02 13:00:00  0.05146900  0.05146800  0.051347  0.051176  0.051300   \n",
       "..                  ...         ...         ...       ...       ...       ...   \n",
       "283 2021-05-01 13:45:00  0.04946800  0.04949200       NaN       NaN       NaN   \n",
       "284 2021-05-01 13:40:00  0.04955800  0.04946700       NaN       NaN       NaN   \n",
       "285 2021-05-01 13:35:00  0.04955600  0.04955800       NaN       NaN       NaN   \n",
       "286 2021-05-01 13:30:00  0.04956000  0.04954700       NaN       NaN       NaN   \n",
       "287 2021-05-01 13:25:00  0.04953800  0.04955900       NaN       NaN       NaN   \n",
       "\n",
       "     upper_band  lower_band  \n",
       "0      0.051524    0.051187  \n",
       "1      0.051534    0.051149  \n",
       "2      0.051533    0.051124  \n",
       "3      0.051520    0.051107  \n",
       "4      0.051499    0.051101  \n",
       "..          ...         ...  \n",
       "283         NaN         NaN  \n",
       "284         NaN         NaN  \n",
       "285         NaN         NaN  \n",
       "286         NaN         NaN  \n",
       "287         NaN         NaN  \n",
       "\n",
       "[288 rows x 8 columns]"
      ],
      "text/html": "<div>\n<style scoped>\n    .dataframe tbody tr th:only-of-type {\n        vertical-align: middle;\n    }\n\n    .dataframe tbody tr th {\n        vertical-align: top;\n    }\n\n    .dataframe thead th {\n        text-align: right;\n    }\n</style>\n<table border=\"1\" class=\"dataframe\">\n  <thead>\n    <tr style=\"text-align: right;\">\n      <th></th>\n      <th>open_time</th>\n      <th>open_price</th>\n      <th>close_price</th>\n      <th>SMA_30</th>\n      <th>SMA_50</th>\n      <th>SMA_20</th>\n      <th>upper_band</th>\n      <th>lower_band</th>\n    </tr>\n  </thead>\n  <tbody>\n    <tr>\n      <th>0</th>\n      <td>2021-05-02 13:20:00</td>\n      <td>0.05141200</td>\n      <td>0.05141700</td>\n      <td>0.051384</td>\n      <td>0.051253</td>\n      <td>0.051355</td>\n      <td>0.051524</td>\n      <td>0.051187</td>\n    </tr>\n    <tr>\n      <th>1</th>\n      <td>2021-05-02 13:15:00</td>\n      <td>0.05142000</td>\n      <td>0.05141800</td>\n      <td>0.051373</td>\n      <td>0.051236</td>\n      <td>0.051341</td>\n      <td>0.051534</td>\n      <td>0.051149</td>\n    </tr>\n    <tr>\n      <th>2</th>\n      <td>2021-05-02 13:10:00</td>\n      <td>0.05146300</td>\n      <td>0.05142000</td>\n      <td>0.051369</td>\n      <td>0.051217</td>\n      <td>0.051328</td>\n      <td>0.051533</td>\n      <td>0.051124</td>\n    </tr>\n    <tr>\n      <th>3</th>\n      <td>2021-05-02 13:05:00</td>\n      <td>0.05146900</td>\n      <td>0.05146000</td>\n      <td>0.051364</td>\n      <td>0.051198</td>\n      <td>0.051314</td>\n      <td>0.051520</td>\n      <td>0.051107</td>\n    </tr>\n    <tr>\n      <th>4</th>\n      <td>2021-05-02 13:00:00</td>\n      <td>0.05146900</td>\n      <td>0.05146800</td>\n      <td>0.051347</td>\n      <td>0.051176</td>\n      <td>0.051300</td>\n      <td>0.051499</td>\n      <td>0.051101</td>\n    </tr>\n    <tr>\n      <th>...</th>\n      <td>...</td>\n      <td>...</td>\n      <td>...</td>\n      <td>...</td>\n      <td>...</td>\n      <td>...</td>\n      <td>...</td>\n      <td>...</td>\n    </tr>\n    <tr>\n      <th>283</th>\n      <td>2021-05-01 13:45:00</td>\n      <td>0.04946800</td>\n      <td>0.04949200</td>\n      <td>NaN</td>\n      <td>NaN</td>\n      <td>NaN</td>\n      <td>NaN</td>\n      <td>NaN</td>\n    </tr>\n    <tr>\n      <th>284</th>\n      <td>2021-05-01 13:40:00</td>\n      <td>0.04955800</td>\n      <td>0.04946700</td>\n      <td>NaN</td>\n      <td>NaN</td>\n      <td>NaN</td>\n      <td>NaN</td>\n      <td>NaN</td>\n    </tr>\n    <tr>\n      <th>285</th>\n      <td>2021-05-01 13:35:00</td>\n      <td>0.04955600</td>\n      <td>0.04955800</td>\n      <td>NaN</td>\n      <td>NaN</td>\n      <td>NaN</td>\n      <td>NaN</td>\n      <td>NaN</td>\n    </tr>\n    <tr>\n      <th>286</th>\n      <td>2021-05-01 13:30:00</td>\n      <td>0.04956000</td>\n      <td>0.04954700</td>\n      <td>NaN</td>\n      <td>NaN</td>\n      <td>NaN</td>\n      <td>NaN</td>\n      <td>NaN</td>\n    </tr>\n    <tr>\n      <th>287</th>\n      <td>2021-05-01 13:25:00</td>\n      <td>0.04953800</td>\n      <td>0.04955900</td>\n      <td>NaN</td>\n      <td>NaN</td>\n      <td>NaN</td>\n      <td>NaN</td>\n      <td>NaN</td>\n    </tr>\n  </tbody>\n</table>\n<p>288 rows × 8 columns</p>\n</div>"
     },
     "metadata": {},
     "execution_count": 3
    }
   ],
   "source": [
    "kline"
   ]
  },
  {
   "cell_type": "code",
   "execution_count": 3,
   "metadata": {},
   "outputs": [],
   "source": [
    "\n",
    "            "
   ]
  }
 ]
}