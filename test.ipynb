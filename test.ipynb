{
 "metadata": {
  "language_info": {
   "codemirror_mode": {
    "name": "ipython",
    "version": 3
   },
   "file_extension": ".py",
   "mimetype": "text/x-python",
   "name": "python",
   "nbconvert_exporter": "python",
   "pygments_lexer": "ipython3",
   "version": "3.8.5"
  },
  "orig_nbformat": 2,
  "kernelspec": {
   "name": "python385jvsc74a57bd031f2aee4e71d21fbe5cf8b01ff0e069b9275f58929596ceb00d14d90e3e16cd6",
   "display_name": "Python 3.8.5 64-bit"
  },
  "metadata": {
   "interpreter": {
    "hash": "31f2aee4e71d21fbe5cf8b01ff0e069b9275f58929596ceb00d14d90e3e16cd6"
   }
  }
 },
 "nbformat": 4,
 "nbformat_minor": 2,
 "cells": [
  {
   "cell_type": "code",
   "execution_count": 23,
   "metadata": {},
   "outputs": [],
   "source": [
    "import pandas as pd"
   ]
  },
  {
   "cell_type": "code",
   "execution_count": 24,
   "metadata": {},
   "outputs": [],
   "source": [
    "kline = pd.read_csv(\"files/klines.csv\")"
   ]
  },
  {
   "cell_type": "code",
   "execution_count": 25,
   "metadata": {},
   "outputs": [],
   "source": [
    "kline.drop(columns='Unnamed: 0', inplace=True)"
   ]
  },
  {
   "cell_type": "code",
   "execution_count": 28,
   "metadata": {},
   "outputs": [
    {
     "output_type": "execute_result",
     "data": {
      "text/plain": [
       "                open_time  open_price  close_price        SMA_30  \\\n",
       "0     2021-06-06 17:28:00    36154.49     36159.99  36187.207333   \n",
       "1     2021-06-06 17:27:00    36148.46     36153.83  36189.427333   \n",
       "2     2021-06-06 17:26:00    36209.07     36148.39  36192.466000   \n",
       "3     2021-06-06 17:25:00    36182.47     36209.08  36190.966667   \n",
       "4     2021-06-06 17:24:00    36197.63     36182.47  36192.077333   \n",
       "...                   ...         ...          ...           ...   \n",
       "2875  2021-06-04 17:33:00    36891.59     36872.82           NaN   \n",
       "2876  2021-06-04 17:32:00    36882.48     36890.45           NaN   \n",
       "2877  2021-06-04 17:31:00    36820.50     36880.89           NaN   \n",
       "2878  2021-06-04 17:30:00    36815.00     36820.50           NaN   \n",
       "2879  2021-06-04 17:29:00    36793.40     36815.00           NaN   \n",
       "\n",
       "            SMA_50      SMA_20    upper_band    lower_band  \n",
       "0     36193.853333  36190.9210  36242.628442  36139.213558  \n",
       "1     36192.778333  36195.2545  36248.607422  36141.901578  \n",
       "2     36191.156000  36200.3240  36254.220557  36146.427443  \n",
       "3     36188.624667  36203.7160  36267.552624  36139.879376  \n",
       "4     36188.262000  36209.8955  36287.512605  36132.278395  \n",
       "...            ...         ...           ...           ...  \n",
       "2875           NaN         NaN           NaN           NaN  \n",
       "2876           NaN         NaN           NaN           NaN  \n",
       "2877           NaN         NaN           NaN           NaN  \n",
       "2878           NaN         NaN           NaN           NaN  \n",
       "2879           NaN         NaN           NaN           NaN  \n",
       "\n",
       "[2880 rows x 8 columns]"
      ],
      "text/html": "<div>\n<style scoped>\n    .dataframe tbody tr th:only-of-type {\n        vertical-align: middle;\n    }\n\n    .dataframe tbody tr th {\n        vertical-align: top;\n    }\n\n    .dataframe thead th {\n        text-align: right;\n    }\n</style>\n<table border=\"1\" class=\"dataframe\">\n  <thead>\n    <tr style=\"text-align: right;\">\n      <th></th>\n      <th>open_time</th>\n      <th>open_price</th>\n      <th>close_price</th>\n      <th>SMA_30</th>\n      <th>SMA_50</th>\n      <th>SMA_20</th>\n      <th>upper_band</th>\n      <th>lower_band</th>\n    </tr>\n  </thead>\n  <tbody>\n    <tr>\n      <th>0</th>\n      <td>2021-06-06 17:28:00</td>\n      <td>36154.49</td>\n      <td>36159.99</td>\n      <td>36187.207333</td>\n      <td>36193.853333</td>\n      <td>36190.9210</td>\n      <td>36242.628442</td>\n      <td>36139.213558</td>\n    </tr>\n    <tr>\n      <th>1</th>\n      <td>2021-06-06 17:27:00</td>\n      <td>36148.46</td>\n      <td>36153.83</td>\n      <td>36189.427333</td>\n      <td>36192.778333</td>\n      <td>36195.2545</td>\n      <td>36248.607422</td>\n      <td>36141.901578</td>\n    </tr>\n    <tr>\n      <th>2</th>\n      <td>2021-06-06 17:26:00</td>\n      <td>36209.07</td>\n      <td>36148.39</td>\n      <td>36192.466000</td>\n      <td>36191.156000</td>\n      <td>36200.3240</td>\n      <td>36254.220557</td>\n      <td>36146.427443</td>\n    </tr>\n    <tr>\n      <th>3</th>\n      <td>2021-06-06 17:25:00</td>\n      <td>36182.47</td>\n      <td>36209.08</td>\n      <td>36190.966667</td>\n      <td>36188.624667</td>\n      <td>36203.7160</td>\n      <td>36267.552624</td>\n      <td>36139.879376</td>\n    </tr>\n    <tr>\n      <th>4</th>\n      <td>2021-06-06 17:24:00</td>\n      <td>36197.63</td>\n      <td>36182.47</td>\n      <td>36192.077333</td>\n      <td>36188.262000</td>\n      <td>36209.8955</td>\n      <td>36287.512605</td>\n      <td>36132.278395</td>\n    </tr>\n    <tr>\n      <th>...</th>\n      <td>...</td>\n      <td>...</td>\n      <td>...</td>\n      <td>...</td>\n      <td>...</td>\n      <td>...</td>\n      <td>...</td>\n      <td>...</td>\n    </tr>\n    <tr>\n      <th>2875</th>\n      <td>2021-06-04 17:33:00</td>\n      <td>36891.59</td>\n      <td>36872.82</td>\n      <td>NaN</td>\n      <td>NaN</td>\n      <td>NaN</td>\n      <td>NaN</td>\n      <td>NaN</td>\n    </tr>\n    <tr>\n      <th>2876</th>\n      <td>2021-06-04 17:32:00</td>\n      <td>36882.48</td>\n      <td>36890.45</td>\n      <td>NaN</td>\n      <td>NaN</td>\n      <td>NaN</td>\n      <td>NaN</td>\n      <td>NaN</td>\n    </tr>\n    <tr>\n      <th>2877</th>\n      <td>2021-06-04 17:31:00</td>\n      <td>36820.50</td>\n      <td>36880.89</td>\n      <td>NaN</td>\n      <td>NaN</td>\n      <td>NaN</td>\n      <td>NaN</td>\n      <td>NaN</td>\n    </tr>\n    <tr>\n      <th>2878</th>\n      <td>2021-06-04 17:30:00</td>\n      <td>36815.00</td>\n      <td>36820.50</td>\n      <td>NaN</td>\n      <td>NaN</td>\n      <td>NaN</td>\n      <td>NaN</td>\n      <td>NaN</td>\n    </tr>\n    <tr>\n      <th>2879</th>\n      <td>2021-06-04 17:29:00</td>\n      <td>36793.40</td>\n      <td>36815.00</td>\n      <td>NaN</td>\n      <td>NaN</td>\n      <td>NaN</td>\n      <td>NaN</td>\n      <td>NaN</td>\n    </tr>\n  </tbody>\n</table>\n<p>2880 rows × 8 columns</p>\n</div>"
     },
     "metadata": {},
     "execution_count": 28
    }
   ],
   "source": [
    "kline"
   ]
  },
  {
   "cell_type": "code",
   "execution_count": 27,
   "metadata": {},
   "outputs": [
    {
     "output_type": "execute_result",
     "data": {
      "text/plain": [
       "Rolling [window=20,center=False,axis=0]"
      ]
     },
     "metadata": {},
     "execution_count": 27
    }
   ],
   "source": [
    "kline.iloc[:, 1].rolling(window=20)"
   ]
  }
 ]
}