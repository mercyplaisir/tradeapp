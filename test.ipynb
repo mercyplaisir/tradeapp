{
 "metadata": {
  "language_info": {
   "codemirror_mode": {
    "name": "ipython",
    "version": 3
   },
   "file_extension": ".py",
   "mimetype": "text/x-python",
   "name": "python",
   "nbconvert_exporter": "python",
   "pygments_lexer": "ipython3",
   "version": "3.8.5"
  },
  "orig_nbformat": 2,
  "kernelspec": {
   "name": "python385jvsc74a57bd031f2aee4e71d21fbe5cf8b01ff0e069b9275f58929596ceb00d14d90e3e16cd6",
   "display_name": "Python 3.8.5 64-bit"
  },
  "metadata": {
   "interpreter": {
    "hash": "31f2aee4e71d21fbe5cf8b01ff0e069b9275f58929596ceb00d14d90e3e16cd6"
   }
  }
 },
 "nbformat": 4,
 "nbformat_minor": 2,
 "cells": [
  {
   "cell_type": "code",
   "execution_count": 2,
   "metadata": {},
   "outputs": [
    {
     "output_type": "stream",
     "name": "stdout",
     "text": [
      "vous etes connecter\n\n"
     ]
    }
   ],
   "source": [
    "import numpy as np\n",
    "import pandas as pd\n",
    "from binance.client import Client\n",
    "from binance.enums import *\n",
    "import math\n",
    "import datetime\n",
    "import time\n",
    "import json\n",
    "import random\n",
    "from tools import *\n",
    "\n",
    "\n",
    "apikey='eKDyjsVeMhssfXL89oil2keouZSfpnJwqJV3mfvApOYDylfUjGc6hKAtapQIHL3b'\n",
    "secretkey='hISw2v7P96RXq698sIQVUGHfhX3Jt8aqh9FOlURGfXFwelYKq1R5oPfUbfWtD9lo'\n",
    "\n",
    "disconnected = True\n",
    "while disconnected:\n",
    "    try :\n",
    "        client = Client(apikey,secretkey)\n",
    "        print(\"vous etes connecter\\n\")\n",
    "        disconnected = False\n",
    "        connected = True\n",
    "    except:\n",
    "        print(\"impossible de se connecter\\nveuillez patientez\\n\")\n",
    "#-_-_-_-_-_-_-_-_-_-_-_-_-_-_-_-_-"
   ]
  },
  {
   "cell_type": "code",
   "execution_count": 3,
   "metadata": {},
   "outputs": [
    {
     "output_type": "execute_result",
     "data": {
      "text/plain": [
       "0.0003"
      ]
     },
     "metadata": {},
     "execution_count": 3
    }
   ],
   "source": [
    "margin_balance_of('BTC')"
   ]
  },
  {
   "cell_type": "code",
   "execution_count": 4,
   "metadata": {},
   "outputs": [],
   "source": [
    "def get_klines(coin_to_trade:str):\n",
    "    getKlines = False\n",
    "    while not getKlines:\n",
    "        try:\n",
    "            klines_15min = client.get_historical_klines(coin_to_trade, Client.KLINE_INTERVAL_15MINUTE, \"1 day ago UTC\")\n",
    "            getKlines = True\n",
    "        except:\n",
    "            pass\n",
    "    up_trend = False\n",
    "    try:\n",
    "        #changer timestamp en date\n",
    "        for kline in klines_15min:\n",
    "            kline[0] = datetime.datetime.fromtimestamp(kline[0] / 1e3)\n",
    "\n",
    "        klines = pd.DataFrame(klines_15min)#changer en dataframe\n",
    "        klines.drop(columns=[1,2,3,5,6,7,8,9,10,11],inplace= True)#supprimer les collonnes qui ne sont pas necessaires\n",
    "        klines.columns = ['open_time','close_price']#renommer les colonnes\n",
    "\n",
    "        #creer un SMA_30\n",
    "        klines['SMA_30'] = klines.iloc[:,1].rolling(window=30).mean()\n",
    "\n",
    "        #creer un SMA50\n",
    "        klines['SMA_50'] = klines.iloc[:,1].rolling(window=50).mean()\n",
    "\n",
    "        #trier les indexes pour que 0 correspondents avec maintenant\n",
    "        klines.sort_index(ascending=False,inplace=True)\n",
    "\n",
    "        #refaire les index\n",
    "        klines.reset_index(inplace = True)\n",
    "\n",
    "        #supprimer un colonnes pas important\n",
    "        klines.drop(columns=['index'],inplace=True)\n",
    "    except:\n",
    "        get_klines(coin_to_trade)\n",
    "\n",
    "    return klines"
   ]
  },
  {
   "cell_type": "code",
   "execution_count": 5,
   "metadata": {},
   "outputs": [],
   "source": [
    "a= get_klines('BNBBTC')"
   ]
  },
  {
   "cell_type": "code",
   "execution_count": 6,
   "metadata": {},
   "outputs": [
    {
     "output_type": "execute_result",
     "data": {
      "text/plain": [
       "             open_time close_price    SMA_30    SMA_50\n",
       "0  2021-04-30 21:45:00  0.01099600  0.010870  0.011032\n",
       "1  2021-04-30 21:30:00  0.01100300  0.010875  0.011038\n",
       "2  2021-04-30 21:15:00  0.01095700  0.010880  0.011046\n",
       "3  2021-04-30 21:00:00  0.01097600  0.010885  0.011054\n",
       "4  2021-04-30 20:45:00  0.01100400  0.010893  0.011061\n",
       "..                 ...         ...       ...       ...\n",
       "91 2021-04-29 23:00:00  0.01102100       NaN       NaN\n",
       "92 2021-04-29 22:45:00  0.01099100       NaN       NaN\n",
       "93 2021-04-29 22:30:00  0.01098100       NaN       NaN\n",
       "94 2021-04-29 22:15:00  0.01097800       NaN       NaN\n",
       "95 2021-04-29 22:00:00  0.01095300       NaN       NaN\n",
       "\n",
       "[96 rows x 4 columns]"
      ],
      "text/html": "<div>\n<style scoped>\n    .dataframe tbody tr th:only-of-type {\n        vertical-align: middle;\n    }\n\n    .dataframe tbody tr th {\n        vertical-align: top;\n    }\n\n    .dataframe thead th {\n        text-align: right;\n    }\n</style>\n<table border=\"1\" class=\"dataframe\">\n  <thead>\n    <tr style=\"text-align: right;\">\n      <th></th>\n      <th>open_time</th>\n      <th>close_price</th>\n      <th>SMA_30</th>\n      <th>SMA_50</th>\n    </tr>\n  </thead>\n  <tbody>\n    <tr>\n      <th>0</th>\n      <td>2021-04-30 21:45:00</td>\n      <td>0.01099600</td>\n      <td>0.010870</td>\n      <td>0.011032</td>\n    </tr>\n    <tr>\n      <th>1</th>\n      <td>2021-04-30 21:30:00</td>\n      <td>0.01100300</td>\n      <td>0.010875</td>\n      <td>0.011038</td>\n    </tr>\n    <tr>\n      <th>2</th>\n      <td>2021-04-30 21:15:00</td>\n      <td>0.01095700</td>\n      <td>0.010880</td>\n      <td>0.011046</td>\n    </tr>\n    <tr>\n      <th>3</th>\n      <td>2021-04-30 21:00:00</td>\n      <td>0.01097600</td>\n      <td>0.010885</td>\n      <td>0.011054</td>\n    </tr>\n    <tr>\n      <th>4</th>\n      <td>2021-04-30 20:45:00</td>\n      <td>0.01100400</td>\n      <td>0.010893</td>\n      <td>0.011061</td>\n    </tr>\n    <tr>\n      <th>...</th>\n      <td>...</td>\n      <td>...</td>\n      <td>...</td>\n      <td>...</td>\n    </tr>\n    <tr>\n      <th>91</th>\n      <td>2021-04-29 23:00:00</td>\n      <td>0.01102100</td>\n      <td>NaN</td>\n      <td>NaN</td>\n    </tr>\n    <tr>\n      <th>92</th>\n      <td>2021-04-29 22:45:00</td>\n      <td>0.01099100</td>\n      <td>NaN</td>\n      <td>NaN</td>\n    </tr>\n    <tr>\n      <th>93</th>\n      <td>2021-04-29 22:30:00</td>\n      <td>0.01098100</td>\n      <td>NaN</td>\n      <td>NaN</td>\n    </tr>\n    <tr>\n      <th>94</th>\n      <td>2021-04-29 22:15:00</td>\n      <td>0.01097800</td>\n      <td>NaN</td>\n      <td>NaN</td>\n    </tr>\n    <tr>\n      <th>95</th>\n      <td>2021-04-29 22:00:00</td>\n      <td>0.01095300</td>\n      <td>NaN</td>\n      <td>NaN</td>\n    </tr>\n  </tbody>\n</table>\n<p>96 rows × 4 columns</p>\n</div>"
     },
     "metadata": {},
     "execution_count": 6
    }
   ],
   "source": []
  }
 ]
}