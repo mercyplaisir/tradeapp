{
 "metadata": {
  "language_info": {
   "codemirror_mode": {
    "name": "ipython",
    "version": 3
   },
   "file_extension": ".py",
   "mimetype": "text/x-python",
   "name": "python",
   "nbconvert_exporter": "python",
   "pygments_lexer": "ipython3",
   "version": "3.8.5"
  },
  "orig_nbformat": 2,
  "kernelspec": {
   "name": "python385jvsc74a57bd0916dbcbb3f70747c44a77c7bcd40155683ae19c65e1c03b4aa3499c5328201f1",
   "display_name": "Python 3.8.5 64-bit"
  },
  "metadata": {
   "interpreter": {
    "hash": "916dbcbb3f70747c44a77c7bcd40155683ae19c65e1c03b4aa3499c5328201f1"
   }
  }
 },
 "nbformat": 4,
 "nbformat_minor": 2,
 "cells": [
  {
   "cell_type": "code",
   "execution_count": 1,
   "metadata": {},
   "outputs": [],
   "source": [
    "from BinanceApi import Binance\n",
    "import json"
   ]
  },
  {
   "cell_type": "code",
   "execution_count": 2,
   "metadata": {},
   "outputs": [
    {
     "output_type": "stream",
     "name": "stdout",
     "text": [
      "<class 'FileNotFoundError'>\n{'id': {'public key': 'eKDyjsVeMhssfXL89oil2keouZSfpnJwqJV3mfvApOYDylfUjGc6hKAtapQIHL3b', 'secret key': 'hISw2v7P96RXq698sIQVUGHfhX3Jt8aqh9FOlURGfXFwelYKq1R5oPfUbfWtD9lo'}, 'basecoin': 'BTC'}\n"
     ]
    }
   ],
   "source": [
    "me = Binance()"
   ]
  },
  {
   "cell_type": "code",
   "execution_count": 3,
   "metadata": {},
   "outputs": [
    {
     "output_type": "stream",
     "name": "stdout",
     "text": [
      "1\n",
      "2\n"
     ]
    }
   ],
   "source": [
    "me.get_klines(\"BNBBTC\",\"1min\",\"1 day\")"
   ]
  },
  {
   "cell_type": "code",
   "execution_count": 4,
   "metadata": {},
   "outputs": [],
   "source": [
    "import pandas as pd\n",
    "x = pd.read_csv(\"files/klines.csv\")"
   ]
  },
  {
   "cell_type": "code",
   "execution_count": 5,
   "metadata": {},
   "outputs": [
    {
     "output_type": "execute_result",
     "data": {
      "text/plain": [
       "    Unnamed: 0            open_time  open_price  close_price    SMA_30  \\\n",
       "0            0  2021-06-05 15:00:00    0.011004     0.011000  0.010968   \n",
       "1            1  2021-06-05 14:00:00    0.010903     0.011005  0.010949   \n",
       "2            2  2021-06-05 13:00:00    0.011023     0.010903  0.010932   \n",
       "3            3  2021-06-05 12:00:00    0.011079     0.011033  0.010906   \n",
       "4            4  2021-06-05 11:00:00    0.011168     0.011074  0.010878   \n",
       "5            5  2021-06-05 10:00:00    0.011132     0.011165  0.010842   \n",
       "6            6  2021-06-05 09:00:00    0.011197     0.011130  0.010801   \n",
       "7            7  2021-06-05 08:00:00    0.011049     0.011197  0.010757   \n",
       "8            8  2021-06-05 07:00:00    0.011034     0.011048  0.010723   \n",
       "9            9  2021-06-05 06:00:00    0.010966     0.011032  0.010688   \n",
       "10          10  2021-06-05 05:00:00    0.010948     0.010968       NaN   \n",
       "11          11  2021-06-05 04:00:00    0.010919     0.010945       NaN   \n",
       "12          12  2021-06-05 03:00:00    0.010827     0.010920       NaN   \n",
       "13          13  2021-06-05 02:00:00    0.010605     0.010818       NaN   \n",
       "14          14  2021-06-05 01:00:00    0.010672     0.010604       NaN   \n",
       "15          15  2021-06-05 00:00:00    0.010706     0.010673       NaN   \n",
       "16          16  2021-06-04 23:00:00    0.010650     0.010710       NaN   \n",
       "17          17  2021-06-04 22:00:00    0.010641     0.010650       NaN   \n",
       "18          18  2021-06-04 21:00:00    0.010649     0.010628       NaN   \n",
       "19          19  2021-06-04 20:00:00    0.010630     0.010648       NaN   \n",
       "20          20  2021-06-04 19:00:00    0.010528     0.010629       NaN   \n",
       "21          21  2021-06-04 18:00:00    0.010527     0.010529       NaN   \n",
       "22          22  2021-06-04 17:00:00    0.010542     0.010523       NaN   \n",
       "23          23  2021-06-04 16:00:00    0.010516     0.010543       NaN   \n",
       "\n",
       "    SMA_50    SMA_20  upper_band  lower_band  \n",
       "0      NaN  0.010890    0.011291    0.010489  \n",
       "1      NaN  0.010866    0.011295    0.010438  \n",
       "2      NaN  0.010847    0.011301    0.010394  \n",
       "3      NaN  0.010823    0.011289    0.010358  \n",
       "4      NaN  0.010795    0.011264    0.010327  \n",
       "5      NaN       NaN         NaN         NaN  \n",
       "6      NaN       NaN         NaN         NaN  \n",
       "7      NaN       NaN         NaN         NaN  \n",
       "8      NaN       NaN         NaN         NaN  \n",
       "9      NaN       NaN         NaN         NaN  \n",
       "10     NaN       NaN         NaN         NaN  \n",
       "11     NaN       NaN         NaN         NaN  \n",
       "12     NaN       NaN         NaN         NaN  \n",
       "13     NaN       NaN         NaN         NaN  \n",
       "14     NaN       NaN         NaN         NaN  \n",
       "15     NaN       NaN         NaN         NaN  \n",
       "16     NaN       NaN         NaN         NaN  \n",
       "17     NaN       NaN         NaN         NaN  \n",
       "18     NaN       NaN         NaN         NaN  \n",
       "19     NaN       NaN         NaN         NaN  \n",
       "20     NaN       NaN         NaN         NaN  \n",
       "21     NaN       NaN         NaN         NaN  \n",
       "22     NaN       NaN         NaN         NaN  \n",
       "23     NaN       NaN         NaN         NaN  "
      ],
      "text/html": "<div>\n<style scoped>\n    .dataframe tbody tr th:only-of-type {\n        vertical-align: middle;\n    }\n\n    .dataframe tbody tr th {\n        vertical-align: top;\n    }\n\n    .dataframe thead th {\n        text-align: right;\n    }\n</style>\n<table border=\"1\" class=\"dataframe\">\n  <thead>\n    <tr style=\"text-align: right;\">\n      <th></th>\n      <th>Unnamed: 0</th>\n      <th>open_time</th>\n      <th>open_price</th>\n      <th>close_price</th>\n      <th>SMA_30</th>\n      <th>SMA_50</th>\n      <th>SMA_20</th>\n      <th>upper_band</th>\n      <th>lower_band</th>\n    </tr>\n  </thead>\n  <tbody>\n    <tr>\n      <th>0</th>\n      <td>0</td>\n      <td>2021-06-05 15:00:00</td>\n      <td>0.011004</td>\n      <td>0.011000</td>\n      <td>0.010968</td>\n      <td>NaN</td>\n      <td>0.010890</td>\n      <td>0.011291</td>\n      <td>0.010489</td>\n    </tr>\n    <tr>\n      <th>1</th>\n      <td>1</td>\n      <td>2021-06-05 14:00:00</td>\n      <td>0.010903</td>\n      <td>0.011005</td>\n      <td>0.010949</td>\n      <td>NaN</td>\n      <td>0.010866</td>\n      <td>0.011295</td>\n      <td>0.010438</td>\n    </tr>\n    <tr>\n      <th>2</th>\n      <td>2</td>\n      <td>2021-06-05 13:00:00</td>\n      <td>0.011023</td>\n      <td>0.010903</td>\n      <td>0.010932</td>\n      <td>NaN</td>\n      <td>0.010847</td>\n      <td>0.011301</td>\n      <td>0.010394</td>\n    </tr>\n    <tr>\n      <th>3</th>\n      <td>3</td>\n      <td>2021-06-05 12:00:00</td>\n      <td>0.011079</td>\n      <td>0.011033</td>\n      <td>0.010906</td>\n      <td>NaN</td>\n      <td>0.010823</td>\n      <td>0.011289</td>\n      <td>0.010358</td>\n    </tr>\n    <tr>\n      <th>4</th>\n      <td>4</td>\n      <td>2021-06-05 11:00:00</td>\n      <td>0.011168</td>\n      <td>0.011074</td>\n      <td>0.010878</td>\n      <td>NaN</td>\n      <td>0.010795</td>\n      <td>0.011264</td>\n      <td>0.010327</td>\n    </tr>\n    <tr>\n      <th>5</th>\n      <td>5</td>\n      <td>2021-06-05 10:00:00</td>\n      <td>0.011132</td>\n      <td>0.011165</td>\n      <td>0.010842</td>\n      <td>NaN</td>\n      <td>NaN</td>\n      <td>NaN</td>\n      <td>NaN</td>\n    </tr>\n    <tr>\n      <th>6</th>\n      <td>6</td>\n      <td>2021-06-05 09:00:00</td>\n      <td>0.011197</td>\n      <td>0.011130</td>\n      <td>0.010801</td>\n      <td>NaN</td>\n      <td>NaN</td>\n      <td>NaN</td>\n      <td>NaN</td>\n    </tr>\n    <tr>\n      <th>7</th>\n      <td>7</td>\n      <td>2021-06-05 08:00:00</td>\n      <td>0.011049</td>\n      <td>0.011197</td>\n      <td>0.010757</td>\n      <td>NaN</td>\n      <td>NaN</td>\n      <td>NaN</td>\n      <td>NaN</td>\n    </tr>\n    <tr>\n      <th>8</th>\n      <td>8</td>\n      <td>2021-06-05 07:00:00</td>\n      <td>0.011034</td>\n      <td>0.011048</td>\n      <td>0.010723</td>\n      <td>NaN</td>\n      <td>NaN</td>\n      <td>NaN</td>\n      <td>NaN</td>\n    </tr>\n    <tr>\n      <th>9</th>\n      <td>9</td>\n      <td>2021-06-05 06:00:00</td>\n      <td>0.010966</td>\n      <td>0.011032</td>\n      <td>0.010688</td>\n      <td>NaN</td>\n      <td>NaN</td>\n      <td>NaN</td>\n      <td>NaN</td>\n    </tr>\n    <tr>\n      <th>10</th>\n      <td>10</td>\n      <td>2021-06-05 05:00:00</td>\n      <td>0.010948</td>\n      <td>0.010968</td>\n      <td>NaN</td>\n      <td>NaN</td>\n      <td>NaN</td>\n      <td>NaN</td>\n      <td>NaN</td>\n    </tr>\n    <tr>\n      <th>11</th>\n      <td>11</td>\n      <td>2021-06-05 04:00:00</td>\n      <td>0.010919</td>\n      <td>0.010945</td>\n      <td>NaN</td>\n      <td>NaN</td>\n      <td>NaN</td>\n      <td>NaN</td>\n      <td>NaN</td>\n    </tr>\n    <tr>\n      <th>12</th>\n      <td>12</td>\n      <td>2021-06-05 03:00:00</td>\n      <td>0.010827</td>\n      <td>0.010920</td>\n      <td>NaN</td>\n      <td>NaN</td>\n      <td>NaN</td>\n      <td>NaN</td>\n      <td>NaN</td>\n    </tr>\n    <tr>\n      <th>13</th>\n      <td>13</td>\n      <td>2021-06-05 02:00:00</td>\n      <td>0.010605</td>\n      <td>0.010818</td>\n      <td>NaN</td>\n      <td>NaN</td>\n      <td>NaN</td>\n      <td>NaN</td>\n      <td>NaN</td>\n    </tr>\n    <tr>\n      <th>14</th>\n      <td>14</td>\n      <td>2021-06-05 01:00:00</td>\n      <td>0.010672</td>\n      <td>0.010604</td>\n      <td>NaN</td>\n      <td>NaN</td>\n      <td>NaN</td>\n      <td>NaN</td>\n      <td>NaN</td>\n    </tr>\n    <tr>\n      <th>15</th>\n      <td>15</td>\n      <td>2021-06-05 00:00:00</td>\n      <td>0.010706</td>\n      <td>0.010673</td>\n      <td>NaN</td>\n      <td>NaN</td>\n      <td>NaN</td>\n      <td>NaN</td>\n      <td>NaN</td>\n    </tr>\n    <tr>\n      <th>16</th>\n      <td>16</td>\n      <td>2021-06-04 23:00:00</td>\n      <td>0.010650</td>\n      <td>0.010710</td>\n      <td>NaN</td>\n      <td>NaN</td>\n      <td>NaN</td>\n      <td>NaN</td>\n      <td>NaN</td>\n    </tr>\n    <tr>\n      <th>17</th>\n      <td>17</td>\n      <td>2021-06-04 22:00:00</td>\n      <td>0.010641</td>\n      <td>0.010650</td>\n      <td>NaN</td>\n      <td>NaN</td>\n      <td>NaN</td>\n      <td>NaN</td>\n      <td>NaN</td>\n    </tr>\n    <tr>\n      <th>18</th>\n      <td>18</td>\n      <td>2021-06-04 21:00:00</td>\n      <td>0.010649</td>\n      <td>0.010628</td>\n      <td>NaN</td>\n      <td>NaN</td>\n      <td>NaN</td>\n      <td>NaN</td>\n      <td>NaN</td>\n    </tr>\n    <tr>\n      <th>19</th>\n      <td>19</td>\n      <td>2021-06-04 20:00:00</td>\n      <td>0.010630</td>\n      <td>0.010648</td>\n      <td>NaN</td>\n      <td>NaN</td>\n      <td>NaN</td>\n      <td>NaN</td>\n      <td>NaN</td>\n    </tr>\n    <tr>\n      <th>20</th>\n      <td>20</td>\n      <td>2021-06-04 19:00:00</td>\n      <td>0.010528</td>\n      <td>0.010629</td>\n      <td>NaN</td>\n      <td>NaN</td>\n      <td>NaN</td>\n      <td>NaN</td>\n      <td>NaN</td>\n    </tr>\n    <tr>\n      <th>21</th>\n      <td>21</td>\n      <td>2021-06-04 18:00:00</td>\n      <td>0.010527</td>\n      <td>0.010529</td>\n      <td>NaN</td>\n      <td>NaN</td>\n      <td>NaN</td>\n      <td>NaN</td>\n      <td>NaN</td>\n    </tr>\n    <tr>\n      <th>22</th>\n      <td>22</td>\n      <td>2021-06-04 17:00:00</td>\n      <td>0.010542</td>\n      <td>0.010523</td>\n      <td>NaN</td>\n      <td>NaN</td>\n      <td>NaN</td>\n      <td>NaN</td>\n      <td>NaN</td>\n    </tr>\n    <tr>\n      <th>23</th>\n      <td>23</td>\n      <td>2021-06-04 16:00:00</td>\n      <td>0.010516</td>\n      <td>0.010543</td>\n      <td>NaN</td>\n      <td>NaN</td>\n      <td>NaN</td>\n      <td>NaN</td>\n      <td>NaN</td>\n    </tr>\n  </tbody>\n</table>\n</div>"
     },
     "metadata": {},
     "execution_count": 5
    }
   ],
   "source": [
    "x"
   ]
  }
 ]
}