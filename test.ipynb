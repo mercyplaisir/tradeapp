{
 "metadata": {
  "language_info": {
   "codemirror_mode": {
    "name": "ipython",
    "version": 3
   },
   "file_extension": ".py",
   "mimetype": "text/x-python",
   "name": "python",
   "nbconvert_exporter": "python",
   "pygments_lexer": "ipython3",
   "version": "3.8.5"
  },
  "orig_nbformat": 2,
  "kernelspec": {
   "name": "python385jvsc74a57bd031f2aee4e71d21fbe5cf8b01ff0e069b9275f58929596ceb00d14d90e3e16cd6",
   "display_name": "Python 3.8.5 64-bit"
  },
  "metadata": {
   "interpreter": {
    "hash": "31f2aee4e71d21fbe5cf8b01ff0e069b9275f58929596ceb00d14d90e3e16cd6"
   }
  }
 },
 "nbformat": 4,
 "nbformat_minor": 2,
 "cells": [
  {
   "cell_type": "code",
   "execution_count": 9,
   "metadata": {},
   "outputs": [],
   "source": [
    "import numpy as np\n",
    "import pandas as pd\n",
    "from binance.client import Client\n",
    "from binance.enums import *\n",
    "import math\n",
    "import datetime\n",
    "import time\n",
    "import json\n",
    "import random\n",
    "from tools import *\n",
    "\n",
    "\n",
    "apikey='eKDyjsVeMhssfXL89oil2keouZSfpnJwqJV3mfvApOYDylfUjGc6hKAtapQIHL3b'\n",
    "secretkey='hISw2v7P96RXq698sIQVUGHfhX3Jt8aqh9FOlURGfXFwelYKq1R5oPfUbfWtD9lo'\n",
    "\n",
    "disconnected = True\n",
    "while disconnected:\n",
    "    try :\n",
    "        client = Client(apikey,secretkey)\n",
    "        print(\"vous etes connecter\\n\")\n",
    "        disconnected = False\n",
    "        connected = True\n",
    "    except:\n",
    "        print(\"impossible de se connecter\\nveuillez patientez\\n\")\n",
    "#-_-_-_-_-_-_-_-_-_-_-_-_-_-_-_-_-"
   ]
  },
  {
   "cell_type": "code",
   "execution_count": 12,
   "metadata": {},
   "outputs": [],
   "source": [
    "margin_sell_order('EOSBTC',2)"
   ]
  },
  {
   "cell_type": "code",
   "execution_count": null,
   "metadata": {},
   "outputs": [],
   "source": [
    "price = True\n",
    "while connected:\n",
    "    try :\n",
    "        client = Client(apikey,secretkey)\n",
    "        print(\"vous etes connecter\\n\")\n",
    "        disconnected = False\n",
    "        connected = True\n",
    "    except:\n",
    "        print(\"impossible de se connecter\\nveuillez patientez\\n\")"
   ]
  }
 ]
}