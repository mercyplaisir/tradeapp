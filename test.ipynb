{
 "metadata": {
  "language_info": {
   "codemirror_mode": {
    "name": "ipython",
    "version": 3
   },
   "file_extension": ".py",
   "mimetype": "text/x-python",
   "name": "python",
   "nbconvert_exporter": "python",
   "pygments_lexer": "ipython3",
   "version": "3.8.5"
  },
  "orig_nbformat": 2,
  "kernelspec": {
   "name": "python385jvsc74a57bd031f2aee4e71d21fbe5cf8b01ff0e069b9275f58929596ceb00d14d90e3e16cd6",
   "display_name": "Python 3.8.5 64-bit"
  },
  "metadata": {
   "interpreter": {
    "hash": "31f2aee4e71d21fbe5cf8b01ff0e069b9275f58929596ceb00d14d90e3e16cd6"
   }
  }
 },
 "nbformat": 4,
 "nbformat_minor": 2,
 "cells": [
  {
   "cell_type": "code",
   "execution_count": 1,
   "metadata": {},
   "outputs": [
    {
     "output_type": "stream",
     "name": "stdout",
     "text": [
      "impossible de se connecter\n",
      "veuillez patientez\n",
      "\n",
      "impossible de se connecter\n",
      "veuillez patientez\n",
      "\n",
      "vous etes connecter\n",
      "\n"
     ]
    }
   ],
   "source": [
    "from tools import *"
   ]
  },
  {
   "cell_type": "code",
   "execution_count": 2,
   "metadata": {},
   "outputs": [],
   "source": [
    "kline = get_klines('ETHBTC','5m','1 day')"
   ]
  },
  {
   "cell_type": "code",
   "execution_count": 3,
   "metadata": {},
   "outputs": [
    {
     "output_type": "execute_result",
     "data": {
      "text/plain": [
       "              open_time close_price    SMA_30    SMA_50    SMA_20  upper_band  \\\n",
       "0   2021-05-02 11:50:00  0.05126100  0.051057  0.051041  0.051024    0.051294   \n",
       "1   2021-05-02 11:45:00  0.05122200  0.051032  0.051030  0.051011    0.051257   \n",
       "2   2021-05-02 11:40:00  0.05113400  0.051005  0.051021  0.051000    0.051226   \n",
       "3   2021-05-02 11:35:00  0.05113500  0.050992  0.051021  0.050993    0.051209   \n",
       "4   2021-05-02 11:30:00  0.05115700  0.050983  0.051022  0.050991    0.051201   \n",
       "..                  ...         ...       ...       ...       ...         ...   \n",
       "283 2021-05-01 12:15:00  0.04930500       NaN       NaN       NaN         NaN   \n",
       "284 2021-05-01 12:10:00  0.04927500       NaN       NaN       NaN         NaN   \n",
       "285 2021-05-01 12:05:00  0.04927300       NaN       NaN       NaN         NaN   \n",
       "286 2021-05-01 12:00:00  0.04930900       NaN       NaN       NaN         NaN   \n",
       "287 2021-05-01 11:55:00  0.04927800       NaN       NaN       NaN         NaN   \n",
       "\n",
       "     lower_band  \n",
       "0      0.050753  \n",
       "1      0.050765  \n",
       "2      0.050775  \n",
       "3      0.050777  \n",
       "4      0.050780  \n",
       "..          ...  \n",
       "283         NaN  \n",
       "284         NaN  \n",
       "285         NaN  \n",
       "286         NaN  \n",
       "287         NaN  \n",
       "\n",
       "[288 rows x 7 columns]"
      ],
      "text/html": "<div>\n<style scoped>\n    .dataframe tbody tr th:only-of-type {\n        vertical-align: middle;\n    }\n\n    .dataframe tbody tr th {\n        vertical-align: top;\n    }\n\n    .dataframe thead th {\n        text-align: right;\n    }\n</style>\n<table border=\"1\" class=\"dataframe\">\n  <thead>\n    <tr style=\"text-align: right;\">\n      <th></th>\n      <th>open_time</th>\n      <th>close_price</th>\n      <th>SMA_30</th>\n      <th>SMA_50</th>\n      <th>SMA_20</th>\n      <th>upper_band</th>\n      <th>lower_band</th>\n    </tr>\n  </thead>\n  <tbody>\n    <tr>\n      <th>0</th>\n      <td>2021-05-02 11:50:00</td>\n      <td>0.05126100</td>\n      <td>0.051057</td>\n      <td>0.051041</td>\n      <td>0.051024</td>\n      <td>0.051294</td>\n      <td>0.050753</td>\n    </tr>\n    <tr>\n      <th>1</th>\n      <td>2021-05-02 11:45:00</td>\n      <td>0.05122200</td>\n      <td>0.051032</td>\n      <td>0.051030</td>\n      <td>0.051011</td>\n      <td>0.051257</td>\n      <td>0.050765</td>\n    </tr>\n    <tr>\n      <th>2</th>\n      <td>2021-05-02 11:40:00</td>\n      <td>0.05113400</td>\n      <td>0.051005</td>\n      <td>0.051021</td>\n      <td>0.051000</td>\n      <td>0.051226</td>\n      <td>0.050775</td>\n    </tr>\n    <tr>\n      <th>3</th>\n      <td>2021-05-02 11:35:00</td>\n      <td>0.05113500</td>\n      <td>0.050992</td>\n      <td>0.051021</td>\n      <td>0.050993</td>\n      <td>0.051209</td>\n      <td>0.050777</td>\n    </tr>\n    <tr>\n      <th>4</th>\n      <td>2021-05-02 11:30:00</td>\n      <td>0.05115700</td>\n      <td>0.050983</td>\n      <td>0.051022</td>\n      <td>0.050991</td>\n      <td>0.051201</td>\n      <td>0.050780</td>\n    </tr>\n    <tr>\n      <th>...</th>\n      <td>...</td>\n      <td>...</td>\n      <td>...</td>\n      <td>...</td>\n      <td>...</td>\n      <td>...</td>\n      <td>...</td>\n    </tr>\n    <tr>\n      <th>283</th>\n      <td>2021-05-01 12:15:00</td>\n      <td>0.04930500</td>\n      <td>NaN</td>\n      <td>NaN</td>\n      <td>NaN</td>\n      <td>NaN</td>\n      <td>NaN</td>\n    </tr>\n    <tr>\n      <th>284</th>\n      <td>2021-05-01 12:10:00</td>\n      <td>0.04927500</td>\n      <td>NaN</td>\n      <td>NaN</td>\n      <td>NaN</td>\n      <td>NaN</td>\n      <td>NaN</td>\n    </tr>\n    <tr>\n      <th>285</th>\n      <td>2021-05-01 12:05:00</td>\n      <td>0.04927300</td>\n      <td>NaN</td>\n      <td>NaN</td>\n      <td>NaN</td>\n      <td>NaN</td>\n      <td>NaN</td>\n    </tr>\n    <tr>\n      <th>286</th>\n      <td>2021-05-01 12:00:00</td>\n      <td>0.04930900</td>\n      <td>NaN</td>\n      <td>NaN</td>\n      <td>NaN</td>\n      <td>NaN</td>\n      <td>NaN</td>\n    </tr>\n    <tr>\n      <th>287</th>\n      <td>2021-05-01 11:55:00</td>\n      <td>0.04927800</td>\n      <td>NaN</td>\n      <td>NaN</td>\n      <td>NaN</td>\n      <td>NaN</td>\n      <td>NaN</td>\n    </tr>\n  </tbody>\n</table>\n<p>288 rows × 7 columns</p>\n</div>"
     },
     "metadata": {},
     "execution_count": 3
    }
   ],
   "source": [
    "kline"
   ]
  },
  {
   "cell_type": "code",
   "execution_count": null,
   "metadata": {},
   "outputs": [],
   "source": [
    "\n",
    "            "
   ]
  }
 ]
}