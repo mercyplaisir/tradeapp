{
 "metadata": {
  "language_info": {
   "codemirror_mode": {
    "name": "ipython",
    "version": 3
   },
   "file_extension": ".py",
   "mimetype": "text/x-python",
   "name": "python",
   "nbconvert_exporter": "python",
   "pygments_lexer": "ipython3",
   "version": "3.8.5-final"
  },
  "orig_nbformat": 2,
  "kernelspec": {
   "name": "python385jvsc74a57bd031f2aee4e71d21fbe5cf8b01ff0e069b9275f58929596ceb00d14d90e3e16cd6",
   "display_name": "Python 3.8.5 64-bit"
  },
  "metadata": {
   "interpreter": {
    "hash": "31f2aee4e71d21fbe5cf8b01ff0e069b9275f58929596ceb00d14d90e3e16cd6"
   }
  }
 },
 "nbformat": 4,
 "nbformat_minor": 2,
 "cells": [
  {
   "cell_type": "code",
   "execution_count": 7,
   "metadata": {},
   "outputs": [
    {
     "output_type": "stream",
     "name": "stdout",
     "text": [
      "impossible de se connecter\n",
      "veuillez patientez\n",
      "\n",
      "impossible de se connecter\n",
      "veuillez patientez\n",
      "\n",
      "vous etes connecter\n",
      "\n"
     ]
    }
   ],
   "source": [
    "import e\n",
    "from binance.client import Client\n",
    "\n",
    "import json\n",
    "import time\n",
    "\n",
    "\n",
    "#boucle pour se connecter\n",
    "disconnected = True\n",
    "while disconnected:\n",
    "    try :\n",
    "        client = Client(e.api_key, e.secret_key)\n",
    "        print(\"vous etes connecter\\n\")\n",
    "        disconnected = False\n",
    "        connected = True\n",
    "    except:\n",
    "        print(\"impossible de se connecter\\nveuillez patientez\\n\")\n",
    "\n",
    "\n",
    "\n"
   ]
  },
  {
   "cell_type": "code",
   "execution_count": 26,
   "metadata": {},
   "outputs": [],
   "source": [
    "tickers = client.get_ticker()\n"
   ]
  },
  {
   "cell_type": "code",
   "execution_count": 27,
   "metadata": {},
   "outputs": [],
   "source": [
    "list_of_crypto = ['BTCUSDT','ETHUSDT','XRPUSDT','BNBUSDT','OCEANUSDT','OGNUSDT']\n",
    "crypto_info = []\n",
    "for ticker in tickers:\n",
    "    ticker.pop('weightedAvgPrice')\n",
    "    ticker.pop('quoteVolume')\n",
    "    ticker.pop('firstId')\n",
    "    ticker.pop('lastId')\n",
    "    ticker.pop('count')\n",
    "    ticker.pop('highPrice')\n",
    "    ticker.pop('lowPrice')\n",
    "    ticker.pop('lastQty')\n",
    "    ticker.pop('prevClosePrice')\n",
    "    ticker.pop('bidPrice')\n",
    "    ticker.pop('bidQty')\n",
    "    ticker.pop('askPrice')\n",
    "    ticker.pop('askQty')\n",
    "    ticker.pop('volume')\n",
    "    for i in list_of_crypto:\n",
    "        if i == ticker['symbol']:\n",
    "            crypto_info.append(ticker)\n",
    "\n",
    "    \n"
   ]
  },
  {
   "cell_type": "code",
   "execution_count": 33,
   "metadata": {},
   "outputs": [],
   "source": [
    "import pandas as pd\n",
    "\n",
    "\n",
    "\n",
    "crypto_info = pd.DataFrame(crypto_info)\n"
   ]
  },
  {
   "cell_type": "code",
   "execution_count": 35,
   "metadata": {},
   "outputs": [],
   "source": [
    "#trier les indexes pour que 0 correspondents avec maintenant\n",
    "crypto_info.sort_values('priceChangePercent',ascending=False,inplace=True)\n",
    "\n",
    "#refaire les index\n",
    "crypto_info.reset_index(inplace = True)\n",
    "\n",
    "#supprimer un colonnes pas important\n",
    "crypto_info.drop(columns=['index'],inplace=True)\n"
   ]
  },
  {
   "cell_type": "code",
   "execution_count": 36,
   "metadata": {},
   "outputs": [
    {
     "output_type": "execute_result",
     "data": {
      "text/plain": [
       "      symbol     priceChange priceChangePercent       lastPrice  \\\n",
       "0    OGNUSDT      0.07160000              3.142      2.35060000   \n",
       "1    BNBUSDT      2.58760000              0.502    518.07290000   \n",
       "2    ETHUSDT    -56.93000000             -2.334   2381.94000000   \n",
       "3    BTCUSDT  -1131.35000000             -1.831  60646.20000000   \n",
       "4  OCEANUSDT     -0.01320000             -0.782      1.67530000   \n",
       "5    XRPUSDT     -0.00846000             -0.532      1.58068000   \n",
       "\n",
       "        openPrice       openTime      closeTime  \n",
       "0      2.27900000  1618604847444  1618691247444  \n",
       "1    515.48530000  1618604847501  1618691247501  \n",
       "2   2438.87000000  1618604847502  1618691247502  \n",
       "3  61777.55000000  1618604847501  1618691247501  \n",
       "4      1.68850000  1618604846941  1618691246941  \n",
       "5      1.58914000  1618604847437  1618691247437  "
      ],
      "text/html": "<div>\n<style scoped>\n    .dataframe tbody tr th:only-of-type {\n        vertical-align: middle;\n    }\n\n    .dataframe tbody tr th {\n        vertical-align: top;\n    }\n\n    .dataframe thead th {\n        text-align: right;\n    }\n</style>\n<table border=\"1\" class=\"dataframe\">\n  <thead>\n    <tr style=\"text-align: right;\">\n      <th></th>\n      <th>symbol</th>\n      <th>priceChange</th>\n      <th>priceChangePercent</th>\n      <th>lastPrice</th>\n      <th>openPrice</th>\n      <th>openTime</th>\n      <th>closeTime</th>\n    </tr>\n  </thead>\n  <tbody>\n    <tr>\n      <th>0</th>\n      <td>OGNUSDT</td>\n      <td>0.07160000</td>\n      <td>3.142</td>\n      <td>2.35060000</td>\n      <td>2.27900000</td>\n      <td>1618604847444</td>\n      <td>1618691247444</td>\n    </tr>\n    <tr>\n      <th>1</th>\n      <td>BNBUSDT</td>\n      <td>2.58760000</td>\n      <td>0.502</td>\n      <td>518.07290000</td>\n      <td>515.48530000</td>\n      <td>1618604847501</td>\n      <td>1618691247501</td>\n    </tr>\n    <tr>\n      <th>2</th>\n      <td>ETHUSDT</td>\n      <td>-56.93000000</td>\n      <td>-2.334</td>\n      <td>2381.94000000</td>\n      <td>2438.87000000</td>\n      <td>1618604847502</td>\n      <td>1618691247502</td>\n    </tr>\n    <tr>\n      <th>3</th>\n      <td>BTCUSDT</td>\n      <td>-1131.35000000</td>\n      <td>-1.831</td>\n      <td>60646.20000000</td>\n      <td>61777.55000000</td>\n      <td>1618604847501</td>\n      <td>1618691247501</td>\n    </tr>\n    <tr>\n      <th>4</th>\n      <td>OCEANUSDT</td>\n      <td>-0.01320000</td>\n      <td>-0.782</td>\n      <td>1.67530000</td>\n      <td>1.68850000</td>\n      <td>1618604846941</td>\n      <td>1618691246941</td>\n    </tr>\n    <tr>\n      <th>5</th>\n      <td>XRPUSDT</td>\n      <td>-0.00846000</td>\n      <td>-0.532</td>\n      <td>1.58068000</td>\n      <td>1.58914000</td>\n      <td>1618604847437</td>\n      <td>1618691247437</td>\n    </tr>\n  </tbody>\n</table>\n</div>"
     },
     "metadata": {},
     "execution_count": 36
    }
   ],
   "source": [
    "crypto_info"
   ]
  }
 ]
}