{
 "cells": [
  {
   "cell_type": "code",
   "execution_count": 1,
   "metadata": {},
   "outputs": [
    {
     "data": {
      "text/plain": [
       "environ{'SHELL': '/usr/bin/zsh',\n",
       "        'SESSION_MANAGER': 'local/mercy:@/tmp/.ICE-unix/883,unix/mercy:/tmp/.ICE-unix/883',\n",
       "        'QT_ACCESSIBILITY': '1',\n",
       "        'VSCODE_VERBOSE_LOGGING': 'true',\n",
       "        'PYTHONUNBUFFERED': '1',\n",
       "        'XDG_MENU_PREFIX': 'gnome-',\n",
       "        'GNOME_DESKTOP_SESSION_ID': 'this-is-deprecated',\n",
       "        'APPLICATION_INSIGHTS_NO_DIAGNOSTIC_CHANNEL': 'true',\n",
       "        'VSCODE_LOG_STACK': 'false',\n",
       "        'LESS_TERMCAP_se': '\\x1b[0m',\n",
       "        'LESS_TERMCAP_so': '\\x1b[01;33m',\n",
       "        'POWERSHELL_TELEMETRY_OPTOUT': '1',\n",
       "        'SSH_AUTH_SOCK': '/run/user/1000/keyring/ssh',\n",
       "        'DOTNET_CLI_TELEMETRY_OPTOUT': '1',\n",
       "        'BREAKPAD_DUMP_LOCATION': '/home/mercy/.config/Code/exthost Crash Reports',\n",
       "        'ELECTRON_RUN_AS_NODE': '1',\n",
       "        'XMODIFIERS': '@im=ibus',\n",
       "        'DESKTOP_SESSION': 'gnome',\n",
       "        'VSCODE_PIPE_LOGGING': 'true',\n",
       "        'VSCODE_AMD_ENTRYPOINT': 'vs/workbench/services/extensions/node/extensionHostProcess',\n",
       "        'GTK_MODULES': 'gail:atk-bridge',\n",
       "        'PWD': '/home/mercy',\n",
       "        'XDG_SESSION_DESKTOP': 'gnome',\n",
       "        'LOGNAME': 'mercy',\n",
       "        'QT_QPA_PLATFORMTHEME': 'qt5ct',\n",
       "        'XDG_SESSION_TYPE': 'wayland',\n",
       "        'SYSTEMD_EXEC_PID': '794',\n",
       "        'VSCODE_CODE_CACHE_PATH': '/home/mercy/.config/Code/CachedData/f80445acd5a3dadef24aa209168452a3d97cc326',\n",
       "        'XAUTHORITY': '/run/user/1000/.mutter-Xwaylandauth.OI5WH1',\n",
       "        'GJS_DEBUG_TOPICS': 'JS ERROR;JS LOG',\n",
       "        'COMMAND_NOT_FOUND_INSTALL_PROMPT': '1',\n",
       "        'GDM_LANG': 'en_US.UTF-8',\n",
       "        'HOME': '/home/mercy',\n",
       "        'USERNAME': 'mercy',\n",
       "        'LANG': 'en_US.UTF-8',\n",
       "        'VSCODE_IPC_HOOK_EXTHOST': '/run/user/1000/vscode-ipc-4b6cedc4-ab26-4c5c-b7b6-5e7842dfbc43.sock',\n",
       "        'LS_COLORS': '',\n",
       "        'XDG_CURRENT_DESKTOP': 'GNOME',\n",
       "        'VIRTUAL_ENV': '/home/mercy/github/tradeapp/venv',\n",
       "        'VSCODE_IPC_HOOK': '/run/user/1000/vscode-bf6b7a94-1.64.2-main.sock',\n",
       "        'WAYLAND_DISPLAY': 'wayland-0',\n",
       "        'CHROME_DESKTOP': 'code-url-handler.desktop',\n",
       "        'GJS_DEBUG_OUTPUT': 'stderr',\n",
       "        'GNOME_SETUP_DISPLAY': ':1',\n",
       "        'XDG_SESSION_CLASS': 'user',\n",
       "        'LESS_TERMCAP_mb': '\\x1b[1;31m',\n",
       "        'LESS_TERMCAP_me': '\\x1b[0m',\n",
       "        'LESS_TERMCAP_md': '\\x1b[1;36m',\n",
       "        'USER': 'mercy',\n",
       "        'PYTHONIOENCODING': 'utf-8',\n",
       "        'DISPLAY': ':0',\n",
       "        'VSCODE_PID': '82374',\n",
       "        'LESS_TERMCAP_ue': '\\x1b[0m',\n",
       "        'SHLVL': '0',\n",
       "        'LESS_TERMCAP_us': '\\x1b[1;32m',\n",
       "        'QT_IM_MODULE': 'ibus',\n",
       "        'VSCODE_CWD': '/home/mercy',\n",
       "        'XDG_RUNTIME_DIR': '/run/user/1000',\n",
       "        'PS1': '(venv) ',\n",
       "        'VSCODE_CRASH_REPORTER_START_OPTIONS': '{\"companyName\":\"Microsoft\",\"productName\":\"VSCode\",\"submitURL\":\"appcenter://code?aid=fba07a4d-84bd-4fc8-a125-9640fc8ce171&uid=ea4cc1a7-1991-4f6c-8a6f-36461f5a576f&iid=ea4cc1a7-1991-4f6c-8a6f-36461f5a576f&sid=ea4cc1a7-1991-4f6c-8a6f-36461f5a576f\",\"uploadToServer\":true}',\n",
       "        'QT_AUTO_SCREEN_SCALE_FACTOR': '0',\n",
       "        'XDG_DATA_DIRS': '/usr/share/gnome:/usr/local/share/:/usr/share/:/var/lib/snapd/desktop',\n",
       "        'GDK_BACKEND': 'x11',\n",
       "        'PATH': '/home/mercy/github/tradeapp/venv/bin:/usr/local/sbin:/usr/sbin:/sbin:/usr/local/bin:/usr/bin:/bin:/usr/local/games:/usr/games:/snap/bin:/home/mercy/.dotnet/tools',\n",
       "        'GDMSESSION': 'gnome',\n",
       "        'ORIGINAL_XDG_CURRENT_DESKTOP': 'GNOME',\n",
       "        'DBUS_SESSION_BUS_ADDRESS': 'unix:path=/run/user/1000/bus',\n",
       "        'VSCODE_NLS_CONFIG': '{\"locale\":\"en-us\",\"availableLanguages\":{},\"_languagePackSupport\":true}',\n",
       "        'VSCODE_LOG_NATIVE': 'false',\n",
       "        '_JAVA_OPTIONS': '-Dawt.useSystemAAFontSettings=on -Dswing.aatext=true',\n",
       "        'GIO_LAUNCHED_DESKTOP_FILE_PID': '82374',\n",
       "        'GIO_LAUNCHED_DESKTOP_FILE': '/usr/share/applications/code.desktop',\n",
       "        'VSCODE_HANDLES_UNCAUGHT_ERRORS': 'true',\n",
       "        'OLDPWD': '/home/mercy',\n",
       "        '_': '/home/mercy/github/tradeapp/venv/bin/python',\n",
       "        'PYDEVD_USE_FRAME_EVAL': 'NO',\n",
       "        'TERM': 'xterm-color',\n",
       "        'CLICOLOR': '1',\n",
       "        'PAGER': 'cat',\n",
       "        'GIT_PAGER': 'cat',\n",
       "        'MPLBACKEND': 'module://matplotlib_inline.backend_inline'}"
      ]
     },
     "execution_count": 1,
     "metadata": {},
     "output_type": "execute_result"
    }
   ],
   "source": [
    "import os\n",
    "\n",
    "os.environ"
   ]
  }
 ],
 "metadata": {
  "interpreter": {
   "hash": "e161870791cb7e8c196cfc52649a7e13cc70492e76fe9212255fa553a2089c81"
  },
  "kernelspec": {
   "display_name": "Python 3.9.7 ('venv': venv)",
   "language": "python",
   "name": "python3"
  },
  "language_info": {
   "codemirror_mode": {
    "name": "ipython",
    "version": 3
   },
   "file_extension": ".py",
   "mimetype": "text/x-python",
   "name": "python",
   "nbconvert_exporter": "python",
   "pygments_lexer": "ipython3",
   "version": "3.9.7"
  },
  "orig_nbformat": 4
 },
 "nbformat": 4,
 "nbformat_minor": 2
}
