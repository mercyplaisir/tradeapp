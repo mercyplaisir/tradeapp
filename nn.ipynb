{
 "cells": [
  {
   "cell_type": "code",
   "execution_count": 4,
   "metadata": {},
   "outputs": [
    {
     "name": "stdout",
     "output_type": "stream",
     "text": [
      "day 1 portfolio = 33.0\n",
      "day 2 portfolio = 36.3\n",
      "day 3 portfolio = 39.93\n",
      "day 4 portfolio = 43.923\n",
      "day 5 portfolio = 48.3153\n",
      "day 6 portfolio = 53.14683\n",
      "day 7 portfolio = 58.461513000000004\n",
      "day 8 portfolio = 64.3076643\n",
      "day 9 portfolio = 70.73843073\n",
      "day 10 portfolio = 77.81227380300001\n",
      "day 11 portfolio = 85.5935011833\n",
      "day 12 portfolio = 94.15285130163001\n",
      "day 13 portfolio = 103.56813643179301\n",
      "day 14 portfolio = 113.92495007497232\n",
      "day 15 portfolio = 125.31744508246955\n",
      "day 16 portfolio = 137.8491895907165\n",
      "day 17 portfolio = 151.63410854978815\n",
      "day 18 portfolio = 166.79751940476697\n",
      "day 19 portfolio = 183.47727134524368\n",
      "day 20 portfolio = 201.82499847976806\n",
      "day 21 portfolio = 222.00749832774486\n",
      "day 22 portfolio = 244.20824816051933\n",
      "day 23 portfolio = 268.62907297657125\n",
      "day 24 portfolio = 295.49198027422835\n",
      "day 25 portfolio = 325.0411783016512\n",
      "day 26 portfolio = 357.5452961318163\n",
      "day 27 portfolio = 393.299825744998\n",
      "day 28 portfolio = 432.6298083194978\n",
      "day 29 portfolio = 475.8927891514476\n"
     ]
    }
   ],
   "source": [
    "from src.common.tools import Tool as Tl\n",
    "price = 30\n",
    "daily_profit = 10\n",
    "\n",
    "days = 30\n",
    "new=price\n",
    "for i in range(1,days): \n",
    "    new = Tl.percent_calculator(new,daily_profit)\n",
    "    print(f'day {i} portfolio = {new}')"
   ]
  },
  {
   "cell_type": "code",
   "execution_count": 12,
   "metadata": {},
   "outputs": [
    {
     "ename": "RuntimeError",
     "evalue": "This event loop is already running",
     "output_type": "error",
     "traceback": [
      "\u001b[0;31m---------------------------------------------------------------------------\u001b[0m",
      "\u001b[0;31mRuntimeError\u001b[0m                              Traceback (most recent call last)",
      "\u001b[1;32m/home/mercy/github/tradeapp/nn.ipynb Cell 2'\u001b[0m in \u001b[0;36m<module>\u001b[0;34m\u001b[0m\n\u001b[0;32m----> <a href='vscode-notebook-cell:/home/mercy/github/tradeapp/nn.ipynb#ch0000002?line=0'>1</a>\u001b[0m get_kline()\n",
      "\u001b[1;32m/home/mercy/github/tradeapp/nn.ipynb Cell 1'\u001b[0m in \u001b[0;36mget_kline\u001b[0;34m()\u001b[0m\n\u001b[1;32m     <a href='vscode-notebook-cell:/home/mercy/github/tradeapp/nn.ipynb#ch0000000?line=47'>48</a>\u001b[0m \u001b[39mtry\u001b[39;00m:\n\u001b[1;32m     <a href='vscode-notebook-cell:/home/mercy/github/tradeapp/nn.ipynb#ch0000000?line=48'>49</a>\u001b[0m     loop \u001b[39m=\u001b[39m asyncio\u001b[39m.\u001b[39mget_event_loop()\n\u001b[0;32m---> <a href='vscode-notebook-cell:/home/mercy/github/tradeapp/nn.ipynb#ch0000000?line=49'>50</a>\u001b[0m     klines_list: \u001b[39mdict\u001b[39m[\u001b[39mstr\u001b[39m, \u001b[39mdict\u001b[39m] \u001b[39m=\u001b[39m loop\u001b[39m.\u001b[39;49mrun_until_complete(main())\n\u001b[1;32m     <a href='vscode-notebook-cell:/home/mercy/github/tradeapp/nn.ipynb#ch0000000?line=50'>51</a>\u001b[0m     kline_data: \u001b[39mdict\u001b[39m[\u001b[39mstr\u001b[39m, Union[\u001b[39mstr\u001b[39m, \u001b[39mint\u001b[39m, \u001b[39mbool\u001b[39m]] \u001b[39m=\u001b[39m klines_list[\u001b[39m'\u001b[39m\u001b[39mk\u001b[39m\u001b[39m'\u001b[39m]\u001b[39m.\u001b[39mcopy()\n\u001b[1;32m     <a href='vscode-notebook-cell:/home/mercy/github/tradeapp/nn.ipynb#ch0000000?line=51'>52</a>\u001b[0m     \u001b[39mbreak\u001b[39;00m\n",
      "File \u001b[0;32m/usr/lib/python3.9/asyncio/base_events.py:618\u001b[0m, in \u001b[0;36mBaseEventLoop.run_until_complete\u001b[0;34m(self, future)\u001b[0m\n\u001b[1;32m    <a href='file:///usr/lib/python3.9/asyncio/base_events.py?line=606'>607</a>\u001b[0m \u001b[39m\"\"\"Run until the Future is done.\u001b[39;00m\n\u001b[1;32m    <a href='file:///usr/lib/python3.9/asyncio/base_events.py?line=607'>608</a>\u001b[0m \n\u001b[1;32m    <a href='file:///usr/lib/python3.9/asyncio/base_events.py?line=608'>609</a>\u001b[0m \u001b[39mIf the argument is a coroutine, it is wrapped in a Task.\u001b[39;00m\n\u001b[0;32m   (...)\u001b[0m\n\u001b[1;32m    <a href='file:///usr/lib/python3.9/asyncio/base_events.py?line=614'>615</a>\u001b[0m \u001b[39mReturn the Future's result, or raise its exception.\u001b[39;00m\n\u001b[1;32m    <a href='file:///usr/lib/python3.9/asyncio/base_events.py?line=615'>616</a>\u001b[0m \u001b[39m\"\"\"\u001b[39;00m\n\u001b[1;32m    <a href='file:///usr/lib/python3.9/asyncio/base_events.py?line=616'>617</a>\u001b[0m \u001b[39mself\u001b[39m\u001b[39m.\u001b[39m_check_closed()\n\u001b[0;32m--> <a href='file:///usr/lib/python3.9/asyncio/base_events.py?line=617'>618</a>\u001b[0m \u001b[39mself\u001b[39;49m\u001b[39m.\u001b[39;49m_check_running()\n\u001b[1;32m    <a href='file:///usr/lib/python3.9/asyncio/base_events.py?line=619'>620</a>\u001b[0m new_task \u001b[39m=\u001b[39m \u001b[39mnot\u001b[39;00m futures\u001b[39m.\u001b[39misfuture(future)\n\u001b[1;32m    <a href='file:///usr/lib/python3.9/asyncio/base_events.py?line=620'>621</a>\u001b[0m future \u001b[39m=\u001b[39m tasks\u001b[39m.\u001b[39mensure_future(future, loop\u001b[39m=\u001b[39m\u001b[39mself\u001b[39m)\n",
      "File \u001b[0;32m/usr/lib/python3.9/asyncio/base_events.py:578\u001b[0m, in \u001b[0;36mBaseEventLoop._check_running\u001b[0;34m(self)\u001b[0m\n\u001b[1;32m    <a href='file:///usr/lib/python3.9/asyncio/base_events.py?line=575'>576</a>\u001b[0m \u001b[39mdef\u001b[39;00m \u001b[39m_check_running\u001b[39m(\u001b[39mself\u001b[39m):\n\u001b[1;32m    <a href='file:///usr/lib/python3.9/asyncio/base_events.py?line=576'>577</a>\u001b[0m     \u001b[39mif\u001b[39;00m \u001b[39mself\u001b[39m\u001b[39m.\u001b[39mis_running():\n\u001b[0;32m--> <a href='file:///usr/lib/python3.9/asyncio/base_events.py?line=577'>578</a>\u001b[0m         \u001b[39mraise\u001b[39;00m \u001b[39mRuntimeError\u001b[39;00m(\u001b[39m'\u001b[39m\u001b[39mThis event loop is already running\u001b[39m\u001b[39m'\u001b[39m)\n\u001b[1;32m    <a href='file:///usr/lib/python3.9/asyncio/base_events.py?line=578'>579</a>\u001b[0m     \u001b[39mif\u001b[39;00m events\u001b[39m.\u001b[39m_get_running_loop() \u001b[39mis\u001b[39;00m \u001b[39mnot\u001b[39;00m \u001b[39mNone\u001b[39;00m:\n\u001b[1;32m    <a href='file:///usr/lib/python3.9/asyncio/base_events.py?line=579'>580</a>\u001b[0m         \u001b[39mraise\u001b[39;00m \u001b[39mRuntimeError\u001b[39;00m(\n\u001b[1;32m    <a href='file:///usr/lib/python3.9/asyncio/base_events.py?line=580'>581</a>\u001b[0m             \u001b[39m'\u001b[39m\u001b[39mCannot run the event loop while another loop is running\u001b[39m\u001b[39m'\u001b[39m)\n",
      "\u001b[0;31mRuntimeError\u001b[0m: This event loop is already running"
     ]
    }
   ],
   "source": []
  }
 ],
 "metadata": {
  "interpreter": {
   "hash": "e161870791cb7e8c196cfc52649a7e13cc70492e76fe9212255fa553a2089c81"
  },
  "kernelspec": {
   "display_name": "Python 3.9.7 ('venv': venv)",
   "language": "python",
   "name": "python3"
  },
  "language_info": {
   "codemirror_mode": {
    "name": "ipython",
    "version": 3
   },
   "file_extension": ".py",
   "mimetype": "text/x-python",
   "name": "python",
   "nbconvert_exporter": "python",
   "pygments_lexer": "ipython3",
   "version": "3.9.7"
  },
  "orig_nbformat": 4
 },
 "nbformat": 4,
 "nbformat_minor": 2
}
