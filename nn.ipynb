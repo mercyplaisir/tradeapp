{
 "cells": [
  {
   "cell_type": "code",
   "execution_count": 58,
   "metadata": {},
   "outputs": [],
   "source": [
    "data = {\n",
    "    \"BNB\":(\"buy\",9),\n",
    "    \"BTC\":(\"sell\",2),\n",
    "    \"ETH\":(\"sell\",6),\n",
    "    \"ZINC\":(\"buy\",8),\n",
    "    \"GOLD\":(\"buy\",5),\n",
    "    \"hsj\":(\"sell\",4)\n",
    "\n",
    "}"
   ]
  },
  {
   "cell_type": "code",
   "execution_count": 61,
   "metadata": {},
   "outputs": [
    {
     "ename": "KeyError",
     "evalue": "0",
     "output_type": "error",
     "traceback": [
      "\u001b[0;31m---------------------------------------------------------------------------\u001b[0m",
      "\u001b[0;31mKeyError\u001b[0m                                  Traceback (most recent call last)",
      "\u001b[1;32m/home/mercy/github/tradeapp/nn.ipynb Cell 2'\u001b[0m in \u001b[0;36m<module>\u001b[0;34m\u001b[0m\n\u001b[1;32m      <a href='vscode-notebook-cell:/home/mercy/github/tradeapp/nn.ipynb#ch0000006?line=0'>1</a>\u001b[0m draft \u001b[39m=\u001b[39m data\u001b[39m.\u001b[39mcopy()\n\u001b[0;32m----> <a href='vscode-notebook-cell:/home/mercy/github/tradeapp/nn.ipynb#ch0000006?line=1'>2</a>\u001b[0m draft[\u001b[39m0\u001b[39;49m]\n",
      "\u001b[0;31mKeyError\u001b[0m: 0"
     ]
    }
   ],
   "source": []
  },
  {
   "cell_type": "code",
   "execution_count": 50,
   "metadata": {},
   "outputs": [
    {
     "data": {
      "text/plain": [
       "'buy'"
      ]
     },
     "execution_count": 50,
     "metadata": {},
     "output_type": "execute_result"
    }
   ],
   "source": [
    "items = list(data.items())\n",
    "r=[item[1] for cryptopair,item in items]\n",
    "# for item in items:\n",
    "#     cryptopair,dt = item\n",
    "#     decision,times = dt\n",
    "#     r.append(times)\n",
    "print(items)\n",
    "items[r.index(max(r))]"
   ]
  }
 ],
 "metadata": {
  "interpreter": {
   "hash": "e161870791cb7e8c196cfc52649a7e13cc70492e76fe9212255fa553a2089c81"
  },
  "kernelspec": {
   "display_name": "Python 3.9.7 ('venv': venv)",
   "language": "python",
   "name": "python3"
  },
  "language_info": {
   "codemirror_mode": {
    "name": "ipython",
    "version": 3
   },
   "file_extension": ".py",
   "mimetype": "text/x-python",
   "name": "python",
   "nbconvert_exporter": "python",
   "pygments_lexer": "ipython3",
   "version": "3.9.7"
  },
  "orig_nbformat": 4
 },
 "nbformat": 4,
 "nbformat_minor": 2
}
