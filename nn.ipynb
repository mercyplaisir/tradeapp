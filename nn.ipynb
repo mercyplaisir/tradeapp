{
 "cells": [
  {
   "cell_type": "code",
   "execution_count": 1,
   "metadata": {},
   "outputs": [],
   "source": [
    "from indicators import Study\n",
    "from base import CryptoPair\n",
    "\n",
    "cr = CryptoPair('BNBBTC')"
   ]
  },
  {
   "cell_type": "code",
   "execution_count": 3,
   "metadata": {},
   "outputs": [
    {
     "name": "stdout",
     "output_type": "stream",
     "text": [
      "klines for BNBBTC\n"
     ]
    },
    {
     "name": "stderr",
     "output_type": "stream",
     "text": [
      "/home/mercy/github/tradeapp/venv/lib/python3.9/site-packages/btalib/meta/lines.py:302: FutureWarning: The series.append method is deprecated and will be removed from pandas in a future version. Use pandas.concat instead.\n",
      "  trailer = trailprefix.append(series[p2:])\n",
      "/home/mercy/github/tradeapp/venv/lib/python3.9/site-packages/btalib/meta/lines.py:302: FutureWarning: The series.append method is deprecated and will be removed from pandas in a future version. Use pandas.concat instead.\n",
      "  trailer = trailprefix.append(series[p2:])\n",
      "/home/mercy/github/tradeapp/venv/lib/python3.9/site-packages/btalib/meta/lines.py:302: FutureWarning: The series.append method is deprecated and will be removed from pandas in a future version. Use pandas.concat instead.\n",
      "  trailer = trailprefix.append(series[p2:])\n",
      "/home/mercy/github/tradeapp/venv/lib/python3.9/site-packages/btalib/meta/lines.py:302: FutureWarning: The series.append method is deprecated and will be removed from pandas in a future version. Use pandas.concat instead.\n",
      "  trailer = trailprefix.append(series[p2:])\n",
      "/home/mercy/github/tradeapp/venv/lib/python3.9/site-packages/btalib/meta/lines.py:302: FutureWarning: The series.append method is deprecated and will be removed from pandas in a future version. Use pandas.concat instead.\n",
      "  trailer = trailprefix.append(series[p2:])\n"
     ]
    },
    {
     "data": {
      "text/plain": [
       "('buy', 3)"
      ]
     },
     "execution_count": 3,
     "metadata": {},
     "output_type": "execute_result"
    }
   ],
   "source": [
    "cr.decision()"
   ]
  }
 ],
 "metadata": {
  "interpreter": {
   "hash": "e161870791cb7e8c196cfc52649a7e13cc70492e76fe9212255fa553a2089c81"
  },
  "kernelspec": {
   "display_name": "Python 3.9.7 ('venv': venv)",
   "language": "python",
   "name": "python3"
  },
  "language_info": {
   "codemirror_mode": {
    "name": "ipython",
    "version": 3
   },
   "file_extension": ".py",
   "mimetype": "text/x-python",
   "name": "python",
   "nbconvert_exporter": "python",
   "pygments_lexer": "ipython3",
   "version": "3.9.7"
  },
  "orig_nbformat": 4
 },
 "nbformat": 4,
 "nbformat_minor": 2
}
