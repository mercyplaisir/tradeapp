{
 "cells": [
  {
   "cell_type": "code",
   "execution_count": 25,
   "metadata": {},
   "outputs": [
    {
     "ename": "RuntimeError",
     "evalue": "This event loop is already running",
     "output_type": "error",
     "traceback": [
      "\u001b[0;31m---------------------------------------------------------------------------\u001b[0m",
      "\u001b[0;31mRuntimeError\u001b[0m                              Traceback (most recent call last)",
      "\u001b[1;32m/home/mercy/github/tradeapp/nn.ipynb Cell 1'\u001b[0m in \u001b[0;36m<module>\u001b[0;34m\u001b[0m\n\u001b[0;32m----> <a href='vscode-notebook-cell:/home/mercy/github/tradeapp/nn.ipynb#ch0000000?line=0'>1</a>\u001b[0m \u001b[39mfrom\u001b[39;00m \u001b[39mbase\u001b[39;00m \u001b[39mimport\u001b[39;00m Coin\n\u001b[1;32m      <a href='vscode-notebook-cell:/home/mercy/github/tradeapp/nn.ipynb#ch0000000?line=3'>4</a>\u001b[0m Coin(\u001b[39m'\u001b[39m\u001b[39mBNB\u001b[39m\u001b[39m'\u001b[39m)\n",
      "File \u001b[0;32m~/github/tradeapp/base/__init__.py:7\u001b[0m, in \u001b[0;36m<module>\u001b[0;34m\u001b[0m\n\u001b[1;32m      <a href='file:///~/github/tradeapp/base/__init__.py?line=4'>5</a>\u001b[0m \u001b[39mfrom\u001b[39;00m \u001b[39mbase\u001b[39;00m\u001b[39m.\u001b[39;00m\u001b[39mcryptopair\u001b[39;00m \u001b[39mimport\u001b[39;00m CryptoPair\n\u001b[1;32m      <a href='file:///~/github/tradeapp/base/__init__.py?line=5'>6</a>\u001b[0m \u001b[39mfrom\u001b[39;00m \u001b[39mbase\u001b[39;00m\u001b[39m.\u001b[39;00m\u001b[39mexchange\u001b[39;00m \u001b[39mimport\u001b[39;00m Exchange\n\u001b[0;32m----> <a href='file:///~/github/tradeapp/base/__init__.py?line=6'>7</a>\u001b[0m \u001b[39mfrom\u001b[39;00m \u001b[39mbase\u001b[39;00m\u001b[39m.\u001b[39;00m\u001b[39morder\u001b[39;00m \u001b[39mimport\u001b[39;00m Order\n",
      "File \u001b[0;32m~/github/tradeapp/base/order.py:132\u001b[0m, in \u001b[0;36m<module>\u001b[0;34m\u001b[0m\n\u001b[1;32m    <a href='file:///~/github/tradeapp/base/order.py?line=114'>115</a>\u001b[0m d\u001b[39m=\u001b[39m{\n\u001b[1;32m    <a href='file:///~/github/tradeapp/base/order.py?line=115'>116</a>\u001b[0m   \u001b[39m\"\u001b[39m\u001b[39msymbol\u001b[39m\u001b[39m\"\u001b[39m: \u001b[39m\"\u001b[39m\u001b[39mBTCUSDT\u001b[39m\u001b[39m\"\u001b[39m,\n\u001b[1;32m    <a href='file:///~/github/tradeapp/base/order.py?line=116'>117</a>\u001b[0m   \u001b[39m\"\u001b[39m\u001b[39morderId\u001b[39m\u001b[39m\"\u001b[39m: \u001b[39m28\u001b[39m,\n\u001b[0;32m   (...)\u001b[0m\n\u001b[1;32m    <a href='file:///~/github/tradeapp/base/order.py?line=127'>128</a>\u001b[0m   \u001b[39m\"\u001b[39m\u001b[39mside\u001b[39m\u001b[39m\"\u001b[39m: \u001b[39m\"\u001b[39m\u001b[39mSELL\u001b[39m\u001b[39m\"\u001b[39m\n\u001b[1;32m    <a href='file:///~/github/tradeapp/base/order.py?line=128'>129</a>\u001b[0m }\n\u001b[1;32m    <a href='file:///~/github/tradeapp/base/order.py?line=130'>131</a>\u001b[0m order\u001b[39m=\u001b[39mOrder(\u001b[39m*\u001b[39m\u001b[39m*\u001b[39md)\n\u001b[0;32m--> <a href='file:///~/github/tradeapp/base/order.py?line=131'>132</a>\u001b[0m order\u001b[39m.\u001b[39;49mtrack_order()\n\u001b[1;32m    <a href='file:///~/github/tradeapp/base/order.py?line=132'>133</a>\u001b[0m \u001b[39mprint\u001b[39m(order)\n",
      "File \u001b[0;32m~/github/tradeapp/base/order.py:109\u001b[0m, in \u001b[0;36mOrder.track_order\u001b[0;34m(self)\u001b[0m\n\u001b[1;32m    <a href='file:///~/github/tradeapp/base/order.py?line=105'>106</a>\u001b[0m \u001b[39mtry\u001b[39;00m:\n\u001b[1;32m    <a href='file:///~/github/tradeapp/base/order.py?line=106'>107</a>\u001b[0m     loop \u001b[39m=\u001b[39m asyncio\u001b[39m.\u001b[39mget_event_loop()\n\u001b[0;32m--> <a href='file:///~/github/tradeapp/base/order.py?line=108'>109</a>\u001b[0m     loop\u001b[39m.\u001b[39;49mrun_until_complete(main())\n\u001b[1;32m    <a href='file:///~/github/tradeapp/base/order.py?line=109'>110</a>\u001b[0m     \u001b[39mbreak\u001b[39;00m\n\u001b[1;32m    <a href='file:///~/github/tradeapp/base/order.py?line=110'>111</a>\u001b[0m \u001b[39mexcept\u001b[39;00m asyncio\u001b[39m.\u001b[39mexceptions\u001b[39m.\u001b[39mTimeoutError:\n",
      "File \u001b[0;32m/usr/lib/python3.9/asyncio/base_events.py:618\u001b[0m, in \u001b[0;36mBaseEventLoop.run_until_complete\u001b[0;34m(self, future)\u001b[0m\n\u001b[1;32m    <a href='file:///usr/lib/python3.9/asyncio/base_events.py?line=606'>607</a>\u001b[0m \u001b[39m\"\"\"Run until the Future is done.\u001b[39;00m\n\u001b[1;32m    <a href='file:///usr/lib/python3.9/asyncio/base_events.py?line=607'>608</a>\u001b[0m \n\u001b[1;32m    <a href='file:///usr/lib/python3.9/asyncio/base_events.py?line=608'>609</a>\u001b[0m \u001b[39mIf the argument is a coroutine, it is wrapped in a Task.\u001b[39;00m\n\u001b[0;32m   (...)\u001b[0m\n\u001b[1;32m    <a href='file:///usr/lib/python3.9/asyncio/base_events.py?line=614'>615</a>\u001b[0m \u001b[39mReturn the Future's result, or raise its exception.\u001b[39;00m\n\u001b[1;32m    <a href='file:///usr/lib/python3.9/asyncio/base_events.py?line=615'>616</a>\u001b[0m \u001b[39m\"\"\"\u001b[39;00m\n\u001b[1;32m    <a href='file:///usr/lib/python3.9/asyncio/base_events.py?line=616'>617</a>\u001b[0m \u001b[39mself\u001b[39m\u001b[39m.\u001b[39m_check_closed()\n\u001b[0;32m--> <a href='file:///usr/lib/python3.9/asyncio/base_events.py?line=617'>618</a>\u001b[0m \u001b[39mself\u001b[39;49m\u001b[39m.\u001b[39;49m_check_running()\n\u001b[1;32m    <a href='file:///usr/lib/python3.9/asyncio/base_events.py?line=619'>620</a>\u001b[0m new_task \u001b[39m=\u001b[39m \u001b[39mnot\u001b[39;00m futures\u001b[39m.\u001b[39misfuture(future)\n\u001b[1;32m    <a href='file:///usr/lib/python3.9/asyncio/base_events.py?line=620'>621</a>\u001b[0m future \u001b[39m=\u001b[39m tasks\u001b[39m.\u001b[39mensure_future(future, loop\u001b[39m=\u001b[39m\u001b[39mself\u001b[39m)\n",
      "File \u001b[0;32m/usr/lib/python3.9/asyncio/base_events.py:578\u001b[0m, in \u001b[0;36mBaseEventLoop._check_running\u001b[0;34m(self)\u001b[0m\n\u001b[1;32m    <a href='file:///usr/lib/python3.9/asyncio/base_events.py?line=575'>576</a>\u001b[0m \u001b[39mdef\u001b[39;00m \u001b[39m_check_running\u001b[39m(\u001b[39mself\u001b[39m):\n\u001b[1;32m    <a href='file:///usr/lib/python3.9/asyncio/base_events.py?line=576'>577</a>\u001b[0m     \u001b[39mif\u001b[39;00m \u001b[39mself\u001b[39m\u001b[39m.\u001b[39mis_running():\n\u001b[0;32m--> <a href='file:///usr/lib/python3.9/asyncio/base_events.py?line=577'>578</a>\u001b[0m         \u001b[39mraise\u001b[39;00m \u001b[39mRuntimeError\u001b[39;00m(\u001b[39m'\u001b[39m\u001b[39mThis event loop is already running\u001b[39m\u001b[39m'\u001b[39m)\n\u001b[1;32m    <a href='file:///usr/lib/python3.9/asyncio/base_events.py?line=578'>579</a>\u001b[0m     \u001b[39mif\u001b[39;00m events\u001b[39m.\u001b[39m_get_running_loop() \u001b[39mis\u001b[39;00m \u001b[39mnot\u001b[39;00m \u001b[39mNone\u001b[39;00m:\n\u001b[1;32m    <a href='file:///usr/lib/python3.9/asyncio/base_events.py?line=579'>580</a>\u001b[0m         \u001b[39mraise\u001b[39;00m \u001b[39mRuntimeError\u001b[39;00m(\n\u001b[1;32m    <a href='file:///usr/lib/python3.9/asyncio/base_events.py?line=580'>581</a>\u001b[0m             \u001b[39m'\u001b[39m\u001b[39mCannot run the event loop while another loop is running\u001b[39m\u001b[39m'\u001b[39m)\n",
      "\u001b[0;31mRuntimeError\u001b[0m: This event loop is already running"
     ]
    }
   ],
   "source": []
  },
  {
   "cell_type": "code",
   "execution_count": 3,
   "metadata": {},
   "outputs": [
    {
     "name": "stdout",
     "output_type": "stream",
     "text": [
      "day-0->  0.6    ||  1.5 || 3.0 \n",
      "day-1->  0.6    ||  1.6 || 3.3 \n",
      "day-2->  0.7    ||  1.8 || 3.6 \n",
      "day-3->  0.7    ||  1.9 || 3.9 \n",
      "day-4->  0.8    ||  2.1 || 4.3 \n",
      "day-5->  0.9    ||  2.4 || 4.8 \n",
      "day-6->  1.0    ||  2.6 || 5.3 \n",
      "day-7->  1.1    ||  2.9 || 5.8 \n",
      "day-8->  1.2    ||  3.2 || 6.4 \n",
      "day-9->  1.4    ||  3.5 || 7.0 \n",
      "day-10->  1.5    ||  3.8 || 7.7 \n",
      "day-11->  1.7    ||  4.2 || 8.5 \n",
      "day-12->  1.8    ||  4.7 || 9.4 \n",
      "day-13->  2.0    ||  5.1 || 10. \n",
      "day-14->  2.2    ||  5.6 || 11. \n",
      "day-15->  2.5    ||  6.2 || 12. \n",
      "day-16->  2.7    ||  6.8 || 13. \n",
      "day-17->  3.0    ||  7.5 || 15. \n",
      "day-18->  3.3    ||  8.3 || 16. \n",
      "day-19->  3.6    ||  9.1 || 18. \n",
      "day-20->  4.0    ||  10. || 20. \n",
      "day-21->  4.4    ||  11. || 22. \n",
      "day-22->  4.8    ||  12. || 24. \n",
      "day-23->  5.3    ||  13. || 26. \n",
      "day-24->  5.9    ||  14. || 29. \n",
      "day-25->  6.5    ||  16. || 32. \n",
      "day-26->  7.1    ||  17. || 35. \n",
      "day-27->  7.8    ||  19. || 39. \n",
      "day-28->  8.6    ||  21. || 43. \n",
      "day-29->  9.5    ||  23. || 47. \n"
     ]
    }
   ],
   "source": [
    "import pandas as pd\n",
    "price=30\n",
    "percent_per_day = 10\n",
    "days=30\n",
    "\n",
    "df =pd.DataFrame(columns=[\"2%\",\"5%\",\"10%\"])\n",
    "\n",
    "for day in range(days):\n",
    "    profit_per_day =(price*percent_per_day/100)\n",
    "    price = price+profit_per_day\n",
    "    print(f'day-{day}->  {str(profit_per_day/5)[:3]}    ||  {str(profit_per_day/2)[:3]} || {str(profit_per_day)[:3]} ')\n",
    "\n",
    "# df"
   ]
  }
 ],
 "metadata": {
  "interpreter": {
   "hash": "e161870791cb7e8c196cfc52649a7e13cc70492e76fe9212255fa553a2089c81"
  },
  "kernelspec": {
   "display_name": "Python 3.9.7 ('venv': venv)",
   "language": "python",
   "name": "python3"
  },
  "language_info": {
   "codemirror_mode": {
    "name": "ipython",
    "version": 3
   },
   "file_extension": ".py",
   "mimetype": "text/x-python",
   "name": "python",
   "nbconvert_exporter": "python",
   "pygments_lexer": "ipython3",
   "version": "3.9.7"
  },
  "orig_nbformat": 4
 },
 "nbformat": 4,
 "nbformat_minor": 2
}
