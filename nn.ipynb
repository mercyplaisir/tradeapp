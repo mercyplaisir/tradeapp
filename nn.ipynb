{
 "cells": [
  {
   "cell_type": "code",
   "execution_count": 11,
   "metadata": {},
   "outputs": [],
   "source": [
    "import requests\n",
    "\n",
    "url = \"https://api.coingecko.com/api/v3/coins/markets?vs_currency=usd&order=market_cap_desc&per_page=50&page=1&sparkline=false\"\n",
    "\n",
    "res = requests.get(url).json()"
   ]
  },
  {
   "cell_type": "code",
   "execution_count": 12,
   "metadata": {},
   "outputs": [],
   "source": [
    "import sys\n",
    "# sys.path.append('..')\n",
    "from base import Coin\n"
   ]
  },
  {
   "cell_type": "code",
   "execution_count": 13,
   "metadata": {},
   "outputs": [],
   "source": [
    "coins = [coin.name for coin in Coin.get_all_coins()]\n",
    "symbols = [r['symbol'].upper() for r in res]"
   ]
  },
  {
   "cell_type": "code",
   "execution_count": 14,
   "metadata": {},
   "outputs": [],
   "source": [
    "nn = [c for c in coins if c  not in symbols]"
   ]
  },
  {
   "cell_type": "code",
   "execution_count": 18,
   "metadata": {},
   "outputs": [
    {
     "name": "stdout",
     "output_type": "stream",
     "text": [
      "('1INCH', 'AAVE', 'ANKR', 'AR', 'BAT', 'BNT', 'BTG', 'C98', 'CAKE', 'CELO', 'CELR', 'CHR', 'CHZ', 'CKB', 'COMP', 'COTI', 'CRV', 'DASH', 'DCR', 'DENT', 'DGB', 'DYDX', 'ENJ', 'EOS', 'FET', 'FLOW', 'GALA', 'GNO', 'GRT', 'HIVE', 'HNT', 'HOT', 'ICX', 'ILV', 'INJ', 'IOST', 'IOTX', 'KAVA', 'KSM', 'LPT', 'LRC', 'LSK', 'MINA', 'MIR', 'MKR', 'NEO', 'ONE', 'ONT', 'PERP', 'POLY', 'QNT', 'QTUM', 'RAY', 'REN', 'ROSE', 'RUNE', 'RVN', 'SC', 'SKL', 'SNX', 'SRM', 'STX', 'SUSHI', 'SXP', 'SYS', 'TFUEL', 'TRIBE', 'TWT', 'UMA', 'WAVES', 'WAXP', 'WIN', 'WRX', 'XEM', 'YFI', 'YGG', 'ZEC', 'ZEN', 'ZIL', 'ZRX')\n"
     ]
    }
   ],
   "source": [
    "print(tuple(nn))"
   ]
  }
 ],
 "metadata": {
  "interpreter": {
   "hash": "e161870791cb7e8c196cfc52649a7e13cc70492e76fe9212255fa553a2089c81"
  },
  "kernelspec": {
   "display_name": "Python 3.9.7 ('venv': venv)",
   "language": "python",
   "name": "python3"
  },
  "language_info": {
   "codemirror_mode": {
    "name": "ipython",
    "version": 3
   },
   "file_extension": ".py",
   "mimetype": "text/x-python",
   "name": "python",
   "nbconvert_exporter": "python",
   "pygments_lexer": "ipython3",
   "version": "3.9.7"
  },
  "orig_nbformat": 4
 },
 "nbformat": 4,
 "nbformat_minor": 2
}
