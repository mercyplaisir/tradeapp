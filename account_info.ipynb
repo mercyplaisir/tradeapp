{
 "metadata": {
  "language_info": {
   "codemirror_mode": {
    "name": "ipython",
    "version": 3
   },
   "file_extension": ".py",
   "mimetype": "text/x-python",
   "name": "python",
   "nbconvert_exporter": "python",
   "pygments_lexer": "ipython3",
   "version": "3.8.5-final"
  },
  "orig_nbformat": 2,
  "kernelspec": {
   "name": "python385jvsc74a57bd031f2aee4e71d21fbe5cf8b01ff0e069b9275f58929596ceb00d14d90e3e16cd6",
   "display_name": "Python 3.8.5 64-bit"
  },
  "metadata": {
   "interpreter": {
    "hash": "31f2aee4e71d21fbe5cf8b01ff0e069b9275f58929596ceb00d14d90e3e16cd6"
   }
  }
 },
 "nbformat": 4,
 "nbformat_minor": 2,
 "cells": [
  {
   "cell_type": "code",
   "execution_count": 61,
   "metadata": {},
   "outputs": [
    {
     "output_type": "stream",
     "name": "stdout",
     "text": [
      "vous etes connecter\n",
      "\n",
      "info recuperer\n"
     ]
    }
   ],
   "source": [
    "import json\n",
    "import numpy as np\n",
    "import pandas as pd\n",
    "from binance.client import Client\n",
    "import e #contains the api and secret keys\n",
    "import math\n",
    "import Coinpaprika\n",
    "import datetime\n",
    "import time\n",
    "\n",
    "\n",
    "#boucle pour se connecter\n",
    "disconnected = True\n",
    "while disconnected:\n",
    "    try :\n",
    "        client = Client(e.api_key, e.secret_key)\n",
    "        print(\"vous etes connecter\\n\")\n",
    "        disconnected = False\n",
    "        connected = True\n",
    "    except:\n",
    "        print(\"impossible de se connecter\\nveuillez patientez\\n\")\n",
    "\n",
    "\n",
    "#---------fin-------------\n",
    "get_info_error = True\n",
    "while get_info_error:\n",
    "    #get all the info of my  account\n",
    "    try:\n",
    "        info = client.get_margin_account()\n",
    "\n",
    "        print('info recuperer')\n",
    "        get_info_error = False\n",
    "    except:\n",
    "        print('impossible de recuperer les infos')\n",
    "balance_dataframe= pd.DataFrame(info['userAssets'])\n",
    "#supprimer BNB pour qu'il ne nous derange pas\n",
    "#balance_dataframe.drop(index=52,inplace=True)\n",
    "\n",
    "#sort the portfolio by the quantity\n",
    "\n",
    "#sort the portfolio by the quantity\n",
    "balance_dataframe.sort_values('free',ascending= False, inplace= True)\n",
    "#refaire les index\n",
    "balance_dataframe.reset_index(inplace = True)\n",
    "\n",
    "#supprimer un colonnes pas important\n",
    "balance_dataframe.drop(columns=['index'],inplace=True)\n",
    "#--------------------------------------------------------------------\n",
    "\n",
    "\n",
    "\n"
   ]
  },
  {
   "cell_type": "code",
   "execution_count": 62,
   "metadata": {},
   "outputs": [
    {
     "output_type": "execute_result",
     "data": {
      "text/plain": [
       "   asset         free locked     borrowed    interest    netAsset\n",
       "0   USDT  14.59031231      0  10.61303789           0  3.97727442\n",
       "1    BNB   0.00796411      0            0  0.00007542  0.00788869\n",
       "2    BTC    0.0000007      0            0           0   0.0000007\n",
       "3  MATIC            0      0            0           0           0\n",
       "4   QTUM            0      0            0           0           0"
      ],
      "text/html": "<div>\n<style scoped>\n    .dataframe tbody tr th:only-of-type {\n        vertical-align: middle;\n    }\n\n    .dataframe tbody tr th {\n        vertical-align: top;\n    }\n\n    .dataframe thead th {\n        text-align: right;\n    }\n</style>\n<table border=\"1\" class=\"dataframe\">\n  <thead>\n    <tr style=\"text-align: right;\">\n      <th></th>\n      <th>asset</th>\n      <th>free</th>\n      <th>locked</th>\n      <th>borrowed</th>\n      <th>interest</th>\n      <th>netAsset</th>\n    </tr>\n  </thead>\n  <tbody>\n    <tr>\n      <th>0</th>\n      <td>USDT</td>\n      <td>14.59031231</td>\n      <td>0</td>\n      <td>10.61303789</td>\n      <td>0</td>\n      <td>3.97727442</td>\n    </tr>\n    <tr>\n      <th>1</th>\n      <td>BNB</td>\n      <td>0.00796411</td>\n      <td>0</td>\n      <td>0</td>\n      <td>0.00007542</td>\n      <td>0.00788869</td>\n    </tr>\n    <tr>\n      <th>2</th>\n      <td>BTC</td>\n      <td>0.0000007</td>\n      <td>0</td>\n      <td>0</td>\n      <td>0</td>\n      <td>0.0000007</td>\n    </tr>\n    <tr>\n      <th>3</th>\n      <td>MATIC</td>\n      <td>0</td>\n      <td>0</td>\n      <td>0</td>\n      <td>0</td>\n      <td>0</td>\n    </tr>\n    <tr>\n      <th>4</th>\n      <td>QTUM</td>\n      <td>0</td>\n      <td>0</td>\n      <td>0</td>\n      <td>0</td>\n      <td>0</td>\n    </tr>\n  </tbody>\n</table>\n</div>"
     },
     "metadata": {},
     "execution_count": 62
    }
   ],
   "source": [
    "balance_dataframe.head(5)"
   ]
  },
  {
   "cell_type": "code",
   "execution_count": 169,
   "metadata": {},
   "outputs": [],
   "source": [
    "margin_trades = client.get_margin_trades(symbol='BTCUSDT')\n",
    "#change timestamp in datetime\n",
    "for margin_trade in margin_trades:\n",
    "    margin_trade['time'] = datetime.datetime.fromtimestamp(margin_trade['time']/1000)\n",
    "\n",
    "#change in dataframes\n",
    "margin_trades = pd.DataFrame(margin_trades)\n",
    "#delete unuseful colums\n",
    "margin_trades.drop(columns=[ 'id','orderId','isMaker','isBestMatch','isIsolated'],inplace=True)\n",
    "\n",
    "margin_trades[['price', 'qty']] = margin_trades[['price', 'qty']].astype(float)\n",
    "margin_trades['at_price'] = margin_trades['qty'] * margin_trades['price']\n",
    "#margin_trades.transpose(columns = ['time','symbol','price','qty','at_price'])\n",
    "margin_trades['change'] = margin_trades['price'].pct_change()\n",
    "\n",
    "#sort the margin_trades by the time\n",
    "margin_trades.sort_values('time',ascending= False, inplace= True)\n",
    "#refaire les index\n",
    "margin_trades.reset_index(inplace = True)\n",
    "\n",
    "#supprimer un colonnes pas important\n",
    "margin_trades.drop(columns=['index'],inplace=True)\n"
   ]
  },
  {
   "cell_type": "code",
   "execution_count": 170,
   "metadata": {},
   "outputs": [
    {
     "output_type": "execute_result",
     "data": {
      "text/plain": [
       "     symbol     price      qty  commission commissionAsset  \\\n",
       "0   BTCUSDT  62996.54  0.00040  0.00003444             BNB   \n",
       "1   BTCUSDT  62902.12  0.00040  0.00003453             BNB   \n",
       "2   BTCUSDT  62869.33  0.00040  0.00003445             BNB   \n",
       "3   BTCUSDT  63120.00  0.00040  0.00003453             BNB   \n",
       "4   BTCUSDT  63006.67  0.00040  0.00003447             BNB   \n",
       "..      ...       ...      ...         ...             ...   \n",
       "89  BTCUSDT  64375.67  0.00038  0.00003176             BNB   \n",
       "90  BTCUSDT  64346.04  0.00038  0.00003177             BNB   \n",
       "91  BTCUSDT  64397.36  0.00038  0.00003174             BNB   \n",
       "92  BTCUSDT  64363.36  0.00038  0.00003174             BNB   \n",
       "93  BTCUSDT  64355.64  0.00032  0.00002673             BNB   \n",
       "\n",
       "                      time  isBuyer   at_price    change  \n",
       "0  2021-04-15 09:30:48.924    False  25.198616  0.001501  \n",
       "1  2021-04-15 09:26:23.519     True  25.160848  0.000522  \n",
       "2  2021-04-15 09:23:56.441    False  25.147732 -0.003971  \n",
       "3  2021-04-15 09:08:06.975     True  25.248000  0.001799  \n",
       "4  2021-04-15 08:29:33.525    False  25.202668 -0.000976  \n",
       "..                     ...      ...        ...       ...  \n",
       "89 2021-04-14 09:55:24.824     True  24.462755  0.000460  \n",
       "90 2021-04-14 09:55:09.389    False  24.451495 -0.000797  \n",
       "91 2021-04-14 09:53:16.772     True  24.470997  0.000528  \n",
       "92 2021-04-14 09:52:47.023    False  24.458077  0.000120  \n",
       "93 2021-04-14 09:52:30.859     True  20.593805       NaN  \n",
       "\n",
       "[94 rows x 9 columns]"
      ],
      "text/html": "<div>\n<style scoped>\n    .dataframe tbody tr th:only-of-type {\n        vertical-align: middle;\n    }\n\n    .dataframe tbody tr th {\n        vertical-align: top;\n    }\n\n    .dataframe thead th {\n        text-align: right;\n    }\n</style>\n<table border=\"1\" class=\"dataframe\">\n  <thead>\n    <tr style=\"text-align: right;\">\n      <th></th>\n      <th>symbol</th>\n      <th>price</th>\n      <th>qty</th>\n      <th>commission</th>\n      <th>commissionAsset</th>\n      <th>time</th>\n      <th>isBuyer</th>\n      <th>at_price</th>\n      <th>change</th>\n    </tr>\n  </thead>\n  <tbody>\n    <tr>\n      <th>0</th>\n      <td>BTCUSDT</td>\n      <td>62996.54</td>\n      <td>0.00040</td>\n      <td>0.00003444</td>\n      <td>BNB</td>\n      <td>2021-04-15 09:30:48.924</td>\n      <td>False</td>\n      <td>25.198616</td>\n      <td>0.001501</td>\n    </tr>\n    <tr>\n      <th>1</th>\n      <td>BTCUSDT</td>\n      <td>62902.12</td>\n      <td>0.00040</td>\n      <td>0.00003453</td>\n      <td>BNB</td>\n      <td>2021-04-15 09:26:23.519</td>\n      <td>True</td>\n      <td>25.160848</td>\n      <td>0.000522</td>\n    </tr>\n    <tr>\n      <th>2</th>\n      <td>BTCUSDT</td>\n      <td>62869.33</td>\n      <td>0.00040</td>\n      <td>0.00003445</td>\n      <td>BNB</td>\n      <td>2021-04-15 09:23:56.441</td>\n      <td>False</td>\n      <td>25.147732</td>\n      <td>-0.003971</td>\n    </tr>\n    <tr>\n      <th>3</th>\n      <td>BTCUSDT</td>\n      <td>63120.00</td>\n      <td>0.00040</td>\n      <td>0.00003453</td>\n      <td>BNB</td>\n      <td>2021-04-15 09:08:06.975</td>\n      <td>True</td>\n      <td>25.248000</td>\n      <td>0.001799</td>\n    </tr>\n    <tr>\n      <th>4</th>\n      <td>BTCUSDT</td>\n      <td>63006.67</td>\n      <td>0.00040</td>\n      <td>0.00003447</td>\n      <td>BNB</td>\n      <td>2021-04-15 08:29:33.525</td>\n      <td>False</td>\n      <td>25.202668</td>\n      <td>-0.000976</td>\n    </tr>\n    <tr>\n      <th>...</th>\n      <td>...</td>\n      <td>...</td>\n      <td>...</td>\n      <td>...</td>\n      <td>...</td>\n      <td>...</td>\n      <td>...</td>\n      <td>...</td>\n      <td>...</td>\n    </tr>\n    <tr>\n      <th>89</th>\n      <td>BTCUSDT</td>\n      <td>64375.67</td>\n      <td>0.00038</td>\n      <td>0.00003176</td>\n      <td>BNB</td>\n      <td>2021-04-14 09:55:24.824</td>\n      <td>True</td>\n      <td>24.462755</td>\n      <td>0.000460</td>\n    </tr>\n    <tr>\n      <th>90</th>\n      <td>BTCUSDT</td>\n      <td>64346.04</td>\n      <td>0.00038</td>\n      <td>0.00003177</td>\n      <td>BNB</td>\n      <td>2021-04-14 09:55:09.389</td>\n      <td>False</td>\n      <td>24.451495</td>\n      <td>-0.000797</td>\n    </tr>\n    <tr>\n      <th>91</th>\n      <td>BTCUSDT</td>\n      <td>64397.36</td>\n      <td>0.00038</td>\n      <td>0.00003174</td>\n      <td>BNB</td>\n      <td>2021-04-14 09:53:16.772</td>\n      <td>True</td>\n      <td>24.470997</td>\n      <td>0.000528</td>\n    </tr>\n    <tr>\n      <th>92</th>\n      <td>BTCUSDT</td>\n      <td>64363.36</td>\n      <td>0.00038</td>\n      <td>0.00003174</td>\n      <td>BNB</td>\n      <td>2021-04-14 09:52:47.023</td>\n      <td>False</td>\n      <td>24.458077</td>\n      <td>0.000120</td>\n    </tr>\n    <tr>\n      <th>93</th>\n      <td>BTCUSDT</td>\n      <td>64355.64</td>\n      <td>0.00032</td>\n      <td>0.00002673</td>\n      <td>BNB</td>\n      <td>2021-04-14 09:52:30.859</td>\n      <td>True</td>\n      <td>20.593805</td>\n      <td>NaN</td>\n    </tr>\n  </tbody>\n</table>\n<p>94 rows × 9 columns</p>\n</div>"
     },
     "metadata": {},
     "execution_count": 170
    }
   ],
   "source": [
    "margin_trades"
   ]
  }
 ]
}